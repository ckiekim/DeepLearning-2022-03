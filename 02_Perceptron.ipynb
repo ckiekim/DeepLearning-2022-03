{
  "nbformat": 4,
  "nbformat_minor": 0,
  "metadata": {
    "colab": {
      "name": "02_Perceptron.ipynb",
      "provenance": [],
      "collapsed_sections": []
    },
    "kernelspec": {
      "name": "python3",
      "display_name": "Python 3"
    },
    "language_info": {
      "name": "python"
    }
  },
  "cells": [
    {
      "cell_type": "markdown",
      "source": [
        "# Unit 2. Perceptron"
      ],
      "metadata": {
        "id": "HUilmBsjUixB"
      }
    },
    {
      "cell_type": "code",
      "execution_count": null,
      "metadata": {
        "id": "QmXmNrpgUaWQ"
      },
      "outputs": [],
      "source": [
        "import numpy as np"
      ]
    },
    {
      "cell_type": "markdown",
      "source": [
        "- AND gate"
      ],
      "metadata": {
        "id": "VB4vOywfVReO"
      }
    },
    {
      "cell_type": "code",
      "source": [
        "weight = np.array([1,1])\n",
        "bias = -1\n",
        "for x1, x2 in [(0,0), (0,1), (1,0), (1,1)]:\n",
        "    sum = weight[0] * x1 + weight[1] * x2 + bias\n",
        "    print(sum)"
      ],
      "metadata": {
        "id": "VtxM8DcsU-XL"
      },
      "execution_count": null,
      "outputs": []
    },
    {
      "cell_type": "code",
      "source": [
        "for x1, x2 in [(0,0), (0,1), (1,0), (1,1)]:\n",
        "    sum = weight[0] * x1 + weight[1] * x2 + bias\n",
        "    print(1 if sum > 0 else 0)"
      ],
      "metadata": {
        "id": "HDsTapYZWB12"
      },
      "execution_count": null,
      "outputs": []
    },
    {
      "cell_type": "code",
      "source": [
        "for x1, x2 in [(0,0), (0,1), (1,0), (1,1)]:\n",
        "    x = np.array([x1, x2])\n",
        "    sum = np.dot(weight, x) + bias\n",
        "    print(1 if sum > 0 else 0)"
      ],
      "metadata": {
        "id": "cYuXtkaxWZCU"
      },
      "execution_count": null,
      "outputs": []
    },
    {
      "cell_type": "code",
      "source": [
        "def and_gate(x1, x2):\n",
        "    weight = np.array([1,1])\n",
        "    bias = -1\n",
        "    X = np.array([x1, x2])\n",
        "    sum = np.dot(weight, X) + bias\n",
        "    return 1 if sum > 0 else 0"
      ],
      "metadata": {
        "id": "4_9WCP52Wlrx"
      },
      "execution_count": null,
      "outputs": []
    },
    {
      "cell_type": "code",
      "source": [
        "for x1, x2 in [(0,0), (0,1), (1,0), (1,1)]:\n",
        "    print(and_gate(x1, x2))"
      ],
      "metadata": {
        "id": "Y5GdajYIXjnN"
      },
      "execution_count": null,
      "outputs": []
    },
    {
      "cell_type": "markdown",
      "source": [
        "- OR gate"
      ],
      "metadata": {
        "id": "gRp2K597YN13"
      }
    },
    {
      "cell_type": "code",
      "source": [
        "weight = np.array([2,2])\n",
        "bias = -1\n",
        "for x1, x2 in [(0,0), (0,1), (1,0), (1,1)]:\n",
        "    sum = weight[0] * x1 + weight[1] * x2 + bias\n",
        "    print(sum)"
      ],
      "metadata": {
        "id": "MXNSs9DtYIlb"
      },
      "execution_count": null,
      "outputs": []
    },
    {
      "cell_type": "code",
      "source": [
        "def or_gate(x1, x2):\n",
        "    weight = np.array([2,2])\n",
        "    bias = -1\n",
        "    X = np.array([x1, x2])\n",
        "    sum = np.dot(weight, X) + bias\n",
        "    return 1 if sum > 0 else 0"
      ],
      "metadata": {
        "id": "cBQtYo-0YnV0"
      },
      "execution_count": null,
      "outputs": []
    },
    {
      "cell_type": "code",
      "source": [
        "for x1, x2 in [(0,0), (0,1), (1,0), (1,1)]:\n",
        "    print(or_gate(x1, x2))"
      ],
      "metadata": {
        "id": "f41gJ5gOYxC9"
      },
      "execution_count": null,
      "outputs": []
    },
    {
      "cell_type": "markdown",
      "source": [
        "- NAND gate"
      ],
      "metadata": {
        "id": "QR_-CA29Y-W6"
      }
    },
    {
      "cell_type": "code",
      "source": [
        "def nand_gate(x1, x2):\n",
        "    weight = np.array([-2,-2])\n",
        "    bias = 3\n",
        "    X = np.array([x1, x2])\n",
        "    sum = np.dot(weight, X) + bias\n",
        "    return 1 if sum > 0 else 0"
      ],
      "metadata": {
        "id": "lTjnLOe0Y0B6"
      },
      "execution_count": null,
      "outputs": []
    },
    {
      "cell_type": "code",
      "source": [
        "for x1, x2 in [(0,0), (0,1), (1,0), (1,1)]:\n",
        "    print(nand_gate(x1, x2))"
      ],
      "metadata": {
        "id": "u0hLeNGMZM9g"
      },
      "execution_count": null,
      "outputs": []
    },
    {
      "cell_type": "markdown",
      "source": [
        "- 종합"
      ],
      "metadata": {
        "id": "c1BhQdCcZfQq"
      }
    },
    {
      "cell_type": "code",
      "source": [
        "print('x1,x2\\t\\tOR\\tAND\\tNAND')\n",
        "for x1, x2 in [(0,0), (0,1), (1,0), (1,1)]:\n",
        "    print(f'{x1:2d},{x2:2d}\\t\\t{or_gate(x1,x2)}\\t{and_gate(x1,x2)}\\t{nand_gate(x1,x2)}')"
      ],
      "metadata": {
        "id": "tK0gNB4iZeeI"
      },
      "execution_count": null,
      "outputs": []
    },
    {
      "cell_type": "code",
      "source": [
        ""
      ],
      "metadata": {
        "id": "BlNOUt8lZQXS"
      },
      "execution_count": null,
      "outputs": []
    }
  ]
}