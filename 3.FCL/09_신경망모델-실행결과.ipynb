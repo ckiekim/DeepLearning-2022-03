{
  "nbformat": 4,
  "nbformat_minor": 0,
  "metadata": {
    "colab": {
      "name": "09_신경망모델.ipynb",
      "provenance": [],
      "collapsed_sections": []
    },
    "kernelspec": {
      "name": "python3",
      "display_name": "Python 3"
    },
    "language_info": {
      "name": "python"
    }
  },
  "cells": [
    {
      "cell_type": "markdown",
      "source": [
        "# Unit 9. 신경망 모델\n",
        "### - 이진 분류 - 유방암 예측 사례"
      ],
      "metadata": {
        "id": "Z-X-A2DWlwiE"
      }
    },
    {
      "cell_type": "code",
      "source": [
        "import numpy as np\n",
        "import pandas as pd\n",
        "import matplotlib.pyplot as plt"
      ],
      "metadata": {
        "id": "TD5BpXhZmLij"
      },
      "execution_count": 1,
      "outputs": []
    },
    {
      "cell_type": "markdown",
      "source": [
        "- 데이터 준비"
      ],
      "metadata": {
        "id": "-zlzcx5toBTi"
      }
    },
    {
      "cell_type": "code",
      "execution_count": 2,
      "metadata": {
        "id": "BN5NDMhzlfrM",
        "colab": {
          "base_uri": "https://localhost:8080/",
          "height": 334
        },
        "outputId": "aaf05f83-f0f9-46d1-f158-42d773d3aca4"
      },
      "outputs": [
        {
          "output_type": "execute_result",
          "data": {
            "text/plain": [
              "   mean radius  mean texture  mean perimeter  mean area  mean smoothness  \\\n",
              "0        17.99         10.38          122.80     1001.0          0.11840   \n",
              "1        20.57         17.77          132.90     1326.0          0.08474   \n",
              "2        19.69         21.25          130.00     1203.0          0.10960   \n",
              "3        11.42         20.38           77.58      386.1          0.14250   \n",
              "4        20.29         14.34          135.10     1297.0          0.10030   \n",
              "\n",
              "   mean compactness  mean concavity  mean concave points  mean symmetry  \\\n",
              "0           0.27760          0.3001              0.14710         0.2419   \n",
              "1           0.07864          0.0869              0.07017         0.1812   \n",
              "2           0.15990          0.1974              0.12790         0.2069   \n",
              "3           0.28390          0.2414              0.10520         0.2597   \n",
              "4           0.13280          0.1980              0.10430         0.1809   \n",
              "\n",
              "   mean fractal dimension  ...  worst texture  worst perimeter  worst area  \\\n",
              "0                 0.07871  ...          17.33           184.60      2019.0   \n",
              "1                 0.05667  ...          23.41           158.80      1956.0   \n",
              "2                 0.05999  ...          25.53           152.50      1709.0   \n",
              "3                 0.09744  ...          26.50            98.87       567.7   \n",
              "4                 0.05883  ...          16.67           152.20      1575.0   \n",
              "\n",
              "   worst smoothness  worst compactness  worst concavity  worst concave points  \\\n",
              "0            0.1622             0.6656           0.7119                0.2654   \n",
              "1            0.1238             0.1866           0.2416                0.1860   \n",
              "2            0.1444             0.4245           0.4504                0.2430   \n",
              "3            0.2098             0.8663           0.6869                0.2575   \n",
              "4            0.1374             0.2050           0.4000                0.1625   \n",
              "\n",
              "   worst symmetry  worst fractal dimension  target  \n",
              "0          0.4601                  0.11890       0  \n",
              "1          0.2750                  0.08902       0  \n",
              "2          0.3613                  0.08758       0  \n",
              "3          0.6638                  0.17300       0  \n",
              "4          0.2364                  0.07678       0  \n",
              "\n",
              "[5 rows x 31 columns]"
            ],
            "text/html": [
              "\n",
              "  <div id=\"df-9ce1e87b-1e6e-4455-8995-80f67bcc0d95\">\n",
              "    <div class=\"colab-df-container\">\n",
              "      <div>\n",
              "<style scoped>\n",
              "    .dataframe tbody tr th:only-of-type {\n",
              "        vertical-align: middle;\n",
              "    }\n",
              "\n",
              "    .dataframe tbody tr th {\n",
              "        vertical-align: top;\n",
              "    }\n",
              "\n",
              "    .dataframe thead th {\n",
              "        text-align: right;\n",
              "    }\n",
              "</style>\n",
              "<table border=\"1\" class=\"dataframe\">\n",
              "  <thead>\n",
              "    <tr style=\"text-align: right;\">\n",
              "      <th></th>\n",
              "      <th>mean radius</th>\n",
              "      <th>mean texture</th>\n",
              "      <th>mean perimeter</th>\n",
              "      <th>mean area</th>\n",
              "      <th>mean smoothness</th>\n",
              "      <th>mean compactness</th>\n",
              "      <th>mean concavity</th>\n",
              "      <th>mean concave points</th>\n",
              "      <th>mean symmetry</th>\n",
              "      <th>mean fractal dimension</th>\n",
              "      <th>...</th>\n",
              "      <th>worst texture</th>\n",
              "      <th>worst perimeter</th>\n",
              "      <th>worst area</th>\n",
              "      <th>worst smoothness</th>\n",
              "      <th>worst compactness</th>\n",
              "      <th>worst concavity</th>\n",
              "      <th>worst concave points</th>\n",
              "      <th>worst symmetry</th>\n",
              "      <th>worst fractal dimension</th>\n",
              "      <th>target</th>\n",
              "    </tr>\n",
              "  </thead>\n",
              "  <tbody>\n",
              "    <tr>\n",
              "      <th>0</th>\n",
              "      <td>17.99</td>\n",
              "      <td>10.38</td>\n",
              "      <td>122.80</td>\n",
              "      <td>1001.0</td>\n",
              "      <td>0.11840</td>\n",
              "      <td>0.27760</td>\n",
              "      <td>0.3001</td>\n",
              "      <td>0.14710</td>\n",
              "      <td>0.2419</td>\n",
              "      <td>0.07871</td>\n",
              "      <td>...</td>\n",
              "      <td>17.33</td>\n",
              "      <td>184.60</td>\n",
              "      <td>2019.0</td>\n",
              "      <td>0.1622</td>\n",
              "      <td>0.6656</td>\n",
              "      <td>0.7119</td>\n",
              "      <td>0.2654</td>\n",
              "      <td>0.4601</td>\n",
              "      <td>0.11890</td>\n",
              "      <td>0</td>\n",
              "    </tr>\n",
              "    <tr>\n",
              "      <th>1</th>\n",
              "      <td>20.57</td>\n",
              "      <td>17.77</td>\n",
              "      <td>132.90</td>\n",
              "      <td>1326.0</td>\n",
              "      <td>0.08474</td>\n",
              "      <td>0.07864</td>\n",
              "      <td>0.0869</td>\n",
              "      <td>0.07017</td>\n",
              "      <td>0.1812</td>\n",
              "      <td>0.05667</td>\n",
              "      <td>...</td>\n",
              "      <td>23.41</td>\n",
              "      <td>158.80</td>\n",
              "      <td>1956.0</td>\n",
              "      <td>0.1238</td>\n",
              "      <td>0.1866</td>\n",
              "      <td>0.2416</td>\n",
              "      <td>0.1860</td>\n",
              "      <td>0.2750</td>\n",
              "      <td>0.08902</td>\n",
              "      <td>0</td>\n",
              "    </tr>\n",
              "    <tr>\n",
              "      <th>2</th>\n",
              "      <td>19.69</td>\n",
              "      <td>21.25</td>\n",
              "      <td>130.00</td>\n",
              "      <td>1203.0</td>\n",
              "      <td>0.10960</td>\n",
              "      <td>0.15990</td>\n",
              "      <td>0.1974</td>\n",
              "      <td>0.12790</td>\n",
              "      <td>0.2069</td>\n",
              "      <td>0.05999</td>\n",
              "      <td>...</td>\n",
              "      <td>25.53</td>\n",
              "      <td>152.50</td>\n",
              "      <td>1709.0</td>\n",
              "      <td>0.1444</td>\n",
              "      <td>0.4245</td>\n",
              "      <td>0.4504</td>\n",
              "      <td>0.2430</td>\n",
              "      <td>0.3613</td>\n",
              "      <td>0.08758</td>\n",
              "      <td>0</td>\n",
              "    </tr>\n",
              "    <tr>\n",
              "      <th>3</th>\n",
              "      <td>11.42</td>\n",
              "      <td>20.38</td>\n",
              "      <td>77.58</td>\n",
              "      <td>386.1</td>\n",
              "      <td>0.14250</td>\n",
              "      <td>0.28390</td>\n",
              "      <td>0.2414</td>\n",
              "      <td>0.10520</td>\n",
              "      <td>0.2597</td>\n",
              "      <td>0.09744</td>\n",
              "      <td>...</td>\n",
              "      <td>26.50</td>\n",
              "      <td>98.87</td>\n",
              "      <td>567.7</td>\n",
              "      <td>0.2098</td>\n",
              "      <td>0.8663</td>\n",
              "      <td>0.6869</td>\n",
              "      <td>0.2575</td>\n",
              "      <td>0.6638</td>\n",
              "      <td>0.17300</td>\n",
              "      <td>0</td>\n",
              "    </tr>\n",
              "    <tr>\n",
              "      <th>4</th>\n",
              "      <td>20.29</td>\n",
              "      <td>14.34</td>\n",
              "      <td>135.10</td>\n",
              "      <td>1297.0</td>\n",
              "      <td>0.10030</td>\n",
              "      <td>0.13280</td>\n",
              "      <td>0.1980</td>\n",
              "      <td>0.10430</td>\n",
              "      <td>0.1809</td>\n",
              "      <td>0.05883</td>\n",
              "      <td>...</td>\n",
              "      <td>16.67</td>\n",
              "      <td>152.20</td>\n",
              "      <td>1575.0</td>\n",
              "      <td>0.1374</td>\n",
              "      <td>0.2050</td>\n",
              "      <td>0.4000</td>\n",
              "      <td>0.1625</td>\n",
              "      <td>0.2364</td>\n",
              "      <td>0.07678</td>\n",
              "      <td>0</td>\n",
              "    </tr>\n",
              "  </tbody>\n",
              "</table>\n",
              "<p>5 rows × 31 columns</p>\n",
              "</div>\n",
              "      <button class=\"colab-df-convert\" onclick=\"convertToInteractive('df-9ce1e87b-1e6e-4455-8995-80f67bcc0d95')\"\n",
              "              title=\"Convert this dataframe to an interactive table.\"\n",
              "              style=\"display:none;\">\n",
              "        \n",
              "  <svg xmlns=\"http://www.w3.org/2000/svg\" height=\"24px\"viewBox=\"0 0 24 24\"\n",
              "       width=\"24px\">\n",
              "    <path d=\"M0 0h24v24H0V0z\" fill=\"none\"/>\n",
              "    <path d=\"M18.56 5.44l.94 2.06.94-2.06 2.06-.94-2.06-.94-.94-2.06-.94 2.06-2.06.94zm-11 1L8.5 8.5l.94-2.06 2.06-.94-2.06-.94L8.5 2.5l-.94 2.06-2.06.94zm10 10l.94 2.06.94-2.06 2.06-.94-2.06-.94-.94-2.06-.94 2.06-2.06.94z\"/><path d=\"M17.41 7.96l-1.37-1.37c-.4-.4-.92-.59-1.43-.59-.52 0-1.04.2-1.43.59L10.3 9.45l-7.72 7.72c-.78.78-.78 2.05 0 2.83L4 21.41c.39.39.9.59 1.41.59.51 0 1.02-.2 1.41-.59l7.78-7.78 2.81-2.81c.8-.78.8-2.07 0-2.86zM5.41 20L4 18.59l7.72-7.72 1.47 1.35L5.41 20z\"/>\n",
              "  </svg>\n",
              "      </button>\n",
              "      \n",
              "  <style>\n",
              "    .colab-df-container {\n",
              "      display:flex;\n",
              "      flex-wrap:wrap;\n",
              "      gap: 12px;\n",
              "    }\n",
              "\n",
              "    .colab-df-convert {\n",
              "      background-color: #E8F0FE;\n",
              "      border: none;\n",
              "      border-radius: 50%;\n",
              "      cursor: pointer;\n",
              "      display: none;\n",
              "      fill: #1967D2;\n",
              "      height: 32px;\n",
              "      padding: 0 0 0 0;\n",
              "      width: 32px;\n",
              "    }\n",
              "\n",
              "    .colab-df-convert:hover {\n",
              "      background-color: #E2EBFA;\n",
              "      box-shadow: 0px 1px 2px rgba(60, 64, 67, 0.3), 0px 1px 3px 1px rgba(60, 64, 67, 0.15);\n",
              "      fill: #174EA6;\n",
              "    }\n",
              "\n",
              "    [theme=dark] .colab-df-convert {\n",
              "      background-color: #3B4455;\n",
              "      fill: #D2E3FC;\n",
              "    }\n",
              "\n",
              "    [theme=dark] .colab-df-convert:hover {\n",
              "      background-color: #434B5C;\n",
              "      box-shadow: 0px 1px 3px 1px rgba(0, 0, 0, 0.15);\n",
              "      filter: drop-shadow(0px 1px 2px rgba(0, 0, 0, 0.3));\n",
              "      fill: #FFFFFF;\n",
              "    }\n",
              "  </style>\n",
              "\n",
              "      <script>\n",
              "        const buttonEl =\n",
              "          document.querySelector('#df-9ce1e87b-1e6e-4455-8995-80f67bcc0d95 button.colab-df-convert');\n",
              "        buttonEl.style.display =\n",
              "          google.colab.kernel.accessAllowed ? 'block' : 'none';\n",
              "\n",
              "        async function convertToInteractive(key) {\n",
              "          const element = document.querySelector('#df-9ce1e87b-1e6e-4455-8995-80f67bcc0d95');\n",
              "          const dataTable =\n",
              "            await google.colab.kernel.invokeFunction('convertToInteractive',\n",
              "                                                     [key], {});\n",
              "          if (!dataTable) return;\n",
              "\n",
              "          const docLinkHtml = 'Like what you see? Visit the ' +\n",
              "            '<a target=\"_blank\" href=https://colab.research.google.com/notebooks/data_table.ipynb>data table notebook</a>'\n",
              "            + ' to learn more about interactive tables.';\n",
              "          element.innerHTML = '';\n",
              "          dataTable['output_type'] = 'display_data';\n",
              "          await google.colab.output.renderOutput(dataTable, element);\n",
              "          const docLink = document.createElement('div');\n",
              "          docLink.innerHTML = docLinkHtml;\n",
              "          element.appendChild(docLink);\n",
              "        }\n",
              "      </script>\n",
              "    </div>\n",
              "  </div>\n",
              "  "
            ]
          },
          "metadata": {},
          "execution_count": 2
        }
      ],
      "source": [
        "from sklearn.datasets import load_breast_cancer\n",
        "cancer = load_breast_cancer()\n",
        "df = pd.DataFrame(cancer.data, columns=cancer.feature_names)\n",
        "df['target'] = cancer.target\n",
        "df.head()"
      ]
    },
    {
      "cell_type": "code",
      "source": [
        "df.shape"
      ],
      "metadata": {
        "colab": {
          "base_uri": "https://localhost:8080/"
        },
        "id": "svpRW5iIPkwY",
        "outputId": "a0648a55-4f25-457a-d05a-78909a2cd1f7"
      },
      "execution_count": 3,
      "outputs": [
        {
          "output_type": "execute_result",
          "data": {
            "text/plain": [
              "(569, 31)"
            ]
          },
          "metadata": {},
          "execution_count": 3
        }
      ]
    },
    {
      "cell_type": "code",
      "source": [
        "from sklearn.model_selection import train_test_split\n",
        "X_train, X_test, y_train, y_test = train_test_split(\n",
        "    cancer.data, cancer.target, stratify=cancer.target, test_size=0.2, random_state=2022\n",
        ")\n",
        "X_train.shape, X_test.shape, y_train.shape, y_test.shape"
      ],
      "metadata": {
        "id": "Dyn3-HGznGqW",
        "colab": {
          "base_uri": "https://localhost:8080/"
        },
        "outputId": "0f1b46ea-524a-4603-b114-c027578ed152"
      },
      "execution_count": 4,
      "outputs": [
        {
          "output_type": "execute_result",
          "data": {
            "text/plain": [
              "((455, 30), (114, 30), (455,), (114,))"
            ]
          },
          "metadata": {},
          "execution_count": 4
        }
      ]
    },
    {
      "cell_type": "markdown",
      "source": [
        "- 모델 정의"
      ],
      "metadata": {
        "id": "0q2mIoPYoHvJ"
      }
    },
    {
      "cell_type": "code",
      "source": [
        "from tensorflow.keras.models import Sequential\n",
        "from tensorflow.keras.layers import Dense"
      ],
      "metadata": {
        "id": "_8Amy7D5np4X"
      },
      "execution_count": 5,
      "outputs": []
    },
    {
      "cell_type": "code",
      "source": [
        "model = Sequential([\n",
        "    Dense(100, input_shape=(30,), activation='relu'),\n",
        "    Dense(24, activation='relu'),\n",
        "    Dense(1, activation='sigmoid')\n",
        "])\n",
        "model.summary()"
      ],
      "metadata": {
        "id": "C-kdkjHfusXa",
        "colab": {
          "base_uri": "https://localhost:8080/"
        },
        "outputId": "8f0fe398-c24c-4b78-8e1a-6eea5f980225"
      },
      "execution_count": 6,
      "outputs": [
        {
          "output_type": "stream",
          "name": "stdout",
          "text": [
            "Model: \"sequential\"\n",
            "_________________________________________________________________\n",
            " Layer (type)                Output Shape              Param #   \n",
            "=================================================================\n",
            " dense (Dense)               (None, 100)               3100      \n",
            "                                                                 \n",
            " dense_1 (Dense)             (None, 24)                2424      \n",
            "                                                                 \n",
            " dense_2 (Dense)             (None, 1)                 25        \n",
            "                                                                 \n",
            "=================================================================\n",
            "Total params: 5,549\n",
            "Trainable params: 5,549\n",
            "Non-trainable params: 0\n",
            "_________________________________________________________________\n"
          ]
        }
      ]
    },
    {
      "cell_type": "markdown",
      "source": [
        "- 모델 설정"
      ],
      "metadata": {
        "id": "evEWBAcDv6Ai"
      }
    },
    {
      "cell_type": "code",
      "source": [
        "model.compile(optimizer='adam', loss='binary_crossentropy', metrics=['accuracy'])"
      ],
      "metadata": {
        "id": "Cy5iuRbcv1QB"
      },
      "execution_count": 7,
      "outputs": []
    },
    {
      "cell_type": "markdown",
      "source": [
        "- 모델 학습"
      ],
      "metadata": {
        "id": "jBOtOphMzllW"
      }
    },
    {
      "cell_type": "code",
      "source": [
        "history = model.fit(X_train, y_train, validation_split=0.2,\n",
        "                    epochs=100, batch_size=50)"
      ],
      "metadata": {
        "id": "ITEwb5V8zj9A",
        "colab": {
          "base_uri": "https://localhost:8080/"
        },
        "outputId": "572b8e25-8f8c-4905-8457-d3e943078434"
      },
      "execution_count": 8,
      "outputs": [
        {
          "output_type": "stream",
          "name": "stdout",
          "text": [
            "Epoch 1/100\n",
            "8/8 [==============================] - 1s 35ms/step - loss: 77.2897 - accuracy: 0.6209 - val_loss: 3.2743 - val_accuracy: 0.2198\n",
            "Epoch 2/100\n",
            "8/8 [==============================] - 0s 7ms/step - loss: 15.9171 - accuracy: 0.3654 - val_loss: 19.2634 - val_accuracy: 0.3516\n",
            "Epoch 3/100\n",
            "8/8 [==============================] - 0s 6ms/step - loss: 9.7101 - accuracy: 0.4396 - val_loss: 8.9285 - val_accuracy: 0.6593\n",
            "Epoch 4/100\n",
            "8/8 [==============================] - 0s 6ms/step - loss: 5.1071 - accuracy: 0.5604 - val_loss: 4.3382 - val_accuracy: 0.3516\n",
            "Epoch 5/100\n",
            "8/8 [==============================] - 0s 6ms/step - loss: 2.4100 - accuracy: 0.6016 - val_loss: 0.8553 - val_accuracy: 0.8242\n",
            "Epoch 6/100\n",
            "8/8 [==============================] - 0s 6ms/step - loss: 0.8057 - accuracy: 0.7005 - val_loss: 0.4781 - val_accuracy: 0.8901\n",
            "Epoch 7/100\n",
            "8/8 [==============================] - 0s 7ms/step - loss: 0.6284 - accuracy: 0.8516 - val_loss: 0.4544 - val_accuracy: 0.8132\n",
            "Epoch 8/100\n",
            "8/8 [==============================] - 0s 9ms/step - loss: 0.3601 - accuracy: 0.8846 - val_loss: 0.3777 - val_accuracy: 0.8462\n",
            "Epoch 9/100\n",
            "8/8 [==============================] - 0s 7ms/step - loss: 0.2644 - accuracy: 0.9121 - val_loss: 0.2865 - val_accuracy: 0.9011\n",
            "Epoch 10/100\n",
            "8/8 [==============================] - 0s 6ms/step - loss: 0.2517 - accuracy: 0.9176 - val_loss: 0.3258 - val_accuracy: 0.9011\n",
            "Epoch 11/100\n",
            "8/8 [==============================] - 0s 6ms/step - loss: 0.2633 - accuracy: 0.8929 - val_loss: 0.2916 - val_accuracy: 0.9011\n",
            "Epoch 12/100\n",
            "8/8 [==============================] - 0s 7ms/step - loss: 0.2176 - accuracy: 0.9203 - val_loss: 0.2828 - val_accuracy: 0.9011\n",
            "Epoch 13/100\n",
            "8/8 [==============================] - 0s 6ms/step - loss: 0.2186 - accuracy: 0.9203 - val_loss: 0.3000 - val_accuracy: 0.9011\n",
            "Epoch 14/100\n",
            "8/8 [==============================] - 0s 6ms/step - loss: 0.2349 - accuracy: 0.9066 - val_loss: 0.2849 - val_accuracy: 0.9011\n",
            "Epoch 15/100\n",
            "8/8 [==============================] - 0s 8ms/step - loss: 0.2118 - accuracy: 0.9313 - val_loss: 0.2755 - val_accuracy: 0.9011\n",
            "Epoch 16/100\n",
            "8/8 [==============================] - 0s 6ms/step - loss: 0.2076 - accuracy: 0.9286 - val_loss: 0.3035 - val_accuracy: 0.9121\n",
            "Epoch 17/100\n",
            "8/8 [==============================] - 0s 6ms/step - loss: 0.2392 - accuracy: 0.9148 - val_loss: 0.2985 - val_accuracy: 0.9231\n",
            "Epoch 18/100\n",
            "8/8 [==============================] - 0s 6ms/step - loss: 0.2601 - accuracy: 0.8929 - val_loss: 0.3531 - val_accuracy: 0.8681\n",
            "Epoch 19/100\n",
            "8/8 [==============================] - 0s 6ms/step - loss: 0.2288 - accuracy: 0.9203 - val_loss: 0.2721 - val_accuracy: 0.9011\n",
            "Epoch 20/100\n",
            "8/8 [==============================] - 0s 6ms/step - loss: 0.2234 - accuracy: 0.9176 - val_loss: 0.2933 - val_accuracy: 0.9231\n",
            "Epoch 21/100\n",
            "8/8 [==============================] - 0s 6ms/step - loss: 0.2549 - accuracy: 0.9093 - val_loss: 0.2842 - val_accuracy: 0.9011\n",
            "Epoch 22/100\n",
            "8/8 [==============================] - 0s 8ms/step - loss: 0.2101 - accuracy: 0.9176 - val_loss: 0.2625 - val_accuracy: 0.9011\n",
            "Epoch 23/100\n",
            "8/8 [==============================] - 0s 7ms/step - loss: 0.2122 - accuracy: 0.9258 - val_loss: 0.2625 - val_accuracy: 0.9121\n",
            "Epoch 24/100\n",
            "8/8 [==============================] - 0s 7ms/step - loss: 0.2051 - accuracy: 0.9341 - val_loss: 0.2616 - val_accuracy: 0.9121\n",
            "Epoch 25/100\n",
            "8/8 [==============================] - 0s 7ms/step - loss: 0.2142 - accuracy: 0.9258 - val_loss: 0.4707 - val_accuracy: 0.8132\n",
            "Epoch 26/100\n",
            "8/8 [==============================] - 0s 6ms/step - loss: 0.3118 - accuracy: 0.8709 - val_loss: 0.4713 - val_accuracy: 0.8352\n",
            "Epoch 27/100\n",
            "8/8 [==============================] - 0s 7ms/step - loss: 0.2893 - accuracy: 0.9066 - val_loss: 0.2574 - val_accuracy: 0.9121\n",
            "Epoch 28/100\n",
            "8/8 [==============================] - 0s 7ms/step - loss: 0.2019 - accuracy: 0.9258 - val_loss: 0.2760 - val_accuracy: 0.9121\n",
            "Epoch 29/100\n",
            "8/8 [==============================] - 0s 7ms/step - loss: 0.1944 - accuracy: 0.9368 - val_loss: 0.2587 - val_accuracy: 0.9011\n",
            "Epoch 30/100\n",
            "8/8 [==============================] - 0s 7ms/step - loss: 0.2150 - accuracy: 0.9313 - val_loss: 0.2656 - val_accuracy: 0.9121\n",
            "Epoch 31/100\n",
            "8/8 [==============================] - 0s 7ms/step - loss: 0.2313 - accuracy: 0.9176 - val_loss: 0.2944 - val_accuracy: 0.9011\n",
            "Epoch 32/100\n",
            "8/8 [==============================] - 0s 9ms/step - loss: 0.2214 - accuracy: 0.9093 - val_loss: 0.2738 - val_accuracy: 0.9011\n",
            "Epoch 33/100\n",
            "8/8 [==============================] - 0s 7ms/step - loss: 0.2010 - accuracy: 0.9231 - val_loss: 0.2573 - val_accuracy: 0.9121\n",
            "Epoch 34/100\n",
            "8/8 [==============================] - 0s 6ms/step - loss: 0.1988 - accuracy: 0.9258 - val_loss: 0.2529 - val_accuracy: 0.9121\n",
            "Epoch 35/100\n",
            "8/8 [==============================] - 0s 7ms/step - loss: 0.1927 - accuracy: 0.9231 - val_loss: 0.2501 - val_accuracy: 0.9121\n",
            "Epoch 36/100\n",
            "8/8 [==============================] - 0s 7ms/step - loss: 0.1853 - accuracy: 0.9313 - val_loss: 0.2968 - val_accuracy: 0.9121\n",
            "Epoch 37/100\n",
            "8/8 [==============================] - 0s 7ms/step - loss: 0.2855 - accuracy: 0.9038 - val_loss: 0.6902 - val_accuracy: 0.7692\n",
            "Epoch 38/100\n",
            "8/8 [==============================] - 0s 6ms/step - loss: 0.3870 - accuracy: 0.8571 - val_loss: 0.4436 - val_accuracy: 0.8462\n",
            "Epoch 39/100\n",
            "8/8 [==============================] - 0s 7ms/step - loss: 0.2820 - accuracy: 0.9121 - val_loss: 0.5015 - val_accuracy: 0.8132\n",
            "Epoch 40/100\n",
            "8/8 [==============================] - 0s 7ms/step - loss: 0.2959 - accuracy: 0.8901 - val_loss: 0.3388 - val_accuracy: 0.8901\n",
            "Epoch 41/100\n",
            "8/8 [==============================] - 0s 6ms/step - loss: 0.2068 - accuracy: 0.9286 - val_loss: 0.2485 - val_accuracy: 0.9231\n",
            "Epoch 42/100\n",
            "8/8 [==============================] - 0s 7ms/step - loss: 0.1829 - accuracy: 0.9313 - val_loss: 0.2741 - val_accuracy: 0.9121\n",
            "Epoch 43/100\n",
            "8/8 [==============================] - 0s 7ms/step - loss: 0.1977 - accuracy: 0.9341 - val_loss: 0.3193 - val_accuracy: 0.9011\n",
            "Epoch 44/100\n",
            "8/8 [==============================] - 0s 6ms/step - loss: 0.1784 - accuracy: 0.9258 - val_loss: 0.2694 - val_accuracy: 0.9011\n",
            "Epoch 45/100\n",
            "8/8 [==============================] - 0s 7ms/step - loss: 0.1994 - accuracy: 0.9341 - val_loss: 0.2550 - val_accuracy: 0.9121\n",
            "Epoch 46/100\n",
            "8/8 [==============================] - 0s 7ms/step - loss: 0.1810 - accuracy: 0.9341 - val_loss: 0.2463 - val_accuracy: 0.9121\n",
            "Epoch 47/100\n",
            "8/8 [==============================] - 0s 7ms/step - loss: 0.1990 - accuracy: 0.9258 - val_loss: 0.2758 - val_accuracy: 0.9011\n",
            "Epoch 48/100\n",
            "8/8 [==============================] - 0s 7ms/step - loss: 0.1830 - accuracy: 0.9368 - val_loss: 0.2554 - val_accuracy: 0.9011\n",
            "Epoch 49/100\n",
            "8/8 [==============================] - 0s 8ms/step - loss: 0.2025 - accuracy: 0.9396 - val_loss: 0.2683 - val_accuracy: 0.9011\n",
            "Epoch 50/100\n",
            "8/8 [==============================] - 0s 6ms/step - loss: 0.2079 - accuracy: 0.9368 - val_loss: 0.2355 - val_accuracy: 0.9121\n",
            "Epoch 51/100\n",
            "8/8 [==============================] - 0s 6ms/step - loss: 0.2898 - accuracy: 0.9038 - val_loss: 0.2570 - val_accuracy: 0.9011\n",
            "Epoch 52/100\n",
            "8/8 [==============================] - 0s 7ms/step - loss: 0.2835 - accuracy: 0.8956 - val_loss: 0.2335 - val_accuracy: 0.9121\n",
            "Epoch 53/100\n",
            "8/8 [==============================] - 0s 6ms/step - loss: 0.2340 - accuracy: 0.9203 - val_loss: 0.2304 - val_accuracy: 0.9231\n",
            "Epoch 54/100\n",
            "8/8 [==============================] - 0s 6ms/step - loss: 0.2042 - accuracy: 0.9286 - val_loss: 0.2486 - val_accuracy: 0.9121\n",
            "Epoch 55/100\n",
            "8/8 [==============================] - 0s 6ms/step - loss: 0.1749 - accuracy: 0.9423 - val_loss: 0.3399 - val_accuracy: 0.8901\n",
            "Epoch 56/100\n",
            "8/8 [==============================] - 0s 6ms/step - loss: 0.2548 - accuracy: 0.9093 - val_loss: 0.4547 - val_accuracy: 0.8242\n",
            "Epoch 57/100\n",
            "8/8 [==============================] - 0s 6ms/step - loss: 0.2706 - accuracy: 0.9011 - val_loss: 0.2350 - val_accuracy: 0.9121\n",
            "Epoch 58/100\n",
            "8/8 [==============================] - 0s 7ms/step - loss: 0.1853 - accuracy: 0.9478 - val_loss: 0.3004 - val_accuracy: 0.9121\n",
            "Epoch 59/100\n",
            "8/8 [==============================] - 0s 6ms/step - loss: 0.2025 - accuracy: 0.9313 - val_loss: 0.2604 - val_accuracy: 0.9231\n",
            "Epoch 60/100\n",
            "8/8 [==============================] - 0s 6ms/step - loss: 0.1824 - accuracy: 0.9423 - val_loss: 0.2404 - val_accuracy: 0.9121\n",
            "Epoch 61/100\n",
            "8/8 [==============================] - 0s 6ms/step - loss: 0.1740 - accuracy: 0.9341 - val_loss: 0.2353 - val_accuracy: 0.9121\n",
            "Epoch 62/100\n",
            "8/8 [==============================] - 0s 6ms/step - loss: 0.1770 - accuracy: 0.9176 - val_loss: 0.2705 - val_accuracy: 0.9011\n",
            "Epoch 63/100\n",
            "8/8 [==============================] - 0s 6ms/step - loss: 0.1922 - accuracy: 0.9231 - val_loss: 0.2334 - val_accuracy: 0.9231\n",
            "Epoch 64/100\n",
            "8/8 [==============================] - 0s 6ms/step - loss: 0.1878 - accuracy: 0.9313 - val_loss: 0.3433 - val_accuracy: 0.9121\n",
            "Epoch 65/100\n",
            "8/8 [==============================] - 0s 6ms/step - loss: 0.2593 - accuracy: 0.9286 - val_loss: 0.2448 - val_accuracy: 0.9121\n",
            "Epoch 66/100\n",
            "8/8 [==============================] - 0s 6ms/step - loss: 0.1695 - accuracy: 0.9231 - val_loss: 0.2267 - val_accuracy: 0.9121\n",
            "Epoch 67/100\n",
            "8/8 [==============================] - 0s 7ms/step - loss: 0.1777 - accuracy: 0.9396 - val_loss: 0.3476 - val_accuracy: 0.8681\n",
            "Epoch 68/100\n",
            "8/8 [==============================] - 0s 7ms/step - loss: 0.2236 - accuracy: 0.9148 - val_loss: 0.2653 - val_accuracy: 0.9011\n",
            "Epoch 69/100\n",
            "8/8 [==============================] - 0s 6ms/step - loss: 0.2412 - accuracy: 0.9341 - val_loss: 0.2370 - val_accuracy: 0.9121\n",
            "Epoch 70/100\n",
            "8/8 [==============================] - 0s 6ms/step - loss: 0.4223 - accuracy: 0.8736 - val_loss: 0.2590 - val_accuracy: 0.9011\n",
            "Epoch 71/100\n",
            "8/8 [==============================] - 0s 6ms/step - loss: 0.3189 - accuracy: 0.9066 - val_loss: 0.2173 - val_accuracy: 0.9231\n",
            "Epoch 72/100\n",
            "8/8 [==============================] - 0s 6ms/step - loss: 0.2301 - accuracy: 0.9258 - val_loss: 0.2924 - val_accuracy: 0.9011\n",
            "Epoch 73/100\n",
            "8/8 [==============================] - 0s 5ms/step - loss: 0.2593 - accuracy: 0.8984 - val_loss: 0.3710 - val_accuracy: 0.8791\n",
            "Epoch 74/100\n",
            "8/8 [==============================] - 0s 6ms/step - loss: 0.2279 - accuracy: 0.9231 - val_loss: 0.6807 - val_accuracy: 0.7692\n",
            "Epoch 75/100\n",
            "8/8 [==============================] - 0s 6ms/step - loss: 0.2591 - accuracy: 0.9038 - val_loss: 0.2463 - val_accuracy: 0.9121\n",
            "Epoch 76/100\n",
            "8/8 [==============================] - 0s 6ms/step - loss: 0.1763 - accuracy: 0.9396 - val_loss: 0.2849 - val_accuracy: 0.9011\n",
            "Epoch 77/100\n",
            "8/8 [==============================] - 0s 6ms/step - loss: 0.2247 - accuracy: 0.9286 - val_loss: 0.3814 - val_accuracy: 0.8681\n",
            "Epoch 78/100\n",
            "8/8 [==============================] - 0s 6ms/step - loss: 0.1908 - accuracy: 0.9231 - val_loss: 0.2562 - val_accuracy: 0.9121\n",
            "Epoch 79/100\n",
            "8/8 [==============================] - 0s 7ms/step - loss: 0.1522 - accuracy: 0.9533 - val_loss: 0.2240 - val_accuracy: 0.9121\n",
            "Epoch 80/100\n",
            "8/8 [==============================] - 0s 7ms/step - loss: 0.1649 - accuracy: 0.9368 - val_loss: 0.2405 - val_accuracy: 0.9121\n",
            "Epoch 81/100\n",
            "8/8 [==============================] - 0s 6ms/step - loss: 0.1600 - accuracy: 0.9258 - val_loss: 0.2544 - val_accuracy: 0.9121\n",
            "Epoch 82/100\n",
            "8/8 [==============================] - 0s 6ms/step - loss: 0.1483 - accuracy: 0.9423 - val_loss: 0.2469 - val_accuracy: 0.9121\n",
            "Epoch 83/100\n",
            "8/8 [==============================] - 0s 7ms/step - loss: 0.1494 - accuracy: 0.9451 - val_loss: 0.2328 - val_accuracy: 0.9121\n",
            "Epoch 84/100\n",
            "8/8 [==============================] - 0s 7ms/step - loss: 0.1691 - accuracy: 0.9478 - val_loss: 0.2276 - val_accuracy: 0.9231\n",
            "Epoch 85/100\n",
            "8/8 [==============================] - 0s 7ms/step - loss: 0.2226 - accuracy: 0.9148 - val_loss: 0.2177 - val_accuracy: 0.9231\n",
            "Epoch 86/100\n",
            "8/8 [==============================] - 0s 10ms/step - loss: 0.1851 - accuracy: 0.9313 - val_loss: 0.2470 - val_accuracy: 0.9011\n",
            "Epoch 87/100\n",
            "8/8 [==============================] - 0s 8ms/step - loss: 0.2020 - accuracy: 0.9286 - val_loss: 0.3170 - val_accuracy: 0.9121\n",
            "Epoch 88/100\n",
            "8/8 [==============================] - 0s 7ms/step - loss: 0.2380 - accuracy: 0.9231 - val_loss: 0.2592 - val_accuracy: 0.9011\n",
            "Epoch 89/100\n",
            "8/8 [==============================] - 0s 7ms/step - loss: 0.2319 - accuracy: 0.9148 - val_loss: 0.2913 - val_accuracy: 0.9231\n",
            "Epoch 90/100\n",
            "8/8 [==============================] - 0s 6ms/step - loss: 0.2023 - accuracy: 0.9231 - val_loss: 0.2942 - val_accuracy: 0.9231\n",
            "Epoch 91/100\n",
            "8/8 [==============================] - 0s 7ms/step - loss: 0.2377 - accuracy: 0.9176 - val_loss: 0.2138 - val_accuracy: 0.9121\n",
            "Epoch 92/100\n",
            "8/8 [==============================] - 0s 6ms/step - loss: 0.1849 - accuracy: 0.9368 - val_loss: 0.2326 - val_accuracy: 0.9231\n",
            "Epoch 93/100\n",
            "8/8 [==============================] - 0s 7ms/step - loss: 0.2259 - accuracy: 0.9176 - val_loss: 0.3251 - val_accuracy: 0.9231\n",
            "Epoch 94/100\n",
            "8/8 [==============================] - 0s 6ms/step - loss: 0.2824 - accuracy: 0.8984 - val_loss: 0.2946 - val_accuracy: 0.9121\n",
            "Epoch 95/100\n",
            "8/8 [==============================] - 0s 6ms/step - loss: 0.1657 - accuracy: 0.9423 - val_loss: 0.2372 - val_accuracy: 0.9121\n",
            "Epoch 96/100\n",
            "8/8 [==============================] - 0s 9ms/step - loss: 0.1624 - accuracy: 0.9396 - val_loss: 0.2322 - val_accuracy: 0.9121\n",
            "Epoch 97/100\n",
            "8/8 [==============================] - 0s 7ms/step - loss: 0.2343 - accuracy: 0.9203 - val_loss: 0.3481 - val_accuracy: 0.8681\n",
            "Epoch 98/100\n",
            "8/8 [==============================] - 0s 7ms/step - loss: 0.3220 - accuracy: 0.8874 - val_loss: 0.2410 - val_accuracy: 0.9011\n",
            "Epoch 99/100\n",
            "8/8 [==============================] - 0s 6ms/step - loss: 0.1676 - accuracy: 0.9451 - val_loss: 0.2076 - val_accuracy: 0.9231\n",
            "Epoch 100/100\n",
            "8/8 [==============================] - 0s 7ms/step - loss: 0.1660 - accuracy: 0.9451 - val_loss: 0.3143 - val_accuracy: 0.9231\n"
          ]
        }
      ]
    },
    {
      "cell_type": "markdown",
      "source": [
        "- 모델 평가"
      ],
      "metadata": {
        "id": "mUEScNtX0ZUL"
      }
    },
    {
      "cell_type": "code",
      "source": [
        "model.evaluate(X_test, y_test)"
      ],
      "metadata": {
        "id": "YY7oOuYw0J05",
        "colab": {
          "base_uri": "https://localhost:8080/"
        },
        "outputId": "601ff3cd-5d24-44e7-c724-179f8b1618fd"
      },
      "execution_count": 9,
      "outputs": [
        {
          "output_type": "stream",
          "name": "stdout",
          "text": [
            "4/4 [==============================] - 0s 3ms/step - loss: 0.4249 - accuracy: 0.9035\n"
          ]
        },
        {
          "output_type": "execute_result",
          "data": {
            "text/plain": [
              "[0.4249313175678253, 0.9035087823867798]"
            ]
          },
          "metadata": {},
          "execution_count": 9
        }
      ]
    },
    {
      "cell_type": "markdown",
      "source": [
        "- 훈련과정 시각화"
      ],
      "metadata": {
        "id": "dv7wteN41ZWL"
      }
    },
    {
      "cell_type": "code",
      "source": [
        "y_acc = history.history['accuracy']\n",
        "y_vloss = history.history['val_loss']\n",
        "xs = np.arange(1,len(y_acc)+1)        # epoch"
      ],
      "metadata": {
        "id": "RHSwm6nO1j9a"
      },
      "execution_count": 10,
      "outputs": []
    },
    {
      "cell_type": "code",
      "source": [
        "plt.figure(figsize=(12,8))\n",
        "plt.plot(xs, y_acc, label='train accuracy')\n",
        "plt.plot(xs, y_vloss, label='validation loss')\n",
        "plt.legend()\n",
        "plt.grid()\n",
        "plt.ylim([0,1])\n",
        "plt.xlabel('Epoch')\n",
        "plt.title('No feature transform')\n",
        "plt.show()"
      ],
      "metadata": {
        "id": "0-7bSLta0e7O",
        "colab": {
          "base_uri": "https://localhost:8080/",
          "height": 513
        },
        "outputId": "43901849-c7a5-435b-d7e3-4c0aa185b87b"
      },
      "execution_count": 11,
      "outputs": [
        {
          "output_type": "display_data",
          "data": {
            "text/plain": [
              "<Figure size 864x576 with 1 Axes>"
            ],
            "image/png": "[encoded data removed]"
          },
          "metadata": {
            "needs_background": "light"
          }
        }
      ]
    },
    {
      "cell_type": "markdown",
      "source": [
        "- 데이터 스케일링"
      ],
      "metadata": {
        "id": "zm18s6hZ4HOk"
      }
    },
    {
      "cell_type": "code",
      "source": [
        "from sklearn.preprocessing import StandardScaler\n",
        "scaler = StandardScaler()\n",
        "cancer_std = scaler.fit_transform(cancer.data)"
      ],
      "metadata": {
        "id": "17Sr1gVL2BEF"
      },
      "execution_count": 12,
      "outputs": []
    },
    {
      "cell_type": "code",
      "source": [
        "X_train2, X_test2, y_train2, y_test2 = train_test_split(\n",
        "    cancer_std, cancer.target, stratify=cancer.target, test_size=0.2, random_state=2022\n",
        ")"
      ],
      "metadata": {
        "id": "pA8bNsDM4hR6"
      },
      "execution_count": 13,
      "outputs": []
    },
    {
      "cell_type": "code",
      "source": [
        "model2 = Sequential()\n",
        "model2.add(Dense(100, input_dim=30, activation='relu'))\n",
        "model2.add(Dense(24, activation='relu'))\n",
        "model2.add(Dense(1, activation='sigmoid'))\n",
        "model2.summary()"
      ],
      "metadata": {
        "id": "of6Dx8aS41gf",
        "colab": {
          "base_uri": "https://localhost:8080/"
        },
        "outputId": "ba344dee-6809-4c91-d77b-3d06243efd06"
      },
      "execution_count": 14,
      "outputs": [
        {
          "output_type": "stream",
          "name": "stdout",
          "text": [
            "Model: \"sequential_1\"\n",
            "_________________________________________________________________\n",
            " Layer (type)                Output Shape              Param #   \n",
            "=================================================================\n",
            " dense_3 (Dense)             (None, 100)               3100      \n",
            "                                                                 \n",
            " dense_4 (Dense)             (None, 24)                2424      \n",
            "                                                                 \n",
            " dense_5 (Dense)             (None, 1)                 25        \n",
            "                                                                 \n",
            "=================================================================\n",
            "Total params: 5,549\n",
            "Trainable params: 5,549\n",
            "Non-trainable params: 0\n",
            "_________________________________________________________________\n"
          ]
        }
      ]
    },
    {
      "cell_type": "code",
      "source": [
        "model2.compile(optimizer='adam', loss='binary_crossentropy', metrics=['accuracy'])"
      ],
      "metadata": {
        "id": "xvFK9UQ_5Okq"
      },
      "execution_count": 15,
      "outputs": []
    },
    {
      "cell_type": "code",
      "source": [
        "history2 = model2.fit(X_train2, y_train2, validation_split=0.2,\n",
        "                      epochs=100, batch_size=50)"
      ],
      "metadata": {
        "id": "izbsW1xN5URX",
        "colab": {
          "base_uri": "https://localhost:8080/"
        },
        "outputId": "d4afcbf6-9ab1-4586-d991-59696757a38e"
      },
      "execution_count": 16,
      "outputs": [
        {
          "output_type": "stream",
          "name": "stdout",
          "text": [
            "Epoch 1/100\n",
            "8/8 [==============================] - 1s 28ms/step - loss: 0.6199 - accuracy: 0.6951 - val_loss: 0.4986 - val_accuracy: 0.9341\n",
            "Epoch 2/100\n",
            "8/8 [==============================] - 0s 6ms/step - loss: 0.4270 - accuracy: 0.9423 - val_loss: 0.3579 - val_accuracy: 0.9451\n",
            "Epoch 3/100\n",
            "8/8 [==============================] - 0s 6ms/step - loss: 0.3065 - accuracy: 0.9478 - val_loss: 0.2651 - val_accuracy: 0.9341\n",
            "Epoch 4/100\n",
            "8/8 [==============================] - 0s 6ms/step - loss: 0.2276 - accuracy: 0.9560 - val_loss: 0.2098 - val_accuracy: 0.9451\n",
            "Epoch 5/100\n",
            "8/8 [==============================] - 0s 6ms/step - loss: 0.1767 - accuracy: 0.9615 - val_loss: 0.1766 - val_accuracy: 0.9451\n",
            "Epoch 6/100\n",
            "8/8 [==============================] - 0s 6ms/step - loss: 0.1440 - accuracy: 0.9698 - val_loss: 0.1564 - val_accuracy: 0.9341\n",
            "Epoch 7/100\n",
            "8/8 [==============================] - 0s 7ms/step - loss: 0.1221 - accuracy: 0.9780 - val_loss: 0.1432 - val_accuracy: 0.9451\n",
            "Epoch 8/100\n",
            "8/8 [==============================] - 0s 6ms/step - loss: 0.1067 - accuracy: 0.9835 - val_loss: 0.1351 - val_accuracy: 0.9670\n",
            "Epoch 9/100\n",
            "8/8 [==============================] - 0s 6ms/step - loss: 0.0950 - accuracy: 0.9863 - val_loss: 0.1282 - val_accuracy: 0.9670\n",
            "Epoch 10/100\n",
            "8/8 [==============================] - 0s 6ms/step - loss: 0.0864 - accuracy: 0.9835 - val_loss: 0.1228 - val_accuracy: 0.9560\n",
            "Epoch 11/100\n",
            "8/8 [==============================] - 0s 6ms/step - loss: 0.0800 - accuracy: 0.9808 - val_loss: 0.1189 - val_accuracy: 0.9560\n",
            "Epoch 12/100\n",
            "8/8 [==============================] - 0s 6ms/step - loss: 0.0738 - accuracy: 0.9808 - val_loss: 0.1151 - val_accuracy: 0.9670\n",
            "Epoch 13/100\n",
            "8/8 [==============================] - 0s 6ms/step - loss: 0.0688 - accuracy: 0.9808 - val_loss: 0.1124 - val_accuracy: 0.9670\n",
            "Epoch 14/100\n",
            "8/8 [==============================] - 0s 6ms/step - loss: 0.0647 - accuracy: 0.9808 - val_loss: 0.1110 - val_accuracy: 0.9670\n",
            "Epoch 15/100\n",
            "8/8 [==============================] - 0s 7ms/step - loss: 0.0609 - accuracy: 0.9808 - val_loss: 0.1103 - val_accuracy: 0.9670\n",
            "Epoch 16/100\n",
            "8/8 [==============================] - 0s 6ms/step - loss: 0.0578 - accuracy: 0.9808 - val_loss: 0.1096 - val_accuracy: 0.9670\n",
            "Epoch 17/100\n",
            "8/8 [==============================] - 0s 10ms/step - loss: 0.0547 - accuracy: 0.9808 - val_loss: 0.1099 - val_accuracy: 0.9560\n",
            "Epoch 18/100\n",
            "8/8 [==============================] - 0s 7ms/step - loss: 0.0520 - accuracy: 0.9835 - val_loss: 0.1114 - val_accuracy: 0.9560\n",
            "Epoch 19/100\n",
            "8/8 [==============================] - 0s 8ms/step - loss: 0.0493 - accuracy: 0.9835 - val_loss: 0.1125 - val_accuracy: 0.9560\n",
            "Epoch 20/100\n",
            "8/8 [==============================] - 0s 6ms/step - loss: 0.0468 - accuracy: 0.9863 - val_loss: 0.1129 - val_accuracy: 0.9560\n",
            "Epoch 21/100\n",
            "8/8 [==============================] - 0s 6ms/step - loss: 0.0450 - accuracy: 0.9863 - val_loss: 0.1136 - val_accuracy: 0.9560\n",
            "Epoch 22/100\n",
            "8/8 [==============================] - 0s 6ms/step - loss: 0.0425 - accuracy: 0.9863 - val_loss: 0.1140 - val_accuracy: 0.9560\n",
            "Epoch 23/100\n",
            "8/8 [==============================] - 0s 6ms/step - loss: 0.0409 - accuracy: 0.9918 - val_loss: 0.1146 - val_accuracy: 0.9560\n",
            "Epoch 24/100\n",
            "8/8 [==============================] - 0s 6ms/step - loss: 0.0385 - accuracy: 0.9918 - val_loss: 0.1177 - val_accuracy: 0.9451\n",
            "Epoch 25/100\n",
            "8/8 [==============================] - 0s 6ms/step - loss: 0.0368 - accuracy: 0.9918 - val_loss: 0.1203 - val_accuracy: 0.9451\n",
            "Epoch 26/100\n",
            "8/8 [==============================] - 0s 7ms/step - loss: 0.0350 - accuracy: 0.9918 - val_loss: 0.1218 - val_accuracy: 0.9451\n",
            "Epoch 27/100\n",
            "8/8 [==============================] - 0s 6ms/step - loss: 0.0334 - accuracy: 0.9918 - val_loss: 0.1202 - val_accuracy: 0.9451\n",
            "Epoch 28/100\n",
            "8/8 [==============================] - 0s 6ms/step - loss: 0.0324 - accuracy: 0.9918 - val_loss: 0.1249 - val_accuracy: 0.9451\n",
            "Epoch 29/100\n",
            "8/8 [==============================] - 0s 6ms/step - loss: 0.0298 - accuracy: 0.9918 - val_loss: 0.1282 - val_accuracy: 0.9451\n",
            "Epoch 30/100\n",
            "8/8 [==============================] - 0s 6ms/step - loss: 0.0285 - accuracy: 0.9918 - val_loss: 0.1270 - val_accuracy: 0.9451\n",
            "Epoch 31/100\n",
            "8/8 [==============================] - 0s 6ms/step - loss: 0.0268 - accuracy: 0.9918 - val_loss: 0.1304 - val_accuracy: 0.9560\n",
            "Epoch 32/100\n",
            "8/8 [==============================] - 0s 6ms/step - loss: 0.0247 - accuracy: 0.9918 - val_loss: 0.1342 - val_accuracy: 0.9560\n",
            "Epoch 33/100\n",
            "8/8 [==============================] - 0s 5ms/step - loss: 0.0234 - accuracy: 0.9918 - val_loss: 0.1368 - val_accuracy: 0.9451\n",
            "Epoch 34/100\n",
            "8/8 [==============================] - 0s 5ms/step - loss: 0.0219 - accuracy: 0.9918 - val_loss: 0.1379 - val_accuracy: 0.9451\n",
            "Epoch 35/100\n",
            "8/8 [==============================] - 0s 5ms/step - loss: 0.0209 - accuracy: 0.9945 - val_loss: 0.1485 - val_accuracy: 0.9451\n",
            "Epoch 36/100\n",
            "8/8 [==============================] - 0s 7ms/step - loss: 0.0201 - accuracy: 0.9973 - val_loss: 0.1513 - val_accuracy: 0.9451\n",
            "Epoch 37/100\n",
            "8/8 [==============================] - 0s 6ms/step - loss: 0.0186 - accuracy: 0.9973 - val_loss: 0.1500 - val_accuracy: 0.9451\n",
            "Epoch 38/100\n",
            "8/8 [==============================] - 0s 6ms/step - loss: 0.0173 - accuracy: 0.9973 - val_loss: 0.1516 - val_accuracy: 0.9451\n",
            "Epoch 39/100\n",
            "8/8 [==============================] - 0s 6ms/step - loss: 0.0162 - accuracy: 0.9973 - val_loss: 0.1516 - val_accuracy: 0.9451\n",
            "Epoch 40/100\n",
            "8/8 [==============================] - 0s 6ms/step - loss: 0.0151 - accuracy: 0.9973 - val_loss: 0.1542 - val_accuracy: 0.9451\n",
            "Epoch 41/100\n",
            "8/8 [==============================] - 0s 5ms/step - loss: 0.0140 - accuracy: 0.9973 - val_loss: 0.1629 - val_accuracy: 0.9451\n",
            "Epoch 42/100\n",
            "8/8 [==============================] - 0s 6ms/step - loss: 0.0140 - accuracy: 0.9973 - val_loss: 0.1668 - val_accuracy: 0.9451\n",
            "Epoch 43/100\n",
            "8/8 [==============================] - 0s 6ms/step - loss: 0.0128 - accuracy: 0.9973 - val_loss: 0.1642 - val_accuracy: 0.9451\n",
            "Epoch 44/100\n",
            "8/8 [==============================] - 0s 6ms/step - loss: 0.0119 - accuracy: 0.9973 - val_loss: 0.1613 - val_accuracy: 0.9451\n",
            "Epoch 45/100\n",
            "8/8 [==============================] - 0s 5ms/step - loss: 0.0113 - accuracy: 0.9973 - val_loss: 0.1615 - val_accuracy: 0.9451\n",
            "Epoch 46/100\n",
            "8/8 [==============================] - 0s 5ms/step - loss: 0.0107 - accuracy: 1.0000 - val_loss: 0.1654 - val_accuracy: 0.9451\n",
            "Epoch 47/100\n",
            "8/8 [==============================] - 0s 5ms/step - loss: 0.0099 - accuracy: 1.0000 - val_loss: 0.1667 - val_accuracy: 0.9451\n",
            "Epoch 48/100\n",
            "8/8 [==============================] - 0s 6ms/step - loss: 0.0092 - accuracy: 1.0000 - val_loss: 0.1693 - val_accuracy: 0.9451\n",
            "Epoch 49/100\n",
            "8/8 [==============================] - 0s 5ms/step - loss: 0.0087 - accuracy: 1.0000 - val_loss: 0.1707 - val_accuracy: 0.9451\n",
            "Epoch 50/100\n",
            "8/8 [==============================] - 0s 6ms/step - loss: 0.0082 - accuracy: 1.0000 - val_loss: 0.1731 - val_accuracy: 0.9451\n",
            "Epoch 51/100\n",
            "8/8 [==============================] - 0s 6ms/step - loss: 0.0077 - accuracy: 1.0000 - val_loss: 0.1745 - val_accuracy: 0.9451\n",
            "Epoch 52/100\n",
            "8/8 [==============================] - 0s 6ms/step - loss: 0.0072 - accuracy: 1.0000 - val_loss: 0.1789 - val_accuracy: 0.9451\n",
            "Epoch 53/100\n",
            "8/8 [==============================] - 0s 6ms/step - loss: 0.0069 - accuracy: 1.0000 - val_loss: 0.1807 - val_accuracy: 0.9451\n",
            "Epoch 54/100\n",
            "8/8 [==============================] - 0s 6ms/step - loss: 0.0065 - accuracy: 1.0000 - val_loss: 0.1841 - val_accuracy: 0.9451\n",
            "Epoch 55/100\n",
            "8/8 [==============================] - 0s 8ms/step - loss: 0.0061 - accuracy: 1.0000 - val_loss: 0.1875 - val_accuracy: 0.9451\n",
            "Epoch 56/100\n",
            "8/8 [==============================] - 0s 6ms/step - loss: 0.0059 - accuracy: 1.0000 - val_loss: 0.1902 - val_accuracy: 0.9451\n",
            "Epoch 57/100\n",
            "8/8 [==============================] - 0s 6ms/step - loss: 0.0055 - accuracy: 1.0000 - val_loss: 0.1906 - val_accuracy: 0.9451\n",
            "Epoch 58/100\n",
            "8/8 [==============================] - 0s 6ms/step - loss: 0.0051 - accuracy: 1.0000 - val_loss: 0.1940 - val_accuracy: 0.9451\n",
            "Epoch 59/100\n",
            "8/8 [==============================] - 0s 6ms/step - loss: 0.0049 - accuracy: 1.0000 - val_loss: 0.1964 - val_accuracy: 0.9451\n",
            "Epoch 60/100\n",
            "8/8 [==============================] - 0s 6ms/step - loss: 0.0046 - accuracy: 1.0000 - val_loss: 0.1985 - val_accuracy: 0.9451\n",
            "Epoch 61/100\n",
            "8/8 [==============================] - 0s 6ms/step - loss: 0.0044 - accuracy: 1.0000 - val_loss: 0.2004 - val_accuracy: 0.9451\n",
            "Epoch 62/100\n",
            "8/8 [==============================] - 0s 6ms/step - loss: 0.0042 - accuracy: 1.0000 - val_loss: 0.2043 - val_accuracy: 0.9451\n",
            "Epoch 63/100\n",
            "8/8 [==============================] - 0s 7ms/step - loss: 0.0040 - accuracy: 1.0000 - val_loss: 0.2053 - val_accuracy: 0.9451\n",
            "Epoch 64/100\n",
            "8/8 [==============================] - 0s 6ms/step - loss: 0.0038 - accuracy: 1.0000 - val_loss: 0.2053 - val_accuracy: 0.9451\n",
            "Epoch 65/100\n",
            "8/8 [==============================] - 0s 6ms/step - loss: 0.0036 - accuracy: 1.0000 - val_loss: 0.2067 - val_accuracy: 0.9451\n",
            "Epoch 66/100\n",
            "8/8 [==============================] - 0s 6ms/step - loss: 0.0034 - accuracy: 1.0000 - val_loss: 0.2083 - val_accuracy: 0.9451\n",
            "Epoch 67/100\n",
            "8/8 [==============================] - 0s 6ms/step - loss: 0.0033 - accuracy: 1.0000 - val_loss: 0.2099 - val_accuracy: 0.9451\n",
            "Epoch 68/100\n",
            "8/8 [==============================] - 0s 6ms/step - loss: 0.0032 - accuracy: 1.0000 - val_loss: 0.2100 - val_accuracy: 0.9451\n",
            "Epoch 69/100\n",
            "8/8 [==============================] - 0s 6ms/step - loss: 0.0030 - accuracy: 1.0000 - val_loss: 0.2109 - val_accuracy: 0.9451\n",
            "Epoch 70/100\n",
            "8/8 [==============================] - 0s 7ms/step - loss: 0.0029 - accuracy: 1.0000 - val_loss: 0.2133 - val_accuracy: 0.9451\n",
            "Epoch 71/100\n",
            "8/8 [==============================] - 0s 6ms/step - loss: 0.0028 - accuracy: 1.0000 - val_loss: 0.2146 - val_accuracy: 0.9451\n",
            "Epoch 72/100\n",
            "8/8 [==============================] - 0s 6ms/step - loss: 0.0027 - accuracy: 1.0000 - val_loss: 0.2137 - val_accuracy: 0.9451\n",
            "Epoch 73/100\n",
            "8/8 [==============================] - 0s 6ms/step - loss: 0.0026 - accuracy: 1.0000 - val_loss: 0.2143 - val_accuracy: 0.9451\n",
            "Epoch 74/100\n",
            "8/8 [==============================] - 0s 7ms/step - loss: 0.0025 - accuracy: 1.0000 - val_loss: 0.2157 - val_accuracy: 0.9451\n",
            "Epoch 75/100\n",
            "8/8 [==============================] - 0s 7ms/step - loss: 0.0024 - accuracy: 1.0000 - val_loss: 0.2170 - val_accuracy: 0.9451\n",
            "Epoch 76/100\n",
            "8/8 [==============================] - 0s 6ms/step - loss: 0.0023 - accuracy: 1.0000 - val_loss: 0.2189 - val_accuracy: 0.9451\n",
            "Epoch 77/100\n",
            "8/8 [==============================] - 0s 6ms/step - loss: 0.0023 - accuracy: 1.0000 - val_loss: 0.2212 - val_accuracy: 0.9451\n",
            "Epoch 78/100\n",
            "8/8 [==============================] - 0s 6ms/step - loss: 0.0022 - accuracy: 1.0000 - val_loss: 0.2231 - val_accuracy: 0.9451\n",
            "Epoch 79/100\n",
            "8/8 [==============================] - 0s 6ms/step - loss: 0.0021 - accuracy: 1.0000 - val_loss: 0.2235 - val_accuracy: 0.9451\n",
            "Epoch 80/100\n",
            "8/8 [==============================] - 0s 6ms/step - loss: 0.0020 - accuracy: 1.0000 - val_loss: 0.2250 - val_accuracy: 0.9451\n",
            "Epoch 81/100\n",
            "8/8 [==============================] - 0s 6ms/step - loss: 0.0020 - accuracy: 1.0000 - val_loss: 0.2278 - val_accuracy: 0.9451\n",
            "Epoch 82/100\n",
            "8/8 [==============================] - 0s 6ms/step - loss: 0.0019 - accuracy: 1.0000 - val_loss: 0.2307 - val_accuracy: 0.9451\n",
            "Epoch 83/100\n",
            "8/8 [==============================] - 0s 6ms/step - loss: 0.0019 - accuracy: 1.0000 - val_loss: 0.2336 - val_accuracy: 0.9451\n",
            "Epoch 84/100\n",
            "8/8 [==============================] - 0s 6ms/step - loss: 0.0018 - accuracy: 1.0000 - val_loss: 0.2385 - val_accuracy: 0.9451\n",
            "Epoch 85/100\n",
            "8/8 [==============================] - 0s 6ms/step - loss: 0.0017 - accuracy: 1.0000 - val_loss: 0.2396 - val_accuracy: 0.9451\n",
            "Epoch 86/100\n",
            "8/8 [==============================] - 0s 6ms/step - loss: 0.0016 - accuracy: 1.0000 - val_loss: 0.2392 - val_accuracy: 0.9451\n",
            "Epoch 87/100\n",
            "8/8 [==============================] - 0s 7ms/step - loss: 0.0016 - accuracy: 1.0000 - val_loss: 0.2389 - val_accuracy: 0.9451\n",
            "Epoch 88/100\n",
            "8/8 [==============================] - 0s 6ms/step - loss: 0.0015 - accuracy: 1.0000 - val_loss: 0.2387 - val_accuracy: 0.9451\n",
            "Epoch 89/100\n",
            "8/8 [==============================] - 0s 6ms/step - loss: 0.0015 - accuracy: 1.0000 - val_loss: 0.2397 - val_accuracy: 0.9451\n",
            "Epoch 90/100\n",
            "8/8 [==============================] - 0s 6ms/step - loss: 0.0014 - accuracy: 1.0000 - val_loss: 0.2414 - val_accuracy: 0.9451\n",
            "Epoch 91/100\n",
            "8/8 [==============================] - 0s 6ms/step - loss: 0.0014 - accuracy: 1.0000 - val_loss: 0.2420 - val_accuracy: 0.9451\n",
            "Epoch 92/100\n",
            "8/8 [==============================] - 0s 7ms/step - loss: 0.0013 - accuracy: 1.0000 - val_loss: 0.2423 - val_accuracy: 0.9451\n",
            "Epoch 93/100\n",
            "8/8 [==============================] - 0s 7ms/step - loss: 0.0013 - accuracy: 1.0000 - val_loss: 0.2437 - val_accuracy: 0.9451\n",
            "Epoch 94/100\n",
            "8/8 [==============================] - 0s 6ms/step - loss: 0.0013 - accuracy: 1.0000 - val_loss: 0.2442 - val_accuracy: 0.9451\n",
            "Epoch 95/100\n",
            "8/8 [==============================] - 0s 6ms/step - loss: 0.0012 - accuracy: 1.0000 - val_loss: 0.2467 - val_accuracy: 0.9451\n",
            "Epoch 96/100\n",
            "8/8 [==============================] - 0s 6ms/step - loss: 0.0012 - accuracy: 1.0000 - val_loss: 0.2489 - val_accuracy: 0.9451\n",
            "Epoch 97/100\n",
            "8/8 [==============================] - 0s 6ms/step - loss: 0.0012 - accuracy: 1.0000 - val_loss: 0.2517 - val_accuracy: 0.9451\n",
            "Epoch 98/100\n",
            "8/8 [==============================] - 0s 7ms/step - loss: 0.0011 - accuracy: 1.0000 - val_loss: 0.2528 - val_accuracy: 0.9451\n",
            "Epoch 99/100\n",
            "8/8 [==============================] - 0s 6ms/step - loss: 0.0011 - accuracy: 1.0000 - val_loss: 0.2518 - val_accuracy: 0.9451\n",
            "Epoch 100/100\n",
            "8/8 [==============================] - 0s 6ms/step - loss: 0.0011 - accuracy: 1.0000 - val_loss: 0.2530 - val_accuracy: 0.9451\n"
          ]
        }
      ]
    },
    {
      "cell_type": "code",
      "source": [
        "model2.evaluate(X_test2, y_test2)"
      ],
      "metadata": {
        "id": "Pt2E7L3w5bJP",
        "colab": {
          "base_uri": "https://localhost:8080/"
        },
        "outputId": "dc95fe4b-5e1e-40ee-df23-c2571067e95d"
      },
      "execution_count": 17,
      "outputs": [
        {
          "output_type": "stream",
          "name": "stdout",
          "text": [
            "4/4 [==============================] - 0s 4ms/step - loss: 0.0854 - accuracy: 0.9737\n"
          ]
        },
        {
          "output_type": "execute_result",
          "data": {
            "text/plain": [
              "[0.08540082722902298, 0.9736841917037964]"
            ]
          },
          "metadata": {},
          "execution_count": 17
        }
      ]
    },
    {
      "cell_type": "code",
      "source": [
        "y_acc2 = history2.history['accuracy']\n",
        "y_vloss2 = history2.history['val_loss']\n",
        "xs2 = np.arange(1,len(y_acc2)+1)        # epoch"
      ],
      "metadata": {
        "id": "y8mGdjUD5kF_"
      },
      "execution_count": 18,
      "outputs": []
    },
    {
      "cell_type": "code",
      "source": [
        "plt.figure(figsize=(12,8))\n",
        "plt.plot(xs2, y_acc2, label='train accuracy')\n",
        "plt.plot(xs2, y_vloss2, label='validation loss')\n",
        "plt.legend()\n",
        "plt.grid()\n",
        "plt.ylim([0,1.1])\n",
        "plt.xlabel('Epoch')\n",
        "plt.title('After feature transform')\n",
        "plt.show()"
      ],
      "metadata": {
        "id": "OOuC2EJB5vF_",
        "colab": {
          "base_uri": "https://localhost:8080/",
          "height": 513
        },
        "outputId": "657f7e6b-86c9-40c4-e379-8ff5b9bbc809"
      },
      "execution_count": 19,
      "outputs": [
        {
          "output_type": "display_data",
          "data": {
            "text/plain": [
              "<Figure size 864x576 with 1 Axes>"
            ],
            "image/png": "[encoded data removed]"
          },
          "metadata": {
            "needs_background": "light"
          }
        }
      ]
    },
    {
      "cell_type": "code",
      "source": [
        ""
      ],
      "metadata": {
        "id": "qX34Ti7h5_Xa"
      },
      "execution_count": null,
      "outputs": []
    }
  ]
}