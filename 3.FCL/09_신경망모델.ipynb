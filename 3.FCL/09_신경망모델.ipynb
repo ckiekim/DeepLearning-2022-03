{
  "nbformat": 4,
  "nbformat_minor": 0,
  "metadata": {
    "colab": {
      "name": "09_신경망모델.ipynb",
      "provenance": []
    },
    "kernelspec": {
      "name": "python3",
      "display_name": "Python 3"
    },
    "language_info": {
      "name": "python"
    }
  },
  "cells": [
    {
      "cell_type": "markdown",
      "source": [
        "# Unit 9. 신경망 모델\n",
        "### - 이진 분류 - 유방암 예측 사례"
      ],
      "metadata": {
        "id": "Z-X-A2DWlwiE"
      }
    },
    {
      "cell_type": "code",
      "source": [
        "import numpy as np\n",
        "import pandas as pd\n",
        "import matplotlib.pyplot as plt"
      ],
      "metadata": {
        "id": "TD5BpXhZmLij"
      },
      "execution_count": null,
      "outputs": []
    },
    {
      "cell_type": "markdown",
      "source": [
        "- 데이터 준비"
      ],
      "metadata": {
        "id": "-zlzcx5toBTi"
      }
    },
    {
      "cell_type": "code",
      "execution_count": null,
      "metadata": {
        "id": "BN5NDMhzlfrM"
      },
      "outputs": [],
      "source": [
        "from sklearn.datasets import load_breast_cancer\n",
        "cancer = load_breast_cancer()\n",
        "df = pd.DataFrame(cancer.data, columns=cancer.feature_names)\n",
        "df['target'] = cancer.target\n",
        "df.head()"
      ]
    },
    {
      "cell_type": "code",
      "source": [
        "from sklearn.model_selection import train_test_split\n",
        "X_train, X_test, y_train, y_test = train_test_split(\n",
        "    cancer.data, cancer.target, stratify=cancer.target, test_size=0.2, random_state=2022\n",
        ")\n",
        "X_train.shape, X_test.shape, y_train.shape, y_test.shape"
      ],
      "metadata": {
        "id": "Dyn3-HGznGqW"
      },
      "execution_count": null,
      "outputs": []
    },
    {
      "cell_type": "markdown",
      "source": [
        "- 모델 정의"
      ],
      "metadata": {
        "id": "0q2mIoPYoHvJ"
      }
    },
    {
      "cell_type": "code",
      "source": [
        "from tensorflow.keras.models import Sequential\n",
        "from tensorflow.keras.layers import Dense"
      ],
      "metadata": {
        "id": "_8Amy7D5np4X"
      },
      "execution_count": null,
      "outputs": []
    },
    {
      "cell_type": "code",
      "source": [
        "model = Sequential([\n",
        "    Dense(100, input_shape=(30,), activation='relu'),\n",
        "    Dense(24, activation='relu'),\n",
        "    Dense(1, activation='sigmoid')\n",
        "])\n",
        "model.summary()"
      ],
      "metadata": {
        "id": "C-kdkjHfusXa"
      },
      "execution_count": null,
      "outputs": []
    },
    {
      "cell_type": "markdown",
      "source": [
        "- 모델 설정"
      ],
      "metadata": {
        "id": "evEWBAcDv6Ai"
      }
    },
    {
      "cell_type": "code",
      "source": [
        "model.compile(optimizer='adam', loss='binary_crossentropy', metrics=['accuracy'])"
      ],
      "metadata": {
        "id": "Cy5iuRbcv1QB"
      },
      "execution_count": null,
      "outputs": []
    },
    {
      "cell_type": "markdown",
      "source": [
        "- 모델 학습"
      ],
      "metadata": {
        "id": "jBOtOphMzllW"
      }
    },
    {
      "cell_type": "code",
      "source": [
        "history = model.fit(X_train, y_train, validation_split=0.2,\n",
        "                    epochs=100, batch_size=50)"
      ],
      "metadata": {
        "id": "ITEwb5V8zj9A"
      },
      "execution_count": null,
      "outputs": []
    },
    {
      "cell_type": "markdown",
      "source": [
        "- 모델 평가"
      ],
      "metadata": {
        "id": "mUEScNtX0ZUL"
      }
    },
    {
      "cell_type": "code",
      "source": [
        "model.evaluate(X_test, y_test)"
      ],
      "metadata": {
        "id": "YY7oOuYw0J05"
      },
      "execution_count": null,
      "outputs": []
    },
    {
      "cell_type": "markdown",
      "source": [
        "- 훈련과정 시각화"
      ],
      "metadata": {
        "id": "dv7wteN41ZWL"
      }
    },
    {
      "cell_type": "code",
      "source": [
        "y_acc = history.history['accuracy']\n",
        "y_vloss = history.history['val_loss']\n",
        "xs = np.arange(1,len(y_acc)+1)        # epoch"
      ],
      "metadata": {
        "id": "RHSwm6nO1j9a"
      },
      "execution_count": null,
      "outputs": []
    },
    {
      "cell_type": "code",
      "source": [
        "plt.figure(figsize=(12,8))\n",
        "plt.plot(xs, y_acc, label='trainset accuracy')\n",
        "plt.plot(xs, y_vloss, label='validation loss')\n",
        "plt.legend()\n",
        "plt.grid()\n",
        "plt.ylim([0,1])\n",
        "plt.xlabel('Epoch')\n",
        "plt.title('No feature transform')\n",
        "plt.show()"
      ],
      "metadata": {
        "id": "0-7bSLta0e7O"
      },
      "execution_count": null,
      "outputs": []
    },
    {
      "cell_type": "markdown",
      "source": [
        "- 데이터 스케일링"
      ],
      "metadata": {
        "id": "zm18s6hZ4HOk"
      }
    },
    {
      "cell_type": "code",
      "source": [
        "from sklearn.preprocessing import StandardScaler\n",
        "scaler = StandardScaler()\n",
        "cancer_std = scaler.fit_transform(cancer.data)"
      ],
      "metadata": {
        "id": "17Sr1gVL2BEF"
      },
      "execution_count": null,
      "outputs": []
    },
    {
      "cell_type": "code",
      "source": [
        "X_train2, X_test2, y_train2, y_test2 = train_test_split(\n",
        "    cancer_std, cancer.target, stratify=cancer.target, test_size=0.2, random_state=2022\n",
        ")"
      ],
      "metadata": {
        "id": "pA8bNsDM4hR6"
      },
      "execution_count": null,
      "outputs": []
    },
    {
      "cell_type": "code",
      "source": [
        "model2 = Sequential()\n",
        "model2.add(Dense(100, input_dim=30, activation='relu'))\n",
        "model2.add(Dense(24, activation='relu'))\n",
        "model2.add(Dense(1, activation='sigmoid'))\n",
        "model2.summary()"
      ],
      "metadata": {
        "id": "of6Dx8aS41gf"
      },
      "execution_count": null,
      "outputs": []
    },
    {
      "cell_type": "code",
      "source": [
        "model2.compile(optimizer='adam', loss='binary_crossentropy', metrics=['accuracy'])"
      ],
      "metadata": {
        "id": "xvFK9UQ_5Okq"
      },
      "execution_count": null,
      "outputs": []
    },
    {
      "cell_type": "code",
      "source": [
        "history2 = model2.fit(X_train2, y_train2, validation_split=0.2,\n",
        "                      epochs=100, batch_size=50)"
      ],
      "metadata": {
        "id": "izbsW1xN5URX"
      },
      "execution_count": null,
      "outputs": []
    },
    {
      "cell_type": "code",
      "source": [
        "model2.evaluate(X_test2, y_test2)"
      ],
      "metadata": {
        "id": "Pt2E7L3w5bJP"
      },
      "execution_count": null,
      "outputs": []
    },
    {
      "cell_type": "code",
      "source": [
        "y_acc2 = history2.history['accuracy']\n",
        "y_vloss2 = history2.history['val_loss']\n",
        "xs2 = np.arange(1,len(y_acc2)+1)        # epoch"
      ],
      "metadata": {
        "id": "y8mGdjUD5kF_"
      },
      "execution_count": null,
      "outputs": []
    },
    {
      "cell_type": "code",
      "source": [
        "plt.figure(figsize=(12,8))\n",
        "plt.plot(xs2, y_acc2, label='trainset accuracy')\n",
        "plt.plot(xs2, y_vloss2, label='validation loss')\n",
        "plt.legend()\n",
        "plt.grid()\n",
        "plt.ylim([0,1])\n",
        "plt.xlabel('Epoch')\n",
        "plt.title('After feature transform')\n",
        "plt.show()"
      ],
      "metadata": {
        "id": "OOuC2EJB5vF_"
      },
      "execution_count": null,
      "outputs": []
    },
    {
      "cell_type": "code",
      "source": [
        ""
      ],
      "metadata": {
        "id": "qX34Ti7h5_Xa"
      },
      "execution_count": null,
      "outputs": []
    }
  ]
}