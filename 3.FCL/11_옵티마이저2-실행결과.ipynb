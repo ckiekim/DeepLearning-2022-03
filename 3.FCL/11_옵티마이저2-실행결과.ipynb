{
  "nbformat": 4,
  "nbformat_minor": 0,
  "metadata": {
    "colab": {
      "name": "11_옵티마이저2.ipynb",
      "provenance": [],
      "collapsed_sections": []
    },
    "kernelspec": {
      "name": "python3",
      "display_name": "Python 3"
    },
    "language_info": {
      "name": "python"
    }
  },
  "cells": [
    {
      "cell_type": "markdown",
      "source": [
        "# Unit 11. 신경망 모델에서 옵티마이저 사용법\n",
        "### - 이진 분류 - 유방암 예측 사례"
      ],
      "metadata": {
        "id": "Z-X-A2DWlwiE"
      }
    },
    {
      "cell_type": "code",
      "source": [
        "import numpy as np\n",
        "import matplotlib.pyplot as plt"
      ],
      "metadata": {
        "id": "TD5BpXhZmLij"
      },
      "execution_count": 1,
      "outputs": []
    },
    {
      "cell_type": "markdown",
      "source": [
        "- 데이터 준비"
      ],
      "metadata": {
        "id": "-zlzcx5toBTi"
      }
    },
    {
      "cell_type": "code",
      "execution_count": 2,
      "metadata": {
        "id": "BN5NDMhzlfrM"
      },
      "outputs": [],
      "source": [
        "from sklearn.datasets import load_breast_cancer\n",
        "cancer = load_breast_cancer()"
      ]
    },
    {
      "cell_type": "code",
      "source": [
        "from sklearn.preprocessing import StandardScaler\n",
        "scaler = StandardScaler()\n",
        "cancer_std = scaler.fit_transform(cancer.data)"
      ],
      "metadata": {
        "id": "_hRk4U_jpSwg"
      },
      "execution_count": 3,
      "outputs": []
    },
    {
      "cell_type": "code",
      "source": [
        "from sklearn.model_selection import train_test_split\n",
        "X_train, X_test, y_train, y_test = train_test_split(\n",
        "    cancer_std, cancer.target, stratify=cancer.target, test_size=0.2, random_state=2022\n",
        ")\n",
        "X_train.shape, X_test.shape, y_train.shape, y_test.shape"
      ],
      "metadata": {
        "id": "Dyn3-HGznGqW",
        "colab": {
          "base_uri": "https://localhost:8080/"
        },
        "outputId": "f8e7513f-ccf1-4730-eb32-31fd39d4a6a4"
      },
      "execution_count": 4,
      "outputs": [
        {
          "output_type": "execute_result",
          "data": {
            "text/plain": [
              "((455, 30), (114, 30), (455,), (114,))"
            ]
          },
          "metadata": {},
          "execution_count": 4
        }
      ]
    },
    {
      "cell_type": "markdown",
      "source": [
        "### Case 1. Adam optimizer"
      ],
      "metadata": {
        "id": "pXkD03HozGQd"
      }
    },
    {
      "cell_type": "markdown",
      "source": [
        "- 모델 정의"
      ],
      "metadata": {
        "id": "0q2mIoPYoHvJ"
      }
    },
    {
      "cell_type": "code",
      "source": [
        "from tensorflow.keras.models import Sequential\n",
        "from tensorflow.keras.layers import Dense"
      ],
      "metadata": {
        "id": "_8Amy7D5np4X"
      },
      "execution_count": 5,
      "outputs": []
    },
    {
      "cell_type": "code",
      "source": [
        "model = Sequential([\n",
        "    Dense(100, input_shape=(30,), activation='relu'),\n",
        "    Dense(24, activation='relu'),\n",
        "    Dense(1, activation='sigmoid')\n",
        "])\n",
        "model.summary()"
      ],
      "metadata": {
        "id": "C-kdkjHfusXa",
        "colab": {
          "base_uri": "https://localhost:8080/"
        },
        "outputId": "817442a6-6cd0-408a-adb5-27f255ff8924"
      },
      "execution_count": 6,
      "outputs": [
        {
          "output_type": "stream",
          "name": "stdout",
          "text": [
            "Model: \"sequential\"\n",
            "_________________________________________________________________\n",
            " Layer (type)                Output Shape              Param #   \n",
            "=================================================================\n",
            " dense (Dense)               (None, 100)               3100      \n",
            "                                                                 \n",
            " dense_1 (Dense)             (None, 24)                2424      \n",
            "                                                                 \n",
            " dense_2 (Dense)             (None, 1)                 25        \n",
            "                                                                 \n",
            "=================================================================\n",
            "Total params: 5,549\n",
            "Trainable params: 5,549\n",
            "Non-trainable params: 0\n",
            "_________________________________________________________________\n"
          ]
        }
      ]
    },
    {
      "cell_type": "markdown",
      "source": [
        "- 모델 설정"
      ],
      "metadata": {
        "id": "evEWBAcDv6Ai"
      }
    },
    {
      "cell_type": "markdown",
      "source": [
        "- Adam 하이퍼 파라메터\n",
        "<pre>\n",
        "learning_rate: 0보다 크거나 같은 float 값. 학습률.\n",
        "beta_1: 0보다 크고 1보다 작은 float 값. 일반적으로 1에 가깝게 설정됩니다.\n",
        "beta_2: 0보다 크고 1보다 작은 float 값. 일반적으로 1에 가깝게 설정됩니다.\n",
        "epsilon: 0보다 크거나 같은 float형 fuzz factor. None인 경우 K.epsilon()이 사용됩니다.\n",
        "decay: 0보다 크거나 같은 float 값. 업데이트마다 적용되는 학습률의 감소율입니다.\n",
        "amsgrad: 불리언. Adam의 변형인 AMSGrad의 적용 여부를 설정합니다\n",
        "</pre>"
      ],
      "metadata": {
        "id": "JSTGMOjNqbkS"
      }
    },
    {
      "cell_type": "code",
      "source": [
        "from tensorflow.keras.optimizers import Adam\n",
        "adam = Adam(learning_rate=0.001, beta_1=0.9, beta_2=0.999, epsilon=None, decay=0.0, amsgrad=False)"
      ],
      "metadata": {
        "id": "2B1kcvhsp1hk"
      },
      "execution_count": 7,
      "outputs": []
    },
    {
      "cell_type": "code",
      "source": [
        "# model.compile(optimizer='adam', loss='binary_crossentropy', metrics=['accuracy'])\n",
        "model.compile(optimizer=adam, loss='binary_crossentropy', metrics=['accuracy'])"
      ],
      "metadata": {
        "id": "Cy5iuRbcv1QB"
      },
      "execution_count": 8,
      "outputs": []
    },
    {
      "cell_type": "markdown",
      "source": [
        "- 모델 학습"
      ],
      "metadata": {
        "id": "jBOtOphMzllW"
      }
    },
    {
      "cell_type": "code",
      "source": [
        "history = model.fit(X_train, y_train, validation_split=0.2,\n",
        "                    epochs=100, batch_size=50)"
      ],
      "metadata": {
        "id": "ITEwb5V8zj9A",
        "colab": {
          "base_uri": "https://localhost:8080/"
        },
        "outputId": "6b99b818-1b4b-4fac-a9be-38f149eb4250"
      },
      "execution_count": 9,
      "outputs": [
        {
          "output_type": "stream",
          "name": "stdout",
          "text": [
            "Epoch 1/100\n",
            "8/8 [==============================] - 1s 31ms/step - loss: 0.6569 - accuracy: 0.7033 - val_loss: 0.4533 - val_accuracy: 0.9011\n",
            "Epoch 2/100\n",
            "8/8 [==============================] - 0s 6ms/step - loss: 0.3882 - accuracy: 0.9176 - val_loss: 0.3108 - val_accuracy: 0.8901\n",
            "Epoch 3/100\n",
            "8/8 [==============================] - 0s 6ms/step - loss: 0.2707 - accuracy: 0.9341 - val_loss: 0.2369 - val_accuracy: 0.8901\n",
            "Epoch 4/100\n",
            "8/8 [==============================] - 0s 8ms/step - loss: 0.2069 - accuracy: 0.9368 - val_loss: 0.1941 - val_accuracy: 0.9011\n",
            "Epoch 5/100\n",
            "8/8 [==============================] - 0s 6ms/step - loss: 0.1662 - accuracy: 0.9505 - val_loss: 0.1666 - val_accuracy: 0.9341\n",
            "Epoch 6/100\n",
            "8/8 [==============================] - 0s 7ms/step - loss: 0.1395 - accuracy: 0.9615 - val_loss: 0.1484 - val_accuracy: 0.9560\n",
            "Epoch 7/100\n",
            "8/8 [==============================] - 0s 6ms/step - loss: 0.1223 - accuracy: 0.9643 - val_loss: 0.1362 - val_accuracy: 0.9560\n",
            "Epoch 8/100\n",
            "8/8 [==============================] - 0s 6ms/step - loss: 0.1075 - accuracy: 0.9670 - val_loss: 0.1281 - val_accuracy: 0.9670\n",
            "Epoch 9/100\n",
            "8/8 [==============================] - 0s 7ms/step - loss: 0.0973 - accuracy: 0.9753 - val_loss: 0.1220 - val_accuracy: 0.9670\n",
            "Epoch 10/100\n",
            "8/8 [==============================] - 0s 6ms/step - loss: 0.0895 - accuracy: 0.9725 - val_loss: 0.1185 - val_accuracy: 0.9560\n",
            "Epoch 11/100\n",
            "8/8 [==============================] - 0s 6ms/step - loss: 0.0833 - accuracy: 0.9753 - val_loss: 0.1158 - val_accuracy: 0.9560\n",
            "Epoch 12/100\n",
            "8/8 [==============================] - 0s 8ms/step - loss: 0.0775 - accuracy: 0.9753 - val_loss: 0.1128 - val_accuracy: 0.9560\n",
            "Epoch 13/100\n",
            "8/8 [==============================] - 0s 7ms/step - loss: 0.0724 - accuracy: 0.9780 - val_loss: 0.1089 - val_accuracy: 0.9560\n",
            "Epoch 14/100\n",
            "8/8 [==============================] - 0s 6ms/step - loss: 0.0682 - accuracy: 0.9808 - val_loss: 0.1060 - val_accuracy: 0.9560\n",
            "Epoch 15/100\n",
            "8/8 [==============================] - 0s 6ms/step - loss: 0.0642 - accuracy: 0.9835 - val_loss: 0.1030 - val_accuracy: 0.9560\n",
            "Epoch 16/100\n",
            "8/8 [==============================] - 0s 6ms/step - loss: 0.0606 - accuracy: 0.9835 - val_loss: 0.1016 - val_accuracy: 0.9560\n",
            "Epoch 17/100\n",
            "8/8 [==============================] - 0s 7ms/step - loss: 0.0581 - accuracy: 0.9835 - val_loss: 0.1008 - val_accuracy: 0.9560\n",
            "Epoch 18/100\n",
            "8/8 [==============================] - 0s 6ms/step - loss: 0.0550 - accuracy: 0.9835 - val_loss: 0.1000 - val_accuracy: 0.9560\n",
            "Epoch 19/100\n",
            "8/8 [==============================] - 0s 6ms/step - loss: 0.0525 - accuracy: 0.9835 - val_loss: 0.0993 - val_accuracy: 0.9560\n",
            "Epoch 20/100\n",
            "8/8 [==============================] - 0s 7ms/step - loss: 0.0504 - accuracy: 0.9835 - val_loss: 0.0997 - val_accuracy: 0.9560\n",
            "Epoch 21/100\n",
            "8/8 [==============================] - 0s 7ms/step - loss: 0.0478 - accuracy: 0.9863 - val_loss: 0.0993 - val_accuracy: 0.9560\n",
            "Epoch 22/100\n",
            "8/8 [==============================] - 0s 6ms/step - loss: 0.0453 - accuracy: 0.9863 - val_loss: 0.0991 - val_accuracy: 0.9560\n",
            "Epoch 23/100\n",
            "8/8 [==============================] - 0s 7ms/step - loss: 0.0435 - accuracy: 0.9863 - val_loss: 0.0997 - val_accuracy: 0.9560\n",
            "Epoch 24/100\n",
            "8/8 [==============================] - 0s 6ms/step - loss: 0.0421 - accuracy: 0.9890 - val_loss: 0.0989 - val_accuracy: 0.9560\n",
            "Epoch 25/100\n",
            "8/8 [==============================] - 0s 6ms/step - loss: 0.0398 - accuracy: 0.9890 - val_loss: 0.0979 - val_accuracy: 0.9670\n",
            "Epoch 26/100\n",
            "8/8 [==============================] - 0s 6ms/step - loss: 0.0386 - accuracy: 0.9890 - val_loss: 0.0982 - val_accuracy: 0.9670\n",
            "Epoch 27/100\n",
            "8/8 [==============================] - 0s 6ms/step - loss: 0.0367 - accuracy: 0.9890 - val_loss: 0.0983 - val_accuracy: 0.9670\n",
            "Epoch 28/100\n",
            "8/8 [==============================] - 0s 7ms/step - loss: 0.0346 - accuracy: 0.9890 - val_loss: 0.0988 - val_accuracy: 0.9560\n",
            "Epoch 29/100\n",
            "8/8 [==============================] - 0s 7ms/step - loss: 0.0330 - accuracy: 0.9890 - val_loss: 0.0991 - val_accuracy: 0.9560\n",
            "Epoch 30/100\n",
            "8/8 [==============================] - 0s 6ms/step - loss: 0.0313 - accuracy: 0.9890 - val_loss: 0.1006 - val_accuracy: 0.9560\n",
            "Epoch 31/100\n",
            "8/8 [==============================] - 0s 7ms/step - loss: 0.0303 - accuracy: 0.9890 - val_loss: 0.1052 - val_accuracy: 0.9560\n",
            "Epoch 32/100\n",
            "8/8 [==============================] - 0s 6ms/step - loss: 0.0295 - accuracy: 0.9890 - val_loss: 0.1068 - val_accuracy: 0.9560\n",
            "Epoch 33/100\n",
            "8/8 [==============================] - 0s 10ms/step - loss: 0.0280 - accuracy: 0.9918 - val_loss: 0.1085 - val_accuracy: 0.9451\n",
            "Epoch 34/100\n",
            "8/8 [==============================] - 0s 7ms/step - loss: 0.0264 - accuracy: 0.9918 - val_loss: 0.1062 - val_accuracy: 0.9560\n",
            "Epoch 35/100\n",
            "8/8 [==============================] - 0s 8ms/step - loss: 0.0252 - accuracy: 0.9918 - val_loss: 0.1079 - val_accuracy: 0.9560\n",
            "Epoch 36/100\n",
            "8/8 [==============================] - 0s 7ms/step - loss: 0.0245 - accuracy: 0.9918 - val_loss: 0.1079 - val_accuracy: 0.9560\n",
            "Epoch 37/100\n",
            "8/8 [==============================] - 0s 6ms/step - loss: 0.0234 - accuracy: 0.9918 - val_loss: 0.1107 - val_accuracy: 0.9560\n",
            "Epoch 38/100\n",
            "8/8 [==============================] - 0s 8ms/step - loss: 0.0220 - accuracy: 0.9918 - val_loss: 0.1128 - val_accuracy: 0.9451\n",
            "Epoch 39/100\n",
            "8/8 [==============================] - 0s 6ms/step - loss: 0.0209 - accuracy: 0.9945 - val_loss: 0.1146 - val_accuracy: 0.9451\n",
            "Epoch 40/100\n",
            "8/8 [==============================] - 0s 6ms/step - loss: 0.0199 - accuracy: 0.9945 - val_loss: 0.1138 - val_accuracy: 0.9451\n",
            "Epoch 41/100\n",
            "8/8 [==============================] - 0s 10ms/step - loss: 0.0191 - accuracy: 0.9945 - val_loss: 0.1140 - val_accuracy: 0.9451\n",
            "Epoch 42/100\n",
            "8/8 [==============================] - 0s 8ms/step - loss: 0.0181 - accuracy: 0.9973 - val_loss: 0.1153 - val_accuracy: 0.9451\n",
            "Epoch 43/100\n",
            "8/8 [==============================] - 0s 7ms/step - loss: 0.0172 - accuracy: 0.9945 - val_loss: 0.1174 - val_accuracy: 0.9451\n",
            "Epoch 44/100\n",
            "8/8 [==============================] - 0s 6ms/step - loss: 0.0164 - accuracy: 0.9945 - val_loss: 0.1185 - val_accuracy: 0.9451\n",
            "Epoch 45/100\n",
            "8/8 [==============================] - 0s 7ms/step - loss: 0.0160 - accuracy: 0.9945 - val_loss: 0.1217 - val_accuracy: 0.9451\n",
            "Epoch 46/100\n",
            "8/8 [==============================] - 0s 7ms/step - loss: 0.0151 - accuracy: 0.9945 - val_loss: 0.1247 - val_accuracy: 0.9451\n",
            "Epoch 47/100\n",
            "8/8 [==============================] - 0s 7ms/step - loss: 0.0144 - accuracy: 0.9973 - val_loss: 0.1266 - val_accuracy: 0.9451\n",
            "Epoch 48/100\n",
            "8/8 [==============================] - 0s 9ms/step - loss: 0.0135 - accuracy: 0.9973 - val_loss: 0.1279 - val_accuracy: 0.9451\n",
            "Epoch 49/100\n",
            "8/8 [==============================] - 0s 7ms/step - loss: 0.0129 - accuracy: 0.9973 - val_loss: 0.1293 - val_accuracy: 0.9451\n",
            "Epoch 50/100\n",
            "8/8 [==============================] - 0s 6ms/step - loss: 0.0123 - accuracy: 0.9973 - val_loss: 0.1320 - val_accuracy: 0.9451\n",
            "Epoch 51/100\n",
            "8/8 [==============================] - 0s 6ms/step - loss: 0.0117 - accuracy: 1.0000 - val_loss: 0.1333 - val_accuracy: 0.9451\n",
            "Epoch 52/100\n",
            "8/8 [==============================] - 0s 6ms/step - loss: 0.0112 - accuracy: 1.0000 - val_loss: 0.1343 - val_accuracy: 0.9451\n",
            "Epoch 53/100\n",
            "8/8 [==============================] - 0s 6ms/step - loss: 0.0108 - accuracy: 1.0000 - val_loss: 0.1337 - val_accuracy: 0.9451\n",
            "Epoch 54/100\n",
            "8/8 [==============================] - 0s 6ms/step - loss: 0.0103 - accuracy: 1.0000 - val_loss: 0.1385 - val_accuracy: 0.9451\n",
            "Epoch 55/100\n",
            "8/8 [==============================] - 0s 7ms/step - loss: 0.0098 - accuracy: 1.0000 - val_loss: 0.1415 - val_accuracy: 0.9451\n",
            "Epoch 56/100\n",
            "8/8 [==============================] - 0s 6ms/step - loss: 0.0094 - accuracy: 1.0000 - val_loss: 0.1433 - val_accuracy: 0.9451\n",
            "Epoch 57/100\n",
            "8/8 [==============================] - 0s 7ms/step - loss: 0.0090 - accuracy: 1.0000 - val_loss: 0.1438 - val_accuracy: 0.9451\n",
            "Epoch 58/100\n",
            "8/8 [==============================] - 0s 7ms/step - loss: 0.0086 - accuracy: 1.0000 - val_loss: 0.1451 - val_accuracy: 0.9451\n",
            "Epoch 59/100\n",
            "8/8 [==============================] - 0s 6ms/step - loss: 0.0084 - accuracy: 1.0000 - val_loss: 0.1468 - val_accuracy: 0.9451\n",
            "Epoch 60/100\n",
            "8/8 [==============================] - 0s 7ms/step - loss: 0.0079 - accuracy: 1.0000 - val_loss: 0.1474 - val_accuracy: 0.9451\n",
            "Epoch 61/100\n",
            "8/8 [==============================] - 0s 6ms/step - loss: 0.0076 - accuracy: 1.0000 - val_loss: 0.1482 - val_accuracy: 0.9451\n",
            "Epoch 62/100\n",
            "8/8 [==============================] - 0s 7ms/step - loss: 0.0071 - accuracy: 1.0000 - val_loss: 0.1494 - val_accuracy: 0.9451\n",
            "Epoch 63/100\n",
            "8/8 [==============================] - 0s 8ms/step - loss: 0.0069 - accuracy: 1.0000 - val_loss: 0.1532 - val_accuracy: 0.9451\n",
            "Epoch 64/100\n",
            "8/8 [==============================] - 0s 9ms/step - loss: 0.0065 - accuracy: 1.0000 - val_loss: 0.1540 - val_accuracy: 0.9451\n",
            "Epoch 65/100\n",
            "8/8 [==============================] - 0s 7ms/step - loss: 0.0064 - accuracy: 1.0000 - val_loss: 0.1542 - val_accuracy: 0.9451\n",
            "Epoch 66/100\n",
            "8/8 [==============================] - 0s 9ms/step - loss: 0.0060 - accuracy: 1.0000 - val_loss: 0.1565 - val_accuracy: 0.9451\n",
            "Epoch 67/100\n",
            "8/8 [==============================] - 0s 7ms/step - loss: 0.0057 - accuracy: 1.0000 - val_loss: 0.1586 - val_accuracy: 0.9451\n",
            "Epoch 68/100\n",
            "8/8 [==============================] - 0s 6ms/step - loss: 0.0055 - accuracy: 1.0000 - val_loss: 0.1598 - val_accuracy: 0.9451\n",
            "Epoch 69/100\n",
            "8/8 [==============================] - 0s 6ms/step - loss: 0.0052 - accuracy: 1.0000 - val_loss: 0.1615 - val_accuracy: 0.9451\n",
            "Epoch 70/100\n",
            "8/8 [==============================] - 0s 6ms/step - loss: 0.0051 - accuracy: 1.0000 - val_loss: 0.1650 - val_accuracy: 0.9451\n",
            "Epoch 71/100\n",
            "8/8 [==============================] - 0s 10ms/step - loss: 0.0049 - accuracy: 1.0000 - val_loss: 0.1666 - val_accuracy: 0.9451\n",
            "Epoch 72/100\n",
            "8/8 [==============================] - 0s 7ms/step - loss: 0.0047 - accuracy: 1.0000 - val_loss: 0.1681 - val_accuracy: 0.9451\n",
            "Epoch 73/100\n",
            "8/8 [==============================] - 0s 6ms/step - loss: 0.0045 - accuracy: 1.0000 - val_loss: 0.1669 - val_accuracy: 0.9451\n",
            "Epoch 74/100\n",
            "8/8 [==============================] - 0s 6ms/step - loss: 0.0043 - accuracy: 1.0000 - val_loss: 0.1681 - val_accuracy: 0.9451\n",
            "Epoch 75/100\n",
            "8/8 [==============================] - 0s 9ms/step - loss: 0.0042 - accuracy: 1.0000 - val_loss: 0.1692 - val_accuracy: 0.9451\n",
            "Epoch 76/100\n",
            "8/8 [==============================] - 0s 7ms/step - loss: 0.0041 - accuracy: 1.0000 - val_loss: 0.1704 - val_accuracy: 0.9451\n",
            "Epoch 77/100\n",
            "8/8 [==============================] - 0s 6ms/step - loss: 0.0039 - accuracy: 1.0000 - val_loss: 0.1701 - val_accuracy: 0.9451\n",
            "Epoch 78/100\n",
            "8/8 [==============================] - 0s 8ms/step - loss: 0.0038 - accuracy: 1.0000 - val_loss: 0.1713 - val_accuracy: 0.9451\n",
            "Epoch 79/100\n",
            "8/8 [==============================] - 0s 8ms/step - loss: 0.0036 - accuracy: 1.0000 - val_loss: 0.1724 - val_accuracy: 0.9451\n",
            "Epoch 80/100\n",
            "8/8 [==============================] - 0s 7ms/step - loss: 0.0036 - accuracy: 1.0000 - val_loss: 0.1745 - val_accuracy: 0.9451\n",
            "Epoch 81/100\n",
            "8/8 [==============================] - 0s 7ms/step - loss: 0.0033 - accuracy: 1.0000 - val_loss: 0.1787 - val_accuracy: 0.9451\n",
            "Epoch 82/100\n",
            "8/8 [==============================] - 0s 7ms/step - loss: 0.0033 - accuracy: 1.0000 - val_loss: 0.1803 - val_accuracy: 0.9451\n",
            "Epoch 83/100\n",
            "8/8 [==============================] - 0s 6ms/step - loss: 0.0032 - accuracy: 1.0000 - val_loss: 0.1812 - val_accuracy: 0.9451\n",
            "Epoch 84/100\n",
            "8/8 [==============================] - 0s 6ms/step - loss: 0.0031 - accuracy: 1.0000 - val_loss: 0.1815 - val_accuracy: 0.9451\n",
            "Epoch 85/100\n",
            "8/8 [==============================] - 0s 7ms/step - loss: 0.0030 - accuracy: 1.0000 - val_loss: 0.1833 - val_accuracy: 0.9451\n",
            "Epoch 86/100\n",
            "8/8 [==============================] - 0s 6ms/step - loss: 0.0029 - accuracy: 1.0000 - val_loss: 0.1847 - val_accuracy: 0.9451\n",
            "Epoch 87/100\n",
            "8/8 [==============================] - 0s 7ms/step - loss: 0.0028 - accuracy: 1.0000 - val_loss: 0.1841 - val_accuracy: 0.9451\n",
            "Epoch 88/100\n",
            "8/8 [==============================] - 0s 9ms/step - loss: 0.0027 - accuracy: 1.0000 - val_loss: 0.1857 - val_accuracy: 0.9451\n",
            "Epoch 89/100\n",
            "8/8 [==============================] - 0s 6ms/step - loss: 0.0026 - accuracy: 1.0000 - val_loss: 0.1866 - val_accuracy: 0.9451\n",
            "Epoch 90/100\n",
            "8/8 [==============================] - 0s 9ms/step - loss: 0.0025 - accuracy: 1.0000 - val_loss: 0.1856 - val_accuracy: 0.9451\n",
            "Epoch 91/100\n",
            "8/8 [==============================] - 0s 6ms/step - loss: 0.0024 - accuracy: 1.0000 - val_loss: 0.1859 - val_accuracy: 0.9451\n",
            "Epoch 92/100\n",
            "8/8 [==============================] - 0s 6ms/step - loss: 0.0023 - accuracy: 1.0000 - val_loss: 0.1875 - val_accuracy: 0.9451\n",
            "Epoch 93/100\n",
            "8/8 [==============================] - 0s 10ms/step - loss: 0.0023 - accuracy: 1.0000 - val_loss: 0.1884 - val_accuracy: 0.9451\n",
            "Epoch 94/100\n",
            "8/8 [==============================] - 0s 7ms/step - loss: 0.0022 - accuracy: 1.0000 - val_loss: 0.1893 - val_accuracy: 0.9451\n",
            "Epoch 95/100\n",
            "8/8 [==============================] - 0s 6ms/step - loss: 0.0021 - accuracy: 1.0000 - val_loss: 0.1901 - val_accuracy: 0.9451\n",
            "Epoch 96/100\n",
            "8/8 [==============================] - 0s 10ms/step - loss: 0.0021 - accuracy: 1.0000 - val_loss: 0.1919 - val_accuracy: 0.9451\n",
            "Epoch 97/100\n",
            "8/8 [==============================] - 0s 7ms/step - loss: 0.0020 - accuracy: 1.0000 - val_loss: 0.1933 - val_accuracy: 0.9451\n",
            "Epoch 98/100\n",
            "8/8 [==============================] - 0s 6ms/step - loss: 0.0020 - accuracy: 1.0000 - val_loss: 0.1944 - val_accuracy: 0.9451\n",
            "Epoch 99/100\n",
            "8/8 [==============================] - 0s 6ms/step - loss: 0.0019 - accuracy: 1.0000 - val_loss: 0.1938 - val_accuracy: 0.9451\n",
            "Epoch 100/100\n",
            "8/8 [==============================] - 0s 6ms/step - loss: 0.0019 - accuracy: 1.0000 - val_loss: 0.1964 - val_accuracy: 0.9451\n"
          ]
        }
      ]
    },
    {
      "cell_type": "markdown",
      "source": [
        "- 모델 평가"
      ],
      "metadata": {
        "id": "mUEScNtX0ZUL"
      }
    },
    {
      "cell_type": "code",
      "source": [
        "model.evaluate(X_test, y_test)"
      ],
      "metadata": {
        "id": "YY7oOuYw0J05",
        "colab": {
          "base_uri": "https://localhost:8080/"
        },
        "outputId": "dd024fbf-6a5b-4c73-8184-5aca794a2d4e"
      },
      "execution_count": 10,
      "outputs": [
        {
          "output_type": "stream",
          "name": "stdout",
          "text": [
            "4/4 [==============================] - 0s 4ms/step - loss: 0.0764 - accuracy: 0.9737\n"
          ]
        },
        {
          "output_type": "execute_result",
          "data": {
            "text/plain": [
              "[0.0763702243566513, 0.9736841917037964]"
            ]
          },
          "metadata": {},
          "execution_count": 10
        }
      ]
    },
    {
      "cell_type": "markdown",
      "source": [
        "- 훈련과정 시각화"
      ],
      "metadata": {
        "id": "dv7wteN41ZWL"
      }
    },
    {
      "cell_type": "code",
      "source": [
        "y_acc = history.history['accuracy']\n",
        "y_vloss = history.history['val_loss']\n",
        "xs = np.arange(1,len(y_acc)+1)        # epoch"
      ],
      "metadata": {
        "id": "RHSwm6nO1j9a"
      },
      "execution_count": 11,
      "outputs": []
    },
    {
      "cell_type": "code",
      "source": [
        "plt.figure(figsize=(12,8))\n",
        "plt.plot(xs, y_acc, label='train accuracy')\n",
        "plt.plot(xs, y_vloss, label='validation loss')\n",
        "plt.legend()\n",
        "plt.grid()\n",
        "plt.ylim([0,1.1])\n",
        "plt.xlabel('Epoch')\n",
        "plt.title('Adam optimizer')\n",
        "plt.show()"
      ],
      "metadata": {
        "id": "0-7bSLta0e7O",
        "colab": {
          "base_uri": "https://localhost:8080/",
          "height": 513
        },
        "outputId": "a0b4c788-ae95-4c81-c68e-b5afd44fb2cc"
      },
      "execution_count": 12,
      "outputs": [
        {
          "output_type": "display_data",
          "data": {
            "text/plain": [
              "<Figure size 864x576 with 1 Axes>"
            ],
            "image/png": "[encoded data removed]"
          },
          "metadata": {
            "needs_background": "light"
          }
        }
      ]
    },
    {
      "cell_type": "markdown",
      "source": [
        "### Case 2. RMSprop optimizer"
      ],
      "metadata": {
        "id": "bUhU2dCEzRhs"
      }
    },
    {
      "cell_type": "code",
      "source": [
        "model2 = Sequential()\n",
        "model2.add(Dense(100, input_dim=30, activation='relu'))\n",
        "model2.add(Dense(24, activation='relu'))\n",
        "model2.add(Dense(1, activation='sigmoid'))\n",
        "model2.summary()"
      ],
      "metadata": {
        "id": "of6Dx8aS41gf",
        "colab": {
          "base_uri": "https://localhost:8080/"
        },
        "outputId": "fd402cb7-27ed-4a6d-f634-07dd55096e8f"
      },
      "execution_count": 13,
      "outputs": [
        {
          "output_type": "stream",
          "name": "stdout",
          "text": [
            "Model: \"sequential_1\"\n",
            "_________________________________________________________________\n",
            " Layer (type)                Output Shape              Param #   \n",
            "=================================================================\n",
            " dense_3 (Dense)             (None, 100)               3100      \n",
            "                                                                 \n",
            " dense_4 (Dense)             (None, 24)                2424      \n",
            "                                                                 \n",
            " dense_5 (Dense)             (None, 1)                 25        \n",
            "                                                                 \n",
            "=================================================================\n",
            "Total params: 5,549\n",
            "Trainable params: 5,549\n",
            "Non-trainable params: 0\n",
            "_________________________________________________________________\n"
          ]
        }
      ]
    },
    {
      "cell_type": "markdown",
      "source": [
        "- RMSprop  하이퍼 파라메터\n",
        "<pre>\n",
        "lr: 0보다 크거나 같은 float 값. 학습률.\n",
        "rho: 0보다 크거나 같은 float 값.\n",
        "epsilon: 0보다 크거나 같은 float형 fuzz factor. None인 경우 K.epsilon()이 사용됩니다.\n",
        "decay: 0보다 크거나 같은 float 값. 업데이트마다 적용되는 학습률의 감소율입니다.\n",
        "</pre>"
      ],
      "metadata": {
        "id": "Sl9dL_GfyRxF"
      }
    },
    {
      "cell_type": "code",
      "source": [
        "from tensorflow.keras.optimizers import RMSprop\n",
        "rmsp = RMSprop(learning_rate=0.001, rho=0.9, epsilon=None, decay=0.0)"
      ],
      "metadata": {
        "id": "cXOW_l2qysjH"
      },
      "execution_count": 14,
      "outputs": []
    },
    {
      "cell_type": "code",
      "source": [
        "model2.compile(optimizer=rmsp, loss='binary_crossentropy', metrics=['accuracy'])"
      ],
      "metadata": {
        "id": "xvFK9UQ_5Okq"
      },
      "execution_count": 15,
      "outputs": []
    },
    {
      "cell_type": "code",
      "source": [
        "history2 = model2.fit(X_train, y_train, validation_split=0.2,\n",
        "                      epochs=100, batch_size=50)"
      ],
      "metadata": {
        "id": "izbsW1xN5URX",
        "colab": {
          "base_uri": "https://localhost:8080/"
        },
        "outputId": "f0553b1e-bb70-48fc-8327-3be8837a070e"
      },
      "execution_count": 16,
      "outputs": [
        {
          "output_type": "stream",
          "name": "stdout",
          "text": [
            "Epoch 1/100\n",
            "8/8 [==============================] - 1s 28ms/step - loss: 0.4142 - accuracy: 0.8956 - val_loss: 0.2791 - val_accuracy: 0.9121\n",
            "Epoch 2/100\n",
            "8/8 [==============================] - 0s 6ms/step - loss: 0.2235 - accuracy: 0.9533 - val_loss: 0.2024 - val_accuracy: 0.9560\n",
            "Epoch 3/100\n",
            "8/8 [==============================] - 0s 6ms/step - loss: 0.1576 - accuracy: 0.9643 - val_loss: 0.1625 - val_accuracy: 0.9670\n",
            "Epoch 4/100\n",
            "8/8 [==============================] - 0s 5ms/step - loss: 0.1225 - accuracy: 0.9808 - val_loss: 0.1404 - val_accuracy: 0.9670\n",
            "Epoch 5/100\n",
            "8/8 [==============================] - 0s 5ms/step - loss: 0.0994 - accuracy: 0.9835 - val_loss: 0.1229 - val_accuracy: 0.9670\n",
            "Epoch 6/100\n",
            "8/8 [==============================] - 0s 6ms/step - loss: 0.0840 - accuracy: 0.9835 - val_loss: 0.1144 - val_accuracy: 0.9560\n",
            "Epoch 7/100\n",
            "8/8 [==============================] - 0s 6ms/step - loss: 0.0728 - accuracy: 0.9835 - val_loss: 0.1098 - val_accuracy: 0.9670\n",
            "Epoch 8/100\n",
            "8/8 [==============================] - 0s 6ms/step - loss: 0.0644 - accuracy: 0.9835 - val_loss: 0.1089 - val_accuracy: 0.9560\n",
            "Epoch 9/100\n",
            "8/8 [==============================] - 0s 6ms/step - loss: 0.0569 - accuracy: 0.9863 - val_loss: 0.1055 - val_accuracy: 0.9560\n",
            "Epoch 10/100\n",
            "8/8 [==============================] - 0s 6ms/step - loss: 0.0509 - accuracy: 0.9863 - val_loss: 0.1044 - val_accuracy: 0.9560\n",
            "Epoch 11/100\n",
            "8/8 [==============================] - 0s 5ms/step - loss: 0.0460 - accuracy: 0.9890 - val_loss: 0.1044 - val_accuracy: 0.9560\n",
            "Epoch 12/100\n",
            "8/8 [==============================] - 0s 6ms/step - loss: 0.0435 - accuracy: 0.9890 - val_loss: 0.1120 - val_accuracy: 0.9560\n",
            "Epoch 13/100\n",
            "8/8 [==============================] - 0s 6ms/step - loss: 0.0397 - accuracy: 0.9890 - val_loss: 0.1135 - val_accuracy: 0.9670\n",
            "Epoch 14/100\n",
            "8/8 [==============================] - 0s 6ms/step - loss: 0.0355 - accuracy: 0.9890 - val_loss: 0.1110 - val_accuracy: 0.9670\n",
            "Epoch 15/100\n",
            "8/8 [==============================] - 0s 6ms/step - loss: 0.0336 - accuracy: 0.9890 - val_loss: 0.1112 - val_accuracy: 0.9670\n",
            "Epoch 16/100\n",
            "8/8 [==============================] - 0s 5ms/step - loss: 0.0316 - accuracy: 0.9890 - val_loss: 0.1122 - val_accuracy: 0.9670\n",
            "Epoch 17/100\n",
            "8/8 [==============================] - 0s 6ms/step - loss: 0.0288 - accuracy: 0.9918 - val_loss: 0.1155 - val_accuracy: 0.9670\n",
            "Epoch 18/100\n",
            "8/8 [==============================] - 0s 6ms/step - loss: 0.0265 - accuracy: 0.9918 - val_loss: 0.1287 - val_accuracy: 0.9560\n",
            "Epoch 19/100\n",
            "8/8 [==============================] - 0s 5ms/step - loss: 0.0238 - accuracy: 0.9918 - val_loss: 0.1267 - val_accuracy: 0.9560\n",
            "Epoch 20/100\n",
            "8/8 [==============================] - 0s 7ms/step - loss: 0.0232 - accuracy: 0.9918 - val_loss: 0.1285 - val_accuracy: 0.9560\n",
            "Epoch 21/100\n",
            "8/8 [==============================] - 0s 6ms/step - loss: 0.0197 - accuracy: 0.9918 - val_loss: 0.1298 - val_accuracy: 0.9560\n",
            "Epoch 22/100\n",
            "8/8 [==============================] - 0s 5ms/step - loss: 0.0192 - accuracy: 0.9918 - val_loss: 0.1310 - val_accuracy: 0.9560\n",
            "Epoch 23/100\n",
            "8/8 [==============================] - 0s 5ms/step - loss: 0.0169 - accuracy: 0.9945 - val_loss: 0.1407 - val_accuracy: 0.9560\n",
            "Epoch 24/100\n",
            "8/8 [==============================] - 0s 5ms/step - loss: 0.0161 - accuracy: 0.9973 - val_loss: 0.1409 - val_accuracy: 0.9560\n",
            "Epoch 25/100\n",
            "8/8 [==============================] - 0s 5ms/step - loss: 0.0132 - accuracy: 1.0000 - val_loss: 0.1347 - val_accuracy: 0.9560\n",
            "Epoch 26/100\n",
            "8/8 [==============================] - 0s 6ms/step - loss: 0.0128 - accuracy: 1.0000 - val_loss: 0.1397 - val_accuracy: 0.9560\n",
            "Epoch 27/100\n",
            "8/8 [==============================] - 0s 5ms/step - loss: 0.0112 - accuracy: 1.0000 - val_loss: 0.1553 - val_accuracy: 0.9560\n",
            "Epoch 28/100\n",
            "8/8 [==============================] - 0s 5ms/step - loss: 0.0105 - accuracy: 1.0000 - val_loss: 0.1517 - val_accuracy: 0.9560\n",
            "Epoch 29/100\n",
            "8/8 [==============================] - 0s 5ms/step - loss: 0.0094 - accuracy: 1.0000 - val_loss: 0.1473 - val_accuracy: 0.9560\n",
            "Epoch 30/100\n",
            "8/8 [==============================] - 0s 5ms/step - loss: 0.0083 - accuracy: 1.0000 - val_loss: 0.1462 - val_accuracy: 0.9560\n",
            "Epoch 31/100\n",
            "8/8 [==============================] - 0s 5ms/step - loss: 0.0086 - accuracy: 0.9973 - val_loss: 0.1552 - val_accuracy: 0.9560\n",
            "Epoch 32/100\n",
            "8/8 [==============================] - 0s 5ms/step - loss: 0.0067 - accuracy: 1.0000 - val_loss: 0.1629 - val_accuracy: 0.9560\n",
            "Epoch 33/100\n",
            "8/8 [==============================] - 0s 6ms/step - loss: 0.0065 - accuracy: 1.0000 - val_loss: 0.1682 - val_accuracy: 0.9560\n",
            "Epoch 34/100\n",
            "8/8 [==============================] - 0s 5ms/step - loss: 0.0053 - accuracy: 1.0000 - val_loss: 0.1671 - val_accuracy: 0.9670\n",
            "Epoch 35/100\n",
            "8/8 [==============================] - 0s 6ms/step - loss: 0.0052 - accuracy: 1.0000 - val_loss: 0.1701 - val_accuracy: 0.9560\n",
            "Epoch 36/100\n",
            "8/8 [==============================] - 0s 5ms/step - loss: 0.0042 - accuracy: 1.0000 - val_loss: 0.1845 - val_accuracy: 0.9560\n",
            "Epoch 37/100\n",
            "8/8 [==============================] - 0s 5ms/step - loss: 0.0038 - accuracy: 1.0000 - val_loss: 0.1846 - val_accuracy: 0.9560\n",
            "Epoch 38/100\n",
            "8/8 [==============================] - 0s 5ms/step - loss: 0.0034 - accuracy: 1.0000 - val_loss: 0.1839 - val_accuracy: 0.9670\n",
            "Epoch 39/100\n",
            "8/8 [==============================] - 0s 5ms/step - loss: 0.0027 - accuracy: 1.0000 - val_loss: 0.1811 - val_accuracy: 0.9670\n",
            "Epoch 40/100\n",
            "8/8 [==============================] - 0s 6ms/step - loss: 0.0024 - accuracy: 1.0000 - val_loss: 0.1839 - val_accuracy: 0.9560\n",
            "Epoch 41/100\n",
            "8/8 [==============================] - 0s 6ms/step - loss: 0.0019 - accuracy: 1.0000 - val_loss: 0.1990 - val_accuracy: 0.9670\n",
            "Epoch 42/100\n",
            "8/8 [==============================] - 0s 5ms/step - loss: 0.0022 - accuracy: 1.0000 - val_loss: 0.1715 - val_accuracy: 0.9670\n",
            "Epoch 43/100\n",
            "8/8 [==============================] - 0s 5ms/step - loss: 0.0017 - accuracy: 1.0000 - val_loss: 0.1955 - val_accuracy: 0.9560\n",
            "Epoch 44/100\n",
            "8/8 [==============================] - 0s 5ms/step - loss: 0.0013 - accuracy: 1.0000 - val_loss: 0.1851 - val_accuracy: 0.9560\n",
            "Epoch 45/100\n",
            "8/8 [==============================] - 0s 5ms/step - loss: 0.0012 - accuracy: 1.0000 - val_loss: 0.2046 - val_accuracy: 0.9560\n",
            "Epoch 46/100\n",
            "8/8 [==============================] - 0s 5ms/step - loss: 0.0010 - accuracy: 1.0000 - val_loss: 0.1844 - val_accuracy: 0.9670\n",
            "Epoch 47/100\n",
            "8/8 [==============================] - 0s 6ms/step - loss: 8.5932e-04 - accuracy: 1.0000 - val_loss: 0.2052 - val_accuracy: 0.9670\n",
            "Epoch 48/100\n",
            "8/8 [==============================] - 0s 5ms/step - loss: 7.5506e-04 - accuracy: 1.0000 - val_loss: 0.2178 - val_accuracy: 0.9670\n",
            "Epoch 49/100\n",
            "8/8 [==============================] - 0s 5ms/step - loss: 6.1965e-04 - accuracy: 1.0000 - val_loss: 0.2170 - val_accuracy: 0.9670\n",
            "Epoch 50/100\n",
            "8/8 [==============================] - 0s 5ms/step - loss: 5.7246e-04 - accuracy: 1.0000 - val_loss: 0.2032 - val_accuracy: 0.9670\n",
            "Epoch 51/100\n",
            "8/8 [==============================] - 0s 6ms/step - loss: 4.1771e-04 - accuracy: 1.0000 - val_loss: 0.2205 - val_accuracy: 0.9670\n",
            "Epoch 52/100\n",
            "8/8 [==============================] - 0s 6ms/step - loss: 3.6963e-04 - accuracy: 1.0000 - val_loss: 0.2337 - val_accuracy: 0.9670\n",
            "Epoch 53/100\n",
            "8/8 [==============================] - 0s 6ms/step - loss: 3.2696e-04 - accuracy: 1.0000 - val_loss: 0.2287 - val_accuracy: 0.9670\n",
            "Epoch 54/100\n",
            "8/8 [==============================] - 0s 6ms/step - loss: 3.6450e-04 - accuracy: 1.0000 - val_loss: 0.2326 - val_accuracy: 0.9670\n",
            "Epoch 55/100\n",
            "8/8 [==============================] - 0s 6ms/step - loss: 2.0844e-04 - accuracy: 1.0000 - val_loss: 0.2432 - val_accuracy: 0.9670\n",
            "Epoch 56/100\n",
            "8/8 [==============================] - 0s 6ms/step - loss: 1.6039e-04 - accuracy: 1.0000 - val_loss: 0.2520 - val_accuracy: 0.9670\n",
            "Epoch 57/100\n",
            "8/8 [==============================] - 0s 6ms/step - loss: 1.7188e-04 - accuracy: 1.0000 - val_loss: 0.2466 - val_accuracy: 0.9670\n",
            "Epoch 58/100\n",
            "8/8 [==============================] - 0s 6ms/step - loss: 1.3248e-04 - accuracy: 1.0000 - val_loss: 0.2670 - val_accuracy: 0.9670\n",
            "Epoch 59/100\n",
            "8/8 [==============================] - 0s 6ms/step - loss: 1.2192e-04 - accuracy: 1.0000 - val_loss: 0.2601 - val_accuracy: 0.9670\n",
            "Epoch 60/100\n",
            "8/8 [==============================] - 0s 6ms/step - loss: 1.3147e-04 - accuracy: 1.0000 - val_loss: 0.2542 - val_accuracy: 0.9670\n",
            "Epoch 61/100\n",
            "8/8 [==============================] - 0s 10ms/step - loss: 7.5555e-05 - accuracy: 1.0000 - val_loss: 0.2512 - val_accuracy: 0.9670\n",
            "Epoch 62/100\n",
            "8/8 [==============================] - 0s 6ms/step - loss: 6.1155e-05 - accuracy: 1.0000 - val_loss: 0.2519 - val_accuracy: 0.9670\n",
            "Epoch 63/100\n",
            "8/8 [==============================] - 0s 7ms/step - loss: 5.5698e-05 - accuracy: 1.0000 - val_loss: 0.2690 - val_accuracy: 0.9670\n",
            "Epoch 64/100\n",
            "8/8 [==============================] - 0s 6ms/step - loss: 4.6918e-05 - accuracy: 1.0000 - val_loss: 0.2648 - val_accuracy: 0.9670\n",
            "Epoch 65/100\n",
            "8/8 [==============================] - 0s 7ms/step - loss: 4.3627e-05 - accuracy: 1.0000 - val_loss: 0.2275 - val_accuracy: 0.9670\n",
            "Epoch 66/100\n",
            "8/8 [==============================] - 0s 6ms/step - loss: 3.5423e-05 - accuracy: 1.0000 - val_loss: 0.2628 - val_accuracy: 0.9670\n",
            "Epoch 67/100\n",
            "8/8 [==============================] - 0s 7ms/step - loss: 2.7945e-05 - accuracy: 1.0000 - val_loss: 0.2707 - val_accuracy: 0.9670\n",
            "Epoch 68/100\n",
            "8/8 [==============================] - 0s 6ms/step - loss: 2.9745e-05 - accuracy: 1.0000 - val_loss: 0.2883 - val_accuracy: 0.9670\n",
            "Epoch 69/100\n",
            "8/8 [==============================] - 0s 6ms/step - loss: 2.0355e-05 - accuracy: 1.0000 - val_loss: 0.2893 - val_accuracy: 0.9670\n",
            "Epoch 70/100\n",
            "8/8 [==============================] - 0s 7ms/step - loss: 1.3364e-05 - accuracy: 1.0000 - val_loss: 0.2984 - val_accuracy: 0.9670\n",
            "Epoch 71/100\n",
            "8/8 [==============================] - 0s 7ms/step - loss: 1.3364e-05 - accuracy: 1.0000 - val_loss: 0.2915 - val_accuracy: 0.9670\n",
            "Epoch 72/100\n",
            "8/8 [==============================] - 0s 9ms/step - loss: 1.0311e-05 - accuracy: 1.0000 - val_loss: 0.2756 - val_accuracy: 0.9670\n",
            "Epoch 73/100\n",
            "8/8 [==============================] - 0s 6ms/step - loss: 8.3224e-06 - accuracy: 1.0000 - val_loss: 0.2926 - val_accuracy: 0.9670\n",
            "Epoch 74/100\n",
            "8/8 [==============================] - 0s 6ms/step - loss: 6.3269e-06 - accuracy: 1.0000 - val_loss: 0.2820 - val_accuracy: 0.9670\n",
            "Epoch 75/100\n",
            "8/8 [==============================] - 0s 6ms/step - loss: 5.4830e-06 - accuracy: 1.0000 - val_loss: 0.3037 - val_accuracy: 0.9670\n",
            "Epoch 76/100\n",
            "8/8 [==============================] - 0s 6ms/step - loss: 6.4279e-06 - accuracy: 1.0000 - val_loss: 0.3009 - val_accuracy: 0.9670\n",
            "Epoch 77/100\n",
            "8/8 [==============================] - 0s 6ms/step - loss: 3.3888e-06 - accuracy: 1.0000 - val_loss: 0.3208 - val_accuracy: 0.9670\n",
            "Epoch 78/100\n",
            "8/8 [==============================] - 0s 7ms/step - loss: 2.4663e-06 - accuracy: 1.0000 - val_loss: 0.3139 - val_accuracy: 0.9670\n",
            "Epoch 79/100\n",
            "8/8 [==============================] - 0s 6ms/step - loss: 2.2249e-06 - accuracy: 1.0000 - val_loss: 0.3386 - val_accuracy: 0.9670\n",
            "Epoch 80/100\n",
            "8/8 [==============================] - 0s 7ms/step - loss: 2.0823e-06 - accuracy: 1.0000 - val_loss: 0.3153 - val_accuracy: 0.9670\n",
            "Epoch 81/100\n",
            "8/8 [==============================] - 0s 6ms/step - loss: 1.6058e-06 - accuracy: 1.0000 - val_loss: 0.3338 - val_accuracy: 0.9670\n",
            "Epoch 82/100\n",
            "8/8 [==============================] - 0s 8ms/step - loss: 2.3246e-06 - accuracy: 1.0000 - val_loss: 0.3434 - val_accuracy: 0.9560\n",
            "Epoch 83/100\n",
            "8/8 [==============================] - 0s 7ms/step - loss: 1.3002e-06 - accuracy: 1.0000 - val_loss: 0.3268 - val_accuracy: 0.9670\n",
            "Epoch 84/100\n",
            "8/8 [==============================] - 0s 6ms/step - loss: 1.4563e-06 - accuracy: 1.0000 - val_loss: 0.3291 - val_accuracy: 0.9670\n",
            "Epoch 85/100\n",
            "8/8 [==============================] - 0s 7ms/step - loss: 6.9596e-07 - accuracy: 1.0000 - val_loss: 0.3251 - val_accuracy: 0.9670\n",
            "Epoch 86/100\n",
            "8/8 [==============================] - 0s 7ms/step - loss: 5.7863e-07 - accuracy: 1.0000 - val_loss: 0.3245 - val_accuracy: 0.9670\n",
            "Epoch 87/100\n",
            "8/8 [==============================] - 0s 10ms/step - loss: 5.5607e-07 - accuracy: 1.0000 - val_loss: 0.3480 - val_accuracy: 0.9670\n",
            "Epoch 88/100\n",
            "8/8 [==============================] - 0s 7ms/step - loss: 4.5655e-07 - accuracy: 1.0000 - val_loss: 0.3382 - val_accuracy: 0.9670\n",
            "Epoch 89/100\n",
            "8/8 [==============================] - 0s 7ms/step - loss: 3.9872e-07 - accuracy: 1.0000 - val_loss: 0.3474 - val_accuracy: 0.9670\n",
            "Epoch 90/100\n",
            "8/8 [==============================] - 0s 7ms/step - loss: 3.3157e-07 - accuracy: 1.0000 - val_loss: 0.3503 - val_accuracy: 0.9670\n",
            "Epoch 91/100\n",
            "8/8 [==============================] - 0s 7ms/step - loss: 2.9651e-07 - accuracy: 1.0000 - val_loss: 0.3485 - val_accuracy: 0.9670\n",
            "Epoch 92/100\n",
            "8/8 [==============================] - 0s 7ms/step - loss: 4.7122e-07 - accuracy: 1.0000 - val_loss: 0.3557 - val_accuracy: 0.9670\n",
            "Epoch 93/100\n",
            "8/8 [==============================] - 0s 7ms/step - loss: 2.2360e-07 - accuracy: 1.0000 - val_loss: 0.3571 - val_accuracy: 0.9670\n",
            "Epoch 94/100\n",
            "8/8 [==============================] - 0s 7ms/step - loss: 1.8332e-07 - accuracy: 1.0000 - val_loss: 0.3557 - val_accuracy: 0.9670\n",
            "Epoch 95/100\n",
            "8/8 [==============================] - 0s 7ms/step - loss: 1.7212e-07 - accuracy: 1.0000 - val_loss: 0.3519 - val_accuracy: 0.9670\n",
            "Epoch 96/100\n",
            "8/8 [==============================] - 0s 7ms/step - loss: 1.9861e-07 - accuracy: 1.0000 - val_loss: 0.3604 - val_accuracy: 0.9670\n",
            "Epoch 97/100\n",
            "8/8 [==============================] - 0s 7ms/step - loss: 1.3261e-07 - accuracy: 1.0000 - val_loss: 0.3665 - val_accuracy: 0.9670\n",
            "Epoch 98/100\n",
            "8/8 [==============================] - 0s 8ms/step - loss: 1.8155e-07 - accuracy: 1.0000 - val_loss: 0.3723 - val_accuracy: 0.9670\n",
            "Epoch 99/100\n",
            "8/8 [==============================] - 0s 7ms/step - loss: 9.3339e-08 - accuracy: 1.0000 - val_loss: 0.3690 - val_accuracy: 0.9670\n",
            "Epoch 100/100\n",
            "8/8 [==============================] - 0s 6ms/step - loss: 1.0135e-07 - accuracy: 1.0000 - val_loss: 0.3675 - val_accuracy: 0.9670\n"
          ]
        }
      ]
    },
    {
      "cell_type": "code",
      "source": [
        "model2.evaluate(X_test, y_test)"
      ],
      "metadata": {
        "id": "Pt2E7L3w5bJP",
        "colab": {
          "base_uri": "https://localhost:8080/"
        },
        "outputId": "b4de451c-0408-4448-8dc1-4aae4ba76151"
      },
      "execution_count": 17,
      "outputs": [
        {
          "output_type": "stream",
          "name": "stdout",
          "text": [
            "4/4 [==============================] - 0s 4ms/step - loss: 0.2782 - accuracy: 0.9825\n"
          ]
        },
        {
          "output_type": "execute_result",
          "data": {
            "text/plain": [
              "[0.2781769633293152, 0.9824561476707458]"
            ]
          },
          "metadata": {},
          "execution_count": 17
        }
      ]
    },
    {
      "cell_type": "code",
      "source": [
        "y_acc2 = history2.history['accuracy']\n",
        "y_vloss2 = history2.history['val_loss']\n",
        "xs2 = np.arange(1,len(y_acc2)+1)        # epoch"
      ],
      "metadata": {
        "id": "y8mGdjUD5kF_"
      },
      "execution_count": 18,
      "outputs": []
    },
    {
      "cell_type": "code",
      "source": [
        "plt.figure(figsize=(12,8))\n",
        "plt.plot(xs2, y_acc2, label='train accuracy')\n",
        "plt.plot(xs2, y_vloss2, label='validation loss')\n",
        "plt.legend()\n",
        "plt.grid()\n",
        "plt.ylim([0,1.1])\n",
        "plt.xlabel('Epoch')\n",
        "plt.title('RMSprop optimizer')\n",
        "plt.show()"
      ],
      "metadata": {
        "id": "OOuC2EJB5vF_",
        "colab": {
          "base_uri": "https://localhost:8080/",
          "height": 513
        },
        "outputId": "119d1fe5-fcb4-4a27-8e74-c891c69b65a0"
      },
      "execution_count": 19,
      "outputs": [
        {
          "output_type": "display_data",
          "data": {
            "text/plain": [
              "<Figure size 864x576 with 1 Axes>"
            ],
            "image/png": "[encoded data removed]"
          },
          "metadata": {
            "needs_background": "light"
          }
        }
      ]
    },
    {
      "cell_type": "markdown",
      "source": [
        "- 2가지 옵티마이저 비교"
      ],
      "metadata": {
        "id": "dDz29K5H343l"
      }
    },
    {
      "cell_type": "code",
      "source": [
        "plt.figure(figsize=(20,8))\n",
        "plt.subplot(121)\n",
        "plt.plot(xs, y_acc, label='train accuracy')\n",
        "plt.plot(xs, y_vloss, label='validation loss')\n",
        "plt.legend()\n",
        "plt.grid()\n",
        "plt.ylim([0,1.1])\n",
        "plt.xlabel('Epoch')\n",
        "plt.title('Adam optimizer')\n",
        "\n",
        "plt.subplot(122)\n",
        "plt.plot(xs2, y_acc2, label='train accuracy')\n",
        "plt.plot(xs2, y_vloss2, label='validation loss')\n",
        "plt.legend()\n",
        "plt.grid()\n",
        "plt.ylim([0,1.1])\n",
        "plt.xlabel('Epoch')\n",
        "plt.title('RMSprop optimizer')\n",
        "\n",
        "plt.show()"
      ],
      "metadata": {
        "id": "qX34Ti7h5_Xa",
        "colab": {
          "base_uri": "https://localhost:8080/",
          "height": 513
        },
        "outputId": "58f039fb-5e81-4664-e129-cef839c81379"
      },
      "execution_count": 20,
      "outputs": [
        {
          "output_type": "display_data",
          "data": {
            "text/plain": [
              "<Figure size 1440x576 with 2 Axes>"
            ],
            "image/png": "[encoded data removed]"
          },
          "metadata": {
            "needs_background": "light"
          }
        }
      ]
    },
    {
      "cell_type": "code",
      "source": [
        ""
      ],
      "metadata": {
        "id": "kIWH9oEx0cMD"
      },
      "execution_count": null,
      "outputs": []
    }
  ]
}