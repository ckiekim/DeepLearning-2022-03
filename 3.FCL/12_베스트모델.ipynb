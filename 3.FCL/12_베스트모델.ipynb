{
  "nbformat": 4,
  "nbformat_minor": 0,
  "metadata": {
    "colab": {
      "name": "12_베스트모델.ipynb",
      "provenance": [],
      "collapsed_sections": []
    },
    "kernelspec": {
      "name": "python3",
      "display_name": "Python 3"
    },
    "language_info": {
      "name": "python"
    }
  },
  "cells": [
    {
      "cell_type": "markdown",
      "source": [
        "# Unit 12. 베스트 모델 저장하기\n",
        "### - 이진 분류 - 유방암 예측 사례"
      ],
      "metadata": {
        "id": "Z-X-A2DWlwiE"
      }
    },
    {
      "cell_type": "code",
      "source": [
        "import numpy as np\n",
        "import matplotlib.pyplot as plt"
      ],
      "metadata": {
        "id": "TD5BpXhZmLij"
      },
      "execution_count": null,
      "outputs": []
    },
    {
      "cell_type": "markdown",
      "source": [
        "- 데이터 준비"
      ],
      "metadata": {
        "id": "-zlzcx5toBTi"
      }
    },
    {
      "cell_type": "code",
      "execution_count": null,
      "metadata": {
        "id": "BN5NDMhzlfrM"
      },
      "outputs": [],
      "source": [
        "from sklearn.datasets import load_breast_cancer\n",
        "cancer = load_breast_cancer()"
      ]
    },
    {
      "cell_type": "code",
      "source": [
        "from sklearn.preprocessing import StandardScaler\n",
        "scaler = StandardScaler()\n",
        "cancer_std = scaler.fit_transform(cancer.data)"
      ],
      "metadata": {
        "id": "_hRk4U_jpSwg"
      },
      "execution_count": null,
      "outputs": []
    },
    {
      "cell_type": "code",
      "source": [
        "from sklearn.model_selection import train_test_split\n",
        "X_train, X_test, y_train, y_test = train_test_split(\n",
        "    cancer_std, cancer.target, stratify=cancer.target, test_size=0.2, random_state=2022\n",
        ")\n",
        "X_train.shape, X_test.shape, y_train.shape, y_test.shape"
      ],
      "metadata": {
        "id": "Dyn3-HGznGqW"
      },
      "execution_count": null,
      "outputs": []
    },
    {
      "cell_type": "markdown",
      "source": [
        "### 1. Best Model 저장하고 불러오기"
      ],
      "metadata": {
        "id": "YX4xCv0mHU75"
      }
    },
    {
      "cell_type": "markdown",
      "source": [
        "- 모델 정의"
      ],
      "metadata": {
        "id": "0q2mIoPYoHvJ"
      }
    },
    {
      "cell_type": "code",
      "source": [
        "from tensorflow.keras.models import Sequential\n",
        "from tensorflow.keras.layers import Dense"
      ],
      "metadata": {
        "id": "_8Amy7D5np4X"
      },
      "execution_count": null,
      "outputs": []
    },
    {
      "cell_type": "code",
      "source": [
        "model = Sequential([\n",
        "    Dense(100, input_shape=(30,), activation='relu'),\n",
        "    Dense(24, activation='relu'),\n",
        "    Dense(1, activation='sigmoid')\n",
        "])\n",
        "model.summary()"
      ],
      "metadata": {
        "id": "C-kdkjHfusXa"
      },
      "execution_count": null,
      "outputs": []
    },
    {
      "cell_type": "markdown",
      "source": [
        "- 모델 설정"
      ],
      "metadata": {
        "id": "evEWBAcDv6Ai"
      }
    },
    {
      "cell_type": "code",
      "source": [
        "model.compile(optimizer='adam', loss='binary_crossentropy', metrics=['accuracy'])"
      ],
      "metadata": {
        "id": "Cy5iuRbcv1QB"
      },
      "execution_count": null,
      "outputs": []
    },
    {
      "cell_type": "markdown",
      "source": [
        "- Callback 설정 - 베스트 모델 저장"
      ],
      "metadata": {
        "id": "Sa_yOo92FOW9"
      }
    },
    {
      "cell_type": "code",
      "source": [
        "from tensorflow.keras.callbacks import ModelCheckpoint\n",
        "\n",
        "modelpath = 'best_model.h5'\n",
        "mc = ModelCheckpoint(filepath=modelpath, monitor='val_loss', verbose=1,\n",
        "                     save_best_only=True)"
      ],
      "metadata": {
        "id": "mh_PCwc2FNUz"
      },
      "execution_count": null,
      "outputs": []
    },
    {
      "cell_type": "markdown",
      "source": [
        "- 모델 학습"
      ],
      "metadata": {
        "id": "jBOtOphMzllW"
      }
    },
    {
      "cell_type": "code",
      "source": [
        "history = model.fit(X_train, y_train, validation_split=0.2, epochs=100, batch_size=50,\n",
        "                    verbose=1, callbacks=[mc])"
      ],
      "metadata": {
        "id": "ITEwb5V8zj9A"
      },
      "execution_count": null,
      "outputs": []
    },
    {
      "cell_type": "markdown",
      "source": [
        "- 베스트 모델 불러오기"
      ],
      "metadata": {
        "id": "CFE8gePfGoP4"
      }
    },
    {
      "cell_type": "code",
      "source": [
        "from tensorflow.keras.models import load_model\n",
        "\n",
        "best_model = load_model(modelpath)"
      ],
      "metadata": {
        "id": "8-c_IYpCGs7c"
      },
      "execution_count": null,
      "outputs": []
    },
    {
      "cell_type": "markdown",
      "source": [
        "- 모델 평가"
      ],
      "metadata": {
        "id": "mUEScNtX0ZUL"
      }
    },
    {
      "cell_type": "code",
      "source": [
        "best_model.evaluate(X_test, y_test)"
      ],
      "metadata": {
        "id": "YY7oOuYw0J05"
      },
      "execution_count": null,
      "outputs": []
    },
    {
      "cell_type": "markdown",
      "source": [
        "### 2. 베스트 모델 저장하고 조기 종료하기"
      ],
      "metadata": {
        "id": "bUhU2dCEzRhs"
      }
    },
    {
      "cell_type": "markdown",
      "source": [
        "- Dropout layer 추가"
      ],
      "metadata": {
        "id": "vatvDesiKBtx"
      }
    },
    {
      "cell_type": "code",
      "source": [
        "from tensorflow.keras.layers import Dropout\n",
        "\n",
        "model2 = Sequential()\n",
        "model2.add(Dense(100, input_dim=30, activation='relu'))\n",
        "model2.add(Dense(24, activation='relu'))\n",
        "model2.add(Dropout(0.5))\n",
        "model2.add(Dense(1, activation='sigmoid'))\n",
        "model2.summary()"
      ],
      "metadata": {
        "id": "of6Dx8aS41gf"
      },
      "execution_count": null,
      "outputs": []
    },
    {
      "cell_type": "code",
      "source": [
        "model2.compile(optimizer='adam', loss='binary_crossentropy', metrics=['accuracy'])"
      ],
      "metadata": {
        "id": "xvFK9UQ_5Okq"
      },
      "execution_count": null,
      "outputs": []
    },
    {
      "cell_type": "markdown",
      "source": [
        "- 조기 종료 조건 설정"
      ],
      "metadata": {
        "id": "btbD3xIVHuk-"
      }
    },
    {
      "cell_type": "code",
      "source": [
        "from tensorflow.keras.callbacks import EarlyStopping\n",
        "\n",
        "es = EarlyStopping(monitor='val_loss', patience=30)"
      ],
      "metadata": {
        "id": "7bLKSzOsH06X"
      },
      "execution_count": null,
      "outputs": []
    },
    {
      "cell_type": "code",
      "source": [
        "modelpath2 = 'best_model2.h5'\n",
        "mc2 = ModelCheckpoint(filepath=modelpath2, monitor='val_loss', verbose=1,\n",
        "                      save_best_only=True)"
      ],
      "metadata": {
        "id": "tygK6GoyIsVp"
      },
      "execution_count": null,
      "outputs": []
    },
    {
      "cell_type": "code",
      "source": [
        "history2 = model2.fit(X_train, y_train, validation_split=0.2, epochs=100, batch_size=50,\n",
        "                      verbose=1, callbacks=[mc2, es])"
      ],
      "metadata": {
        "id": "izbsW1xN5URX"
      },
      "execution_count": null,
      "outputs": []
    },
    {
      "cell_type": "code",
      "source": [
        "best_model2 = load_model(modelpath2)\n",
        "best_model2.evaluate(X_test, y_test)"
      ],
      "metadata": {
        "id": "Pt2E7L3w5bJP"
      },
      "execution_count": null,
      "outputs": []
    },
    {
      "cell_type": "code",
      "source": [
        "y_acc2 = history2.history['accuracy']\n",
        "y_vloss2 = history2.history['val_loss']\n",
        "xs2 = np.arange(1,len(y_acc2)+1)        # epoch"
      ],
      "metadata": {
        "id": "y8mGdjUD5kF_"
      },
      "execution_count": null,
      "outputs": []
    },
    {
      "cell_type": "code",
      "source": [
        "plt.figure(figsize=(12,8))\n",
        "plt.plot(xs2, y_acc2, label='train accuracy')\n",
        "plt.plot(xs2, y_vloss2, label='validation loss')\n",
        "plt.legend()\n",
        "plt.grid()\n",
        "plt.ylim([0,1.1])\n",
        "plt.xlabel('Epoch')\n",
        "plt.title('Best model + Early stop')\n",
        "plt.show()"
      ],
      "metadata": {
        "id": "OOuC2EJB5vF_"
      },
      "execution_count": null,
      "outputs": []
    },
    {
      "cell_type": "code",
      "source": [
        ""
      ],
      "metadata": {
        "id": "kIWH9oEx0cMD"
      },
      "execution_count": null,
      "outputs": []
    }
  ]
}