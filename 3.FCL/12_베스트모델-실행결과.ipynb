{
  "nbformat": 4,
  "nbformat_minor": 0,
  "metadata": {
    "colab": {
      "name": "12_베스트모델.ipynb",
      "provenance": [],
      "collapsed_sections": []
    },
    "kernelspec": {
      "name": "python3",
      "display_name": "Python 3"
    },
    "language_info": {
      "name": "python"
    }
  },
  "cells": [
    {
      "cell_type": "markdown",
      "source": [
        "# Unit 12. 베스트 모델 저장하기\n",
        "### - 이진 분류 - 유방암 예측 사례"
      ],
      "metadata": {
        "id": "Z-X-A2DWlwiE"
      }
    },
    {
      "cell_type": "code",
      "source": [
        "import numpy as np\n",
        "import matplotlib.pyplot as plt"
      ],
      "metadata": {
        "id": "TD5BpXhZmLij"
      },
      "execution_count": 1,
      "outputs": []
    },
    {
      "cell_type": "markdown",
      "source": [
        "- 데이터 준비"
      ],
      "metadata": {
        "id": "-zlzcx5toBTi"
      }
    },
    {
      "cell_type": "code",
      "execution_count": 2,
      "metadata": {
        "id": "BN5NDMhzlfrM"
      },
      "outputs": [],
      "source": [
        "from sklearn.datasets import load_breast_cancer\n",
        "cancer = load_breast_cancer()"
      ]
    },
    {
      "cell_type": "code",
      "source": [
        "from sklearn.preprocessing import StandardScaler\n",
        "scaler = StandardScaler()\n",
        "cancer_std = scaler.fit_transform(cancer.data)"
      ],
      "metadata": {
        "id": "_hRk4U_jpSwg"
      },
      "execution_count": 3,
      "outputs": []
    },
    {
      "cell_type": "code",
      "source": [
        "from sklearn.model_selection import train_test_split\n",
        "X_train, X_test, y_train, y_test = train_test_split(\n",
        "    cancer_std, cancer.target, stratify=cancer.target, test_size=0.2, random_state=2022\n",
        ")\n",
        "X_train.shape, X_test.shape, y_train.shape, y_test.shape"
      ],
      "metadata": {
        "id": "Dyn3-HGznGqW",
        "colab": {
          "base_uri": "https://localhost:8080/"
        },
        "outputId": "a9c7263b-d578-4ada-ceea-ddde3d21dcc0"
      },
      "execution_count": 4,
      "outputs": [
        {
          "output_type": "execute_result",
          "data": {
            "text/plain": [
              "((455, 30), (114, 30), (455,), (114,))"
            ]
          },
          "metadata": {},
          "execution_count": 4
        }
      ]
    },
    {
      "cell_type": "markdown",
      "source": [
        "### 1. Best Model 저장하고 불러오기"
      ],
      "metadata": {
        "id": "YX4xCv0mHU75"
      }
    },
    {
      "cell_type": "markdown",
      "source": [
        "- 모델 정의"
      ],
      "metadata": {
        "id": "0q2mIoPYoHvJ"
      }
    },
    {
      "cell_type": "code",
      "source": [
        "from tensorflow.keras.models import Sequential\n",
        "from tensorflow.keras.layers import Dense"
      ],
      "metadata": {
        "id": "_8Amy7D5np4X"
      },
      "execution_count": 5,
      "outputs": []
    },
    {
      "cell_type": "code",
      "source": [
        "model = Sequential([\n",
        "    Dense(100, input_shape=(30,), activation='relu'),\n",
        "    Dense(24, activation='relu'),\n",
        "    Dense(1, activation='sigmoid')\n",
        "])\n",
        "model.summary()"
      ],
      "metadata": {
        "id": "C-kdkjHfusXa",
        "colab": {
          "base_uri": "https://localhost:8080/"
        },
        "outputId": "ebd9e4e3-36e4-4b0c-8383-796a4600ab8f"
      },
      "execution_count": 6,
      "outputs": [
        {
          "output_type": "stream",
          "name": "stdout",
          "text": [
            "Model: \"sequential\"\n",
            "_________________________________________________________________\n",
            " Layer (type)                Output Shape              Param #   \n",
            "=================================================================\n",
            " dense (Dense)               (None, 100)               3100      \n",
            "                                                                 \n",
            " dense_1 (Dense)             (None, 24)                2424      \n",
            "                                                                 \n",
            " dense_2 (Dense)             (None, 1)                 25        \n",
            "                                                                 \n",
            "=================================================================\n",
            "Total params: 5,549\n",
            "Trainable params: 5,549\n",
            "Non-trainable params: 0\n",
            "_________________________________________________________________\n"
          ]
        }
      ]
    },
    {
      "cell_type": "markdown",
      "source": [
        "- 모델 설정"
      ],
      "metadata": {
        "id": "evEWBAcDv6Ai"
      }
    },
    {
      "cell_type": "code",
      "source": [
        "model.compile(optimizer='adam', loss='binary_crossentropy', metrics=['accuracy'])"
      ],
      "metadata": {
        "id": "Cy5iuRbcv1QB"
      },
      "execution_count": 7,
      "outputs": []
    },
    {
      "cell_type": "markdown",
      "source": [
        "- Callback 설정 - 베스트 모델 저장"
      ],
      "metadata": {
        "id": "Sa_yOo92FOW9"
      }
    },
    {
      "cell_type": "code",
      "source": [
        "from tensorflow.keras.callbacks import ModelCheckpoint\n",
        "\n",
        "modelpath = 'best_model.h5'\n",
        "mc = ModelCheckpoint(filepath=modelpath, monitor='val_loss', verbose=1,\n",
        "                     save_best_only=True)"
      ],
      "metadata": {
        "id": "mh_PCwc2FNUz"
      },
      "execution_count": 8,
      "outputs": []
    },
    {
      "cell_type": "markdown",
      "source": [
        "- 모델 학습"
      ],
      "metadata": {
        "id": "jBOtOphMzllW"
      }
    },
    {
      "cell_type": "code",
      "source": [
        "history = model.fit(X_train, y_train, validation_split=0.2, epochs=100, batch_size=50,\n",
        "                    verbose=1, callbacks=[mc])"
      ],
      "metadata": {
        "id": "ITEwb5V8zj9A",
        "colab": {
          "base_uri": "https://localhost:8080/"
        },
        "outputId": "ff263642-1f46-4f99-c8ed-6ec4a8cbc648"
      },
      "execution_count": 9,
      "outputs": [
        {
          "output_type": "stream",
          "name": "stdout",
          "text": [
            "Epoch 1/100\n",
            "1/8 [==>...........................] - ETA: 5s - loss: 0.8323 - accuracy: 0.4400\n",
            "Epoch 1: val_loss improved from inf to 0.48854, saving model to best_model.h5\n",
            "8/8 [==============================] - 1s 34ms/step - loss: 0.7180 - accuracy: 0.4973 - val_loss: 0.4885 - val_accuracy: 0.8571\n",
            "Epoch 2/100\n",
            "1/8 [==>...........................] - ETA: 0s - loss: 0.5116 - accuracy: 0.8200\n",
            "Epoch 2: val_loss improved from 0.48854 to 0.32092, saving model to best_model.h5\n",
            "8/8 [==============================] - 0s 8ms/step - loss: 0.4145 - accuracy: 0.9038 - val_loss: 0.3209 - val_accuracy: 0.9231\n",
            "Epoch 3/100\n",
            "1/8 [==>...........................] - ETA: 0s - loss: 0.3101 - accuracy: 0.9000\n",
            "Epoch 3: val_loss improved from 0.32092 to 0.23685, saving model to best_model.h5\n",
            "8/8 [==============================] - 0s 9ms/step - loss: 0.2777 - accuracy: 0.9313 - val_loss: 0.2369 - val_accuracy: 0.9231\n",
            "Epoch 4/100\n",
            "1/8 [==>...........................] - ETA: 0s - loss: 0.1995 - accuracy: 0.9600\n",
            "Epoch 4: val_loss improved from 0.23685 to 0.19001, saving model to best_model.h5\n",
            "8/8 [==============================] - 0s 8ms/step - loss: 0.2058 - accuracy: 0.9396 - val_loss: 0.1900 - val_accuracy: 0.9451\n",
            "Epoch 5/100\n",
            "1/8 [==>...........................] - ETA: 0s - loss: 0.1351 - accuracy: 0.9800\n",
            "Epoch 5: val_loss improved from 0.19001 to 0.16298, saving model to best_model.h5\n",
            "8/8 [==============================] - 0s 8ms/step - loss: 0.1663 - accuracy: 0.9451 - val_loss: 0.1630 - val_accuracy: 0.9451\n",
            "Epoch 6/100\n",
            "1/8 [==>...........................] - ETA: 0s - loss: 0.1624 - accuracy: 0.9400\n",
            "Epoch 6: val_loss improved from 0.16298 to 0.14771, saving model to best_model.h5\n",
            "8/8 [==============================] - 0s 8ms/step - loss: 0.1385 - accuracy: 0.9533 - val_loss: 0.1477 - val_accuracy: 0.9560\n",
            "Epoch 7/100\n",
            "1/8 [==>...........................] - ETA: 0s - loss: 0.1717 - accuracy: 0.9200\n",
            "Epoch 7: val_loss improved from 0.14771 to 0.13863, saving model to best_model.h5\n",
            "8/8 [==============================] - 0s 10ms/step - loss: 0.1198 - accuracy: 0.9588 - val_loss: 0.1386 - val_accuracy: 0.9560\n",
            "Epoch 8/100\n",
            "1/8 [==>...........................] - ETA: 0s - loss: 0.1117 - accuracy: 0.9400\n",
            "Epoch 8: val_loss improved from 0.13863 to 0.13332, saving model to best_model.h5\n",
            "8/8 [==============================] - 0s 8ms/step - loss: 0.1056 - accuracy: 0.9670 - val_loss: 0.1333 - val_accuracy: 0.9560\n",
            "Epoch 9/100\n",
            "1/8 [==>...........................] - ETA: 0s - loss: 0.0981 - accuracy: 0.9800\n",
            "Epoch 9: val_loss improved from 0.13332 to 0.12893, saving model to best_model.h5\n",
            "8/8 [==============================] - 0s 8ms/step - loss: 0.0949 - accuracy: 0.9808 - val_loss: 0.1289 - val_accuracy: 0.9560\n",
            "Epoch 10/100\n",
            "1/8 [==>...........................] - ETA: 0s - loss: 0.1158 - accuracy: 0.9800\n",
            "Epoch 10: val_loss improved from 0.12893 to 0.12710, saving model to best_model.h5\n",
            "8/8 [==============================] - 0s 8ms/step - loss: 0.0866 - accuracy: 0.9835 - val_loss: 0.1271 - val_accuracy: 0.9560\n",
            "Epoch 11/100\n",
            "1/8 [==>...........................] - ETA: 0s - loss: 0.0492 - accuracy: 1.0000\n",
            "Epoch 11: val_loss improved from 0.12710 to 0.12314, saving model to best_model.h5\n",
            "8/8 [==============================] - 0s 8ms/step - loss: 0.0799 - accuracy: 0.9808 - val_loss: 0.1231 - val_accuracy: 0.9560\n",
            "Epoch 12/100\n",
            "1/8 [==>...........................] - ETA: 0s - loss: 0.1532 - accuracy: 0.9600\n",
            "Epoch 12: val_loss improved from 0.12314 to 0.12313, saving model to best_model.h5\n",
            "8/8 [==============================] - 0s 8ms/step - loss: 0.0742 - accuracy: 0.9835 - val_loss: 0.1231 - val_accuracy: 0.9451\n",
            "Epoch 13/100\n",
            "1/8 [==>...........................] - ETA: 0s - loss: 0.0471 - accuracy: 0.9800\n",
            "Epoch 13: val_loss improved from 0.12313 to 0.12179, saving model to best_model.h5\n",
            "8/8 [==============================] - 0s 8ms/step - loss: 0.0693 - accuracy: 0.9808 - val_loss: 0.1218 - val_accuracy: 0.9451\n",
            "Epoch 14/100\n",
            "1/8 [==>...........................] - ETA: 0s - loss: 0.0497 - accuracy: 1.0000\n",
            "Epoch 14: val_loss improved from 0.12179 to 0.12003, saving model to best_model.h5\n",
            "8/8 [==============================] - 0s 9ms/step - loss: 0.0650 - accuracy: 0.9835 - val_loss: 0.1200 - val_accuracy: 0.9451\n",
            "Epoch 15/100\n",
            "1/8 [==>...........................] - ETA: 0s - loss: 0.0801 - accuracy: 0.9800\n",
            "Epoch 15: val_loss improved from 0.12003 to 0.11705, saving model to best_model.h5\n",
            "8/8 [==============================] - 0s 9ms/step - loss: 0.0611 - accuracy: 0.9863 - val_loss: 0.1171 - val_accuracy: 0.9451\n",
            "Epoch 16/100\n",
            "1/8 [==>...........................] - ETA: 0s - loss: 0.0378 - accuracy: 1.0000\n",
            "Epoch 16: val_loss improved from 0.11705 to 0.11560, saving model to best_model.h5\n",
            "8/8 [==============================] - 0s 9ms/step - loss: 0.0581 - accuracy: 0.9863 - val_loss: 0.1156 - val_accuracy: 0.9451\n",
            "Epoch 17/100\n",
            "1/8 [==>...........................] - ETA: 0s - loss: 0.0685 - accuracy: 0.9600\n",
            "Epoch 17: val_loss did not improve from 0.11560\n",
            "8/8 [==============================] - 0s 7ms/step - loss: 0.0549 - accuracy: 0.9890 - val_loss: 0.1181 - val_accuracy: 0.9451\n",
            "Epoch 18/100\n",
            "1/8 [==>...........................] - ETA: 0s - loss: 0.0288 - accuracy: 1.0000\n",
            "Epoch 18: val_loss did not improve from 0.11560\n",
            "8/8 [==============================] - 0s 7ms/step - loss: 0.0523 - accuracy: 0.9890 - val_loss: 0.1185 - val_accuracy: 0.9451\n",
            "Epoch 19/100\n",
            "1/8 [==>...........................] - ETA: 0s - loss: 0.0486 - accuracy: 0.9800\n",
            "Epoch 19: val_loss did not improve from 0.11560\n",
            "8/8 [==============================] - 0s 7ms/step - loss: 0.0499 - accuracy: 0.9890 - val_loss: 0.1200 - val_accuracy: 0.9451\n",
            "Epoch 20/100\n",
            "1/8 [==>...........................] - ETA: 0s - loss: 0.0250 - accuracy: 1.0000\n",
            "Epoch 20: val_loss did not improve from 0.11560\n",
            "8/8 [==============================] - 0s 6ms/step - loss: 0.0475 - accuracy: 0.9890 - val_loss: 0.1184 - val_accuracy: 0.9451\n",
            "Epoch 21/100\n",
            "1/8 [==>...........................] - ETA: 0s - loss: 0.0291 - accuracy: 1.0000\n",
            "Epoch 21: val_loss did not improve from 0.11560\n",
            "8/8 [==============================] - 0s 9ms/step - loss: 0.0455 - accuracy: 0.9890 - val_loss: 0.1180 - val_accuracy: 0.9560\n",
            "Epoch 22/100\n",
            "1/8 [==>...........................] - ETA: 0s - loss: 0.1003 - accuracy: 0.9800\n",
            "Epoch 22: val_loss did not improve from 0.11560\n",
            "8/8 [==============================] - 0s 8ms/step - loss: 0.0436 - accuracy: 0.9890 - val_loss: 0.1185 - val_accuracy: 0.9451\n",
            "Epoch 23/100\n",
            "1/8 [==>...........................] - ETA: 0s - loss: 0.0257 - accuracy: 1.0000\n",
            "Epoch 23: val_loss did not improve from 0.11560\n",
            "8/8 [==============================] - 0s 7ms/step - loss: 0.0415 - accuracy: 0.9890 - val_loss: 0.1184 - val_accuracy: 0.9560\n",
            "Epoch 24/100\n",
            "1/8 [==>...........................] - ETA: 0s - loss: 0.0555 - accuracy: 0.9600\n",
            "Epoch 24: val_loss did not improve from 0.11560\n",
            "8/8 [==============================] - 0s 6ms/step - loss: 0.0396 - accuracy: 0.9890 - val_loss: 0.1187 - val_accuracy: 0.9560\n",
            "Epoch 25/100\n",
            "1/8 [==>...........................] - ETA: 0s - loss: 0.0193 - accuracy: 1.0000\n",
            "Epoch 25: val_loss did not improve from 0.11560\n",
            "8/8 [==============================] - 0s 7ms/step - loss: 0.0377 - accuracy: 0.9890 - val_loss: 0.1217 - val_accuracy: 0.9560\n",
            "Epoch 26/100\n",
            "1/8 [==>...........................] - ETA: 0s - loss: 0.0227 - accuracy: 1.0000\n",
            "Epoch 26: val_loss did not improve from 0.11560\n",
            "8/8 [==============================] - 0s 6ms/step - loss: 0.0362 - accuracy: 0.9890 - val_loss: 0.1217 - val_accuracy: 0.9560\n",
            "Epoch 27/100\n",
            "1/8 [==>...........................] - ETA: 0s - loss: 0.0136 - accuracy: 1.0000\n",
            "Epoch 27: val_loss did not improve from 0.11560\n",
            "8/8 [==============================] - 0s 7ms/step - loss: 0.0345 - accuracy: 0.9890 - val_loss: 0.1216 - val_accuracy: 0.9560\n",
            "Epoch 28/100\n",
            "1/8 [==>...........................] - ETA: 0s - loss: 0.0269 - accuracy: 0.9800\n",
            "Epoch 28: val_loss did not improve from 0.11560\n",
            "8/8 [==============================] - 0s 6ms/step - loss: 0.0331 - accuracy: 0.9890 - val_loss: 0.1237 - val_accuracy: 0.9560\n",
            "Epoch 29/100\n",
            "1/8 [==>...........................] - ETA: 0s - loss: 0.0357 - accuracy: 0.9800\n",
            "Epoch 29: val_loss did not improve from 0.11560\n",
            "8/8 [==============================] - 0s 6ms/step - loss: 0.0314 - accuracy: 0.9890 - val_loss: 0.1250 - val_accuracy: 0.9560\n",
            "Epoch 30/100\n",
            "1/8 [==>...........................] - ETA: 0s - loss: 0.0167 - accuracy: 1.0000\n",
            "Epoch 30: val_loss did not improve from 0.11560\n",
            "8/8 [==============================] - 0s 6ms/step - loss: 0.0297 - accuracy: 0.9918 - val_loss: 0.1273 - val_accuracy: 0.9560\n",
            "Epoch 31/100\n",
            "1/8 [==>...........................] - ETA: 0s - loss: 0.0161 - accuracy: 1.0000\n",
            "Epoch 31: val_loss did not improve from 0.11560\n",
            "8/8 [==============================] - 0s 7ms/step - loss: 0.0280 - accuracy: 0.9918 - val_loss: 0.1306 - val_accuracy: 0.9560\n",
            "Epoch 32/100\n",
            "1/8 [==>...........................] - ETA: 0s - loss: 0.0603 - accuracy: 0.9800\n",
            "Epoch 32: val_loss did not improve from 0.11560\n",
            "8/8 [==============================] - 0s 6ms/step - loss: 0.0268 - accuracy: 0.9918 - val_loss: 0.1341 - val_accuracy: 0.9560\n",
            "Epoch 33/100\n",
            "1/8 [==>...........................] - ETA: 0s - loss: 0.0326 - accuracy: 1.0000\n",
            "Epoch 33: val_loss did not improve from 0.11560\n",
            "8/8 [==============================] - 0s 6ms/step - loss: 0.0249 - accuracy: 0.9945 - val_loss: 0.1367 - val_accuracy: 0.9560\n",
            "Epoch 34/100\n",
            "1/8 [==>...........................] - ETA: 0s - loss: 0.0357 - accuracy: 1.0000\n",
            "Epoch 34: val_loss did not improve from 0.11560\n",
            "8/8 [==============================] - 0s 6ms/step - loss: 0.0235 - accuracy: 0.9945 - val_loss: 0.1397 - val_accuracy: 0.9560\n",
            "Epoch 35/100\n",
            "1/8 [==>...........................] - ETA: 0s - loss: 0.0215 - accuracy: 1.0000\n",
            "Epoch 35: val_loss did not improve from 0.11560\n",
            "8/8 [==============================] - 0s 6ms/step - loss: 0.0223 - accuracy: 0.9945 - val_loss: 0.1420 - val_accuracy: 0.9560\n",
            "Epoch 36/100\n",
            "1/8 [==>...........................] - ETA: 0s - loss: 0.0089 - accuracy: 1.0000\n",
            "Epoch 36: val_loss did not improve from 0.11560\n",
            "8/8 [==============================] - 0s 7ms/step - loss: 0.0210 - accuracy: 0.9945 - val_loss: 0.1426 - val_accuracy: 0.9560\n",
            "Epoch 37/100\n",
            "1/8 [==>...........................] - ETA: 0s - loss: 0.0117 - accuracy: 1.0000\n",
            "Epoch 37: val_loss did not improve from 0.11560\n",
            "8/8 [==============================] - 0s 7ms/step - loss: 0.0199 - accuracy: 0.9945 - val_loss: 0.1446 - val_accuracy: 0.9560\n",
            "Epoch 38/100\n",
            "1/8 [==>...........................] - ETA: 0s - loss: 0.0248 - accuracy: 0.9800\n",
            "Epoch 38: val_loss did not improve from 0.11560\n",
            "8/8 [==============================] - 0s 6ms/step - loss: 0.0192 - accuracy: 0.9945 - val_loss: 0.1520 - val_accuracy: 0.9560\n",
            "Epoch 39/100\n",
            "1/8 [==>...........................] - ETA: 0s - loss: 0.0254 - accuracy: 0.9800\n",
            "Epoch 39: val_loss did not improve from 0.11560\n",
            "8/8 [==============================] - 0s 7ms/step - loss: 0.0178 - accuracy: 0.9973 - val_loss: 0.1512 - val_accuracy: 0.9451\n",
            "Epoch 40/100\n",
            "1/8 [==>...........................] - ETA: 0s - loss: 0.0327 - accuracy: 0.9800\n",
            "Epoch 40: val_loss did not improve from 0.11560\n",
            "8/8 [==============================] - 0s 6ms/step - loss: 0.0168 - accuracy: 0.9945 - val_loss: 0.1492 - val_accuracy: 0.9451\n",
            "Epoch 41/100\n",
            "1/8 [==>...........................] - ETA: 0s - loss: 0.0249 - accuracy: 0.9800\n",
            "Epoch 41: val_loss did not improve from 0.11560\n",
            "8/8 [==============================] - 0s 6ms/step - loss: 0.0160 - accuracy: 0.9945 - val_loss: 0.1516 - val_accuracy: 0.9451\n",
            "Epoch 42/100\n",
            "1/8 [==>...........................] - ETA: 0s - loss: 0.0049 - accuracy: 1.0000\n",
            "Epoch 42: val_loss did not improve from 0.11560\n",
            "8/8 [==============================] - 0s 9ms/step - loss: 0.0148 - accuracy: 0.9973 - val_loss: 0.1493 - val_accuracy: 0.9451\n",
            "Epoch 43/100\n",
            "1/8 [==>...........................] - ETA: 0s - loss: 0.0050 - accuracy: 1.0000\n",
            "Epoch 43: val_loss did not improve from 0.11560\n",
            "8/8 [==============================] - 0s 6ms/step - loss: 0.0140 - accuracy: 1.0000 - val_loss: 0.1521 - val_accuracy: 0.9451\n",
            "Epoch 44/100\n",
            "1/8 [==>...........................] - ETA: 0s - loss: 0.0186 - accuracy: 1.0000\n",
            "Epoch 44: val_loss did not improve from 0.11560\n",
            "8/8 [==============================] - 0s 6ms/step - loss: 0.0135 - accuracy: 1.0000 - val_loss: 0.1531 - val_accuracy: 0.9451\n",
            "Epoch 45/100\n",
            "1/8 [==>...........................] - ETA: 0s - loss: 0.0054 - accuracy: 1.0000\n",
            "Epoch 45: val_loss did not improve from 0.11560\n",
            "8/8 [==============================] - 0s 6ms/step - loss: 0.0127 - accuracy: 1.0000 - val_loss: 0.1515 - val_accuracy: 0.9451\n",
            "Epoch 46/100\n",
            "1/8 [==>...........................] - ETA: 0s - loss: 0.0047 - accuracy: 1.0000\n",
            "Epoch 46: val_loss did not improve from 0.11560\n",
            "8/8 [==============================] - 0s 6ms/step - loss: 0.0120 - accuracy: 1.0000 - val_loss: 0.1536 - val_accuracy: 0.9451\n",
            "Epoch 47/100\n",
            "1/8 [==>...........................] - ETA: 0s - loss: 0.0128 - accuracy: 1.0000\n",
            "Epoch 47: val_loss did not improve from 0.11560\n",
            "8/8 [==============================] - 0s 7ms/step - loss: 0.0115 - accuracy: 1.0000 - val_loss: 0.1549 - val_accuracy: 0.9451\n",
            "Epoch 48/100\n",
            "1/8 [==>...........................] - ETA: 0s - loss: 0.0168 - accuracy: 1.0000\n",
            "Epoch 48: val_loss did not improve from 0.11560\n",
            "8/8 [==============================] - 0s 7ms/step - loss: 0.0109 - accuracy: 1.0000 - val_loss: 0.1576 - val_accuracy: 0.9451\n",
            "Epoch 49/100\n",
            "1/8 [==>...........................] - ETA: 0s - loss: 0.0065 - accuracy: 1.0000\n",
            "Epoch 49: val_loss did not improve from 0.11560\n",
            "8/8 [==============================] - 0s 7ms/step - loss: 0.0102 - accuracy: 1.0000 - val_loss: 0.1575 - val_accuracy: 0.9451\n",
            "Epoch 50/100\n",
            "1/8 [==>...........................] - ETA: 0s - loss: 0.0064 - accuracy: 1.0000\n",
            "Epoch 50: val_loss did not improve from 0.11560\n",
            "8/8 [==============================] - 0s 7ms/step - loss: 0.0098 - accuracy: 1.0000 - val_loss: 0.1572 - val_accuracy: 0.9451\n",
            "Epoch 51/100\n",
            "1/8 [==>...........................] - ETA: 0s - loss: 0.0025 - accuracy: 1.0000\n",
            "Epoch 51: val_loss did not improve from 0.11560\n",
            "8/8 [==============================] - 0s 7ms/step - loss: 0.0092 - accuracy: 1.0000 - val_loss: 0.1601 - val_accuracy: 0.9451\n",
            "Epoch 52/100\n",
            "1/8 [==>...........................] - ETA: 0s - loss: 0.0067 - accuracy: 1.0000\n",
            "Epoch 52: val_loss did not improve from 0.11560\n",
            "8/8 [==============================] - 0s 8ms/step - loss: 0.0087 - accuracy: 1.0000 - val_loss: 0.1623 - val_accuracy: 0.9451\n",
            "Epoch 53/100\n",
            "1/8 [==>...........................] - ETA: 0s - loss: 0.0135 - accuracy: 1.0000\n",
            "Epoch 53: val_loss did not improve from 0.11560\n",
            "8/8 [==============================] - 0s 6ms/step - loss: 0.0083 - accuracy: 1.0000 - val_loss: 0.1620 - val_accuracy: 0.9451\n",
            "Epoch 54/100\n",
            "1/8 [==>...........................] - ETA: 0s - loss: 0.0059 - accuracy: 1.0000\n",
            "Epoch 54: val_loss did not improve from 0.11560\n",
            "8/8 [==============================] - 0s 7ms/step - loss: 0.0080 - accuracy: 1.0000 - val_loss: 0.1677 - val_accuracy: 0.9451\n",
            "Epoch 55/100\n",
            "1/8 [==>...........................] - ETA: 0s - loss: 0.0062 - accuracy: 1.0000\n",
            "Epoch 55: val_loss did not improve from 0.11560\n",
            "8/8 [==============================] - 0s 6ms/step - loss: 0.0075 - accuracy: 1.0000 - val_loss: 0.1669 - val_accuracy: 0.9451\n",
            "Epoch 56/100\n",
            "1/8 [==>...........................] - ETA: 0s - loss: 0.0031 - accuracy: 1.0000\n",
            "Epoch 56: val_loss did not improve from 0.11560\n",
            "8/8 [==============================] - 0s 11ms/step - loss: 0.0072 - accuracy: 1.0000 - val_loss: 0.1671 - val_accuracy: 0.9451\n",
            "Epoch 57/100\n",
            "1/8 [==>...........................] - ETA: 0s - loss: 0.0062 - accuracy: 1.0000\n",
            "Epoch 57: val_loss did not improve from 0.11560\n",
            "8/8 [==============================] - 0s 7ms/step - loss: 0.0068 - accuracy: 1.0000 - val_loss: 0.1680 - val_accuracy: 0.9451\n",
            "Epoch 58/100\n",
            "1/8 [==>...........................] - ETA: 0s - loss: 0.0042 - accuracy: 1.0000\n",
            "Epoch 58: val_loss did not improve from 0.11560\n",
            "8/8 [==============================] - 0s 6ms/step - loss: 0.0065 - accuracy: 1.0000 - val_loss: 0.1731 - val_accuracy: 0.9451\n",
            "Epoch 59/100\n",
            "1/8 [==>...........................] - ETA: 0s - loss: 0.0092 - accuracy: 1.0000\n",
            "Epoch 59: val_loss did not improve from 0.11560\n",
            "8/8 [==============================] - 0s 6ms/step - loss: 0.0062 - accuracy: 1.0000 - val_loss: 0.1715 - val_accuracy: 0.9451\n",
            "Epoch 60/100\n",
            "1/8 [==>...........................] - ETA: 0s - loss: 0.0030 - accuracy: 1.0000\n",
            "Epoch 60: val_loss did not improve from 0.11560\n",
            "8/8 [==============================] - 0s 6ms/step - loss: 0.0058 - accuracy: 1.0000 - val_loss: 0.1720 - val_accuracy: 0.9451\n",
            "Epoch 61/100\n",
            "1/8 [==>...........................] - ETA: 0s - loss: 0.0078 - accuracy: 1.0000\n",
            "Epoch 61: val_loss did not improve from 0.11560\n",
            "8/8 [==============================] - 0s 7ms/step - loss: 0.0057 - accuracy: 1.0000 - val_loss: 0.1733 - val_accuracy: 0.9451\n",
            "Epoch 62/100\n",
            "1/8 [==>...........................] - ETA: 0s - loss: 0.0094 - accuracy: 1.0000\n",
            "Epoch 62: val_loss did not improve from 0.11560\n",
            "8/8 [==============================] - 0s 7ms/step - loss: 0.0054 - accuracy: 1.0000 - val_loss: 0.1793 - val_accuracy: 0.9451\n",
            "Epoch 63/100\n",
            "1/8 [==>...........................] - ETA: 0s - loss: 0.0022 - accuracy: 1.0000\n",
            "Epoch 63: val_loss did not improve from 0.11560\n",
            "8/8 [==============================] - 0s 8ms/step - loss: 0.0051 - accuracy: 1.0000 - val_loss: 0.1797 - val_accuracy: 0.9451\n",
            "Epoch 64/100\n",
            "1/8 [==>...........................] - ETA: 0s - loss: 0.0071 - accuracy: 1.0000\n",
            "Epoch 64: val_loss did not improve from 0.11560\n",
            "8/8 [==============================] - 0s 6ms/step - loss: 0.0049 - accuracy: 1.0000 - val_loss: 0.1783 - val_accuracy: 0.9451\n",
            "Epoch 65/100\n",
            "1/8 [==>...........................] - ETA: 0s - loss: 0.0011 - accuracy: 1.0000\n",
            "Epoch 65: val_loss did not improve from 0.11560\n",
            "8/8 [==============================] - 0s 6ms/step - loss: 0.0047 - accuracy: 1.0000 - val_loss: 0.1794 - val_accuracy: 0.9451\n",
            "Epoch 66/100\n",
            "1/8 [==>...........................] - ETA: 0s - loss: 0.0039 - accuracy: 1.0000\n",
            "Epoch 66: val_loss did not improve from 0.11560\n",
            "8/8 [==============================] - 0s 7ms/step - loss: 0.0045 - accuracy: 1.0000 - val_loss: 0.1904 - val_accuracy: 0.9451\n",
            "Epoch 67/100\n",
            "1/8 [==>...........................] - ETA: 0s - loss: 0.0060 - accuracy: 1.0000\n",
            "Epoch 67: val_loss did not improve from 0.11560\n",
            "8/8 [==============================] - 0s 6ms/step - loss: 0.0046 - accuracy: 1.0000 - val_loss: 0.1915 - val_accuracy: 0.9451\n",
            "Epoch 68/100\n",
            "1/8 [==>...........................] - ETA: 0s - loss: 0.0054 - accuracy: 1.0000\n",
            "Epoch 68: val_loss did not improve from 0.11560\n",
            "8/8 [==============================] - 0s 6ms/step - loss: 0.0042 - accuracy: 1.0000 - val_loss: 0.1841 - val_accuracy: 0.9451\n",
            "Epoch 69/100\n",
            "1/8 [==>...........................] - ETA: 0s - loss: 0.0052 - accuracy: 1.0000\n",
            "Epoch 69: val_loss did not improve from 0.11560\n",
            "8/8 [==============================] - 0s 6ms/step - loss: 0.0040 - accuracy: 1.0000 - val_loss: 0.1830 - val_accuracy: 0.9451\n",
            "Epoch 70/100\n",
            "1/8 [==>...........................] - ETA: 0s - loss: 0.0050 - accuracy: 1.0000\n",
            "Epoch 70: val_loss did not improve from 0.11560\n",
            "8/8 [==============================] - 0s 6ms/step - loss: 0.0039 - accuracy: 1.0000 - val_loss: 0.1829 - val_accuracy: 0.9451\n",
            "Epoch 71/100\n",
            "1/8 [==>...........................] - ETA: 0s - loss: 0.0013 - accuracy: 1.0000\n",
            "Epoch 71: val_loss did not improve from 0.11560\n",
            "8/8 [==============================] - 0s 6ms/step - loss: 0.0037 - accuracy: 1.0000 - val_loss: 0.1811 - val_accuracy: 0.9451\n",
            "Epoch 72/100\n",
            "1/8 [==>...........................] - ETA: 0s - loss: 0.0040 - accuracy: 1.0000\n",
            "Epoch 72: val_loss did not improve from 0.11560\n",
            "8/8 [==============================] - 0s 6ms/step - loss: 0.0036 - accuracy: 1.0000 - val_loss: 0.1819 - val_accuracy: 0.9451\n",
            "Epoch 73/100\n",
            "1/8 [==>...........................] - ETA: 0s - loss: 0.0017 - accuracy: 1.0000\n",
            "Epoch 73: val_loss did not improve from 0.11560\n",
            "8/8 [==============================] - 0s 7ms/step - loss: 0.0034 - accuracy: 1.0000 - val_loss: 0.1860 - val_accuracy: 0.9451\n",
            "Epoch 74/100\n",
            "1/8 [==>...........................] - ETA: 0s - loss: 0.0018 - accuracy: 1.0000\n",
            "Epoch 74: val_loss did not improve from 0.11560\n",
            "8/8 [==============================] - 0s 6ms/step - loss: 0.0032 - accuracy: 1.0000 - val_loss: 0.1867 - val_accuracy: 0.9451\n",
            "Epoch 75/100\n",
            "1/8 [==>...........................] - ETA: 0s - loss: 0.0054 - accuracy: 1.0000\n",
            "Epoch 75: val_loss did not improve from 0.11560\n",
            "8/8 [==============================] - 0s 6ms/step - loss: 0.0031 - accuracy: 1.0000 - val_loss: 0.1835 - val_accuracy: 0.9451\n",
            "Epoch 76/100\n",
            "1/8 [==>...........................] - ETA: 0s - loss: 0.0013 - accuracy: 1.0000\n",
            "Epoch 76: val_loss did not improve from 0.11560\n",
            "8/8 [==============================] - 0s 6ms/step - loss: 0.0030 - accuracy: 1.0000 - val_loss: 0.1834 - val_accuracy: 0.9451\n",
            "Epoch 77/100\n",
            "1/8 [==>...........................] - ETA: 0s - loss: 0.0041 - accuracy: 1.0000\n",
            "Epoch 77: val_loss did not improve from 0.11560\n",
            "8/8 [==============================] - 0s 6ms/step - loss: 0.0029 - accuracy: 1.0000 - val_loss: 0.1845 - val_accuracy: 0.9451\n",
            "Epoch 78/100\n",
            "1/8 [==>...........................] - ETA: 0s - loss: 0.0028 - accuracy: 1.0000\n",
            "Epoch 78: val_loss did not improve from 0.11560\n",
            "8/8 [==============================] - 0s 5ms/step - loss: 0.0028 - accuracy: 1.0000 - val_loss: 0.1860 - val_accuracy: 0.9451\n",
            "Epoch 79/100\n",
            "1/8 [==>...........................] - ETA: 0s - loss: 0.0032 - accuracy: 1.0000\n",
            "Epoch 79: val_loss did not improve from 0.11560\n",
            "8/8 [==============================] - 0s 6ms/step - loss: 0.0027 - accuracy: 1.0000 - val_loss: 0.1863 - val_accuracy: 0.9451\n",
            "Epoch 80/100\n",
            "1/8 [==>...........................] - ETA: 0s - loss: 0.0027 - accuracy: 1.0000\n",
            "Epoch 80: val_loss did not improve from 0.11560\n",
            "8/8 [==============================] - 0s 6ms/step - loss: 0.0026 - accuracy: 1.0000 - val_loss: 0.1884 - val_accuracy: 0.9451\n",
            "Epoch 81/100\n",
            "1/8 [==>...........................] - ETA: 0s - loss: 0.0022 - accuracy: 1.0000\n",
            "Epoch 81: val_loss did not improve from 0.11560\n",
            "8/8 [==============================] - 0s 5ms/step - loss: 0.0025 - accuracy: 1.0000 - val_loss: 0.1900 - val_accuracy: 0.9451\n",
            "Epoch 82/100\n",
            "1/8 [==>...........................] - ETA: 0s - loss: 0.0042 - accuracy: 1.0000\n",
            "Epoch 82: val_loss did not improve from 0.11560\n",
            "8/8 [==============================] - 0s 6ms/step - loss: 0.0025 - accuracy: 1.0000 - val_loss: 0.1896 - val_accuracy: 0.9451\n",
            "Epoch 83/100\n",
            "1/8 [==>...........................] - ETA: 0s - loss: 0.0031 - accuracy: 1.0000\n",
            "Epoch 83: val_loss did not improve from 0.11560\n",
            "8/8 [==============================] - 0s 5ms/step - loss: 0.0023 - accuracy: 1.0000 - val_loss: 0.1926 - val_accuracy: 0.9451\n",
            "Epoch 84/100\n",
            "1/8 [==>...........................] - ETA: 0s - loss: 0.0032 - accuracy: 1.0000\n",
            "Epoch 84: val_loss did not improve from 0.11560\n",
            "8/8 [==============================] - 0s 5ms/step - loss: 0.0023 - accuracy: 1.0000 - val_loss: 0.1933 - val_accuracy: 0.9451\n",
            "Epoch 85/100\n",
            "1/8 [==>...........................] - ETA: 0s - loss: 0.0012 - accuracy: 1.0000\n",
            "Epoch 85: val_loss did not improve from 0.11560\n",
            "8/8 [==============================] - 0s 6ms/step - loss: 0.0022 - accuracy: 1.0000 - val_loss: 0.1947 - val_accuracy: 0.9451\n",
            "Epoch 86/100\n",
            "1/8 [==>...........................] - ETA: 0s - loss: 0.0015 - accuracy: 1.0000\n",
            "Epoch 86: val_loss did not improve from 0.11560\n",
            "8/8 [==============================] - 0s 6ms/step - loss: 0.0021 - accuracy: 1.0000 - val_loss: 0.1938 - val_accuracy: 0.9451\n",
            "Epoch 87/100\n",
            "1/8 [==>...........................] - ETA: 0s - loss: 6.4857e-04 - accuracy: 1.0000\n",
            "Epoch 87: val_loss did not improve from 0.11560\n",
            "8/8 [==============================] - 0s 6ms/step - loss: 0.0021 - accuracy: 1.0000 - val_loss: 0.1938 - val_accuracy: 0.9451\n",
            "Epoch 88/100\n",
            "1/8 [==>...........................] - ETA: 0s - loss: 7.2348e-04 - accuracy: 1.0000\n",
            "Epoch 88: val_loss did not improve from 0.11560\n",
            "8/8 [==============================] - 0s 6ms/step - loss: 0.0020 - accuracy: 1.0000 - val_loss: 0.1962 - val_accuracy: 0.9451\n",
            "Epoch 89/100\n",
            "1/8 [==>...........................] - ETA: 0s - loss: 0.0028 - accuracy: 1.0000\n",
            "Epoch 89: val_loss did not improve from 0.11560\n",
            "8/8 [==============================] - 0s 6ms/step - loss: 0.0020 - accuracy: 1.0000 - val_loss: 0.1970 - val_accuracy: 0.9451\n",
            "Epoch 90/100\n",
            "1/8 [==>...........................] - ETA: 0s - loss: 0.0038 - accuracy: 1.0000\n",
            "Epoch 90: val_loss did not improve from 0.11560\n",
            "8/8 [==============================] - 0s 5ms/step - loss: 0.0019 - accuracy: 1.0000 - val_loss: 0.1964 - val_accuracy: 0.9451\n",
            "Epoch 91/100\n",
            "1/8 [==>...........................] - ETA: 0s - loss: 0.0029 - accuracy: 1.0000\n",
            "Epoch 91: val_loss did not improve from 0.11560\n",
            "8/8 [==============================] - 0s 7ms/step - loss: 0.0018 - accuracy: 1.0000 - val_loss: 0.1955 - val_accuracy: 0.9451\n",
            "Epoch 92/100\n",
            "1/8 [==>...........................] - ETA: 0s - loss: 7.0782e-04 - accuracy: 1.0000\n",
            "Epoch 92: val_loss did not improve from 0.11560\n",
            "8/8 [==============================] - 0s 6ms/step - loss: 0.0018 - accuracy: 1.0000 - val_loss: 0.1968 - val_accuracy: 0.9451\n",
            "Epoch 93/100\n",
            "1/8 [==>...........................] - ETA: 0s - loss: 0.0017 - accuracy: 1.0000\n",
            "Epoch 93: val_loss did not improve from 0.11560\n",
            "8/8 [==============================] - 0s 6ms/step - loss: 0.0017 - accuracy: 1.0000 - val_loss: 0.1971 - val_accuracy: 0.9451\n",
            "Epoch 94/100\n",
            "1/8 [==>...........................] - ETA: 0s - loss: 0.0010 - accuracy: 1.0000\n",
            "Epoch 94: val_loss did not improve from 0.11560\n",
            "8/8 [==============================] - 0s 7ms/step - loss: 0.0017 - accuracy: 1.0000 - val_loss: 0.1987 - val_accuracy: 0.9451\n",
            "Epoch 95/100\n",
            "1/8 [==>...........................] - ETA: 0s - loss: 5.9613e-04 - accuracy: 1.0000\n",
            "Epoch 95: val_loss did not improve from 0.11560\n",
            "8/8 [==============================] - 0s 6ms/step - loss: 0.0016 - accuracy: 1.0000 - val_loss: 0.1976 - val_accuracy: 0.9451\n",
            "Epoch 96/100\n",
            "1/8 [==>...........................] - ETA: 0s - loss: 0.0025 - accuracy: 1.0000\n",
            "Epoch 96: val_loss did not improve from 0.11560\n",
            "8/8 [==============================] - 0s 7ms/step - loss: 0.0016 - accuracy: 1.0000 - val_loss: 0.1962 - val_accuracy: 0.9451\n",
            "Epoch 97/100\n",
            "1/8 [==>...........................] - ETA: 0s - loss: 5.8860e-04 - accuracy: 1.0000\n",
            "Epoch 97: val_loss did not improve from 0.11560\n",
            "8/8 [==============================] - 0s 5ms/step - loss: 0.0016 - accuracy: 1.0000 - val_loss: 0.2029 - val_accuracy: 0.9451\n",
            "Epoch 98/100\n",
            "1/8 [==>...........................] - ETA: 0s - loss: 0.0011 - accuracy: 1.0000\n",
            "Epoch 98: val_loss did not improve from 0.11560\n",
            "8/8 [==============================] - 0s 6ms/step - loss: 0.0016 - accuracy: 1.0000 - val_loss: 0.2026 - val_accuracy: 0.9451\n",
            "Epoch 99/100\n",
            "1/8 [==>...........................] - ETA: 0s - loss: 0.0013 - accuracy: 1.0000\n",
            "Epoch 99: val_loss did not improve from 0.11560\n",
            "8/8 [==============================] - 0s 6ms/step - loss: 0.0015 - accuracy: 1.0000 - val_loss: 0.2018 - val_accuracy: 0.9451\n",
            "Epoch 100/100\n",
            "1/8 [==>...........................] - ETA: 0s - loss: 7.8558e-04 - accuracy: 1.0000\n",
            "Epoch 100: val_loss did not improve from 0.11560\n",
            "8/8 [==============================] - 0s 6ms/step - loss: 0.0015 - accuracy: 1.0000 - val_loss: 0.2044 - val_accuracy: 0.9451\n"
          ]
        }
      ]
    },
    {
      "cell_type": "markdown",
      "source": [
        "- 베스트 모델 불러오기"
      ],
      "metadata": {
        "id": "CFE8gePfGoP4"
      }
    },
    {
      "cell_type": "code",
      "source": [
        "from tensorflow.keras.models import load_model\n",
        "\n",
        "best_model = load_model(modelpath)"
      ],
      "metadata": {
        "id": "8-c_IYpCGs7c"
      },
      "execution_count": 10,
      "outputs": []
    },
    {
      "cell_type": "markdown",
      "source": [
        "- 모델 평가"
      ],
      "metadata": {
        "id": "mUEScNtX0ZUL"
      }
    },
    {
      "cell_type": "code",
      "source": [
        "best_model.evaluate(X_test, y_test)"
      ],
      "metadata": {
        "id": "YY7oOuYw0J05",
        "colab": {
          "base_uri": "https://localhost:8080/"
        },
        "outputId": "337f1018-770c-4453-e0f9-64e45e7bb643"
      },
      "execution_count": 11,
      "outputs": [
        {
          "output_type": "stream",
          "name": "stdout",
          "text": [
            "4/4 [==============================] - 0s 3ms/step - loss: 0.0264 - accuracy: 1.0000\n"
          ]
        },
        {
          "output_type": "execute_result",
          "data": {
            "text/plain": [
              "[0.02640884928405285, 1.0]"
            ]
          },
          "metadata": {},
          "execution_count": 11
        }
      ]
    },
    {
      "cell_type": "markdown",
      "source": [
        "### 2. 베스트 모델 저장하고 조기 종료하기"
      ],
      "metadata": {
        "id": "bUhU2dCEzRhs"
      }
    },
    {
      "cell_type": "markdown",
      "source": [
        "- Dropout layer 추가"
      ],
      "metadata": {
        "id": "vatvDesiKBtx"
      }
    },
    {
      "cell_type": "code",
      "source": [
        "from tensorflow.keras.layers import Dropout\n",
        "\n",
        "model2 = Sequential()\n",
        "model2.add(Dense(100, input_dim=30, activation='relu'))\n",
        "model2.add(Dense(24, activation='relu'))\n",
        "model2.add(Dropout(0.5))\n",
        "model2.add(Dense(1, activation='sigmoid'))\n",
        "model2.summary()"
      ],
      "metadata": {
        "id": "of6Dx8aS41gf",
        "colab": {
          "base_uri": "https://localhost:8080/"
        },
        "outputId": "e2635b7f-5ab2-4e79-ba14-3ae79df52bfb"
      },
      "execution_count": 12,
      "outputs": [
        {
          "output_type": "stream",
          "name": "stdout",
          "text": [
            "Model: \"sequential_1\"\n",
            "_________________________________________________________________\n",
            " Layer (type)                Output Shape              Param #   \n",
            "=================================================================\n",
            " dense_3 (Dense)             (None, 100)               3100      \n",
            "                                                                 \n",
            " dense_4 (Dense)             (None, 24)                2424      \n",
            "                                                                 \n",
            " dropout (Dropout)           (None, 24)                0         \n",
            "                                                                 \n",
            " dense_5 (Dense)             (None, 1)                 25        \n",
            "                                                                 \n",
            "=================================================================\n",
            "Total params: 5,549\n",
            "Trainable params: 5,549\n",
            "Non-trainable params: 0\n",
            "_________________________________________________________________\n"
          ]
        }
      ]
    },
    {
      "cell_type": "code",
      "source": [
        "model2.compile(optimizer='adam', loss='binary_crossentropy', metrics=['accuracy'])"
      ],
      "metadata": {
        "id": "xvFK9UQ_5Okq"
      },
      "execution_count": 13,
      "outputs": []
    },
    {
      "cell_type": "markdown",
      "source": [
        "- 조기 종료 조건 설정"
      ],
      "metadata": {
        "id": "btbD3xIVHuk-"
      }
    },
    {
      "cell_type": "code",
      "source": [
        "from tensorflow.keras.callbacks import EarlyStopping\n",
        "\n",
        "es = EarlyStopping(monitor='val_loss', patience=30)"
      ],
      "metadata": {
        "id": "7bLKSzOsH06X"
      },
      "execution_count": 14,
      "outputs": []
    },
    {
      "cell_type": "code",
      "source": [
        "modelpath2 = 'best_model2.h5'\n",
        "mc2 = ModelCheckpoint(filepath=modelpath2, monitor='val_loss', verbose=1,\n",
        "                      save_best_only=True)"
      ],
      "metadata": {
        "id": "tygK6GoyIsVp"
      },
      "execution_count": 15,
      "outputs": []
    },
    {
      "cell_type": "code",
      "source": [
        "history2 = model2.fit(X_train, y_train, validation_split=0.2, epochs=100, batch_size=50,\n",
        "                      verbose=1, callbacks=[mc2, es])"
      ],
      "metadata": {
        "id": "izbsW1xN5URX",
        "colab": {
          "base_uri": "https://localhost:8080/"
        },
        "outputId": "e9f1384b-f6ac-4a96-cdc5-74bc273f85c1"
      },
      "execution_count": 16,
      "outputs": [
        {
          "output_type": "stream",
          "name": "stdout",
          "text": [
            "Epoch 1/100\n",
            "1/8 [==>...........................] - ETA: 3s - loss: 0.8957 - accuracy: 0.2800\n",
            "Epoch 1: val_loss improved from inf to 0.49368, saving model to best_model2.h5\n",
            "8/8 [==============================] - 1s 53ms/step - loss: 0.6922 - accuracy: 0.5357 - val_loss: 0.4937 - val_accuracy: 0.8462\n",
            "Epoch 2/100\n",
            "1/8 [==>...........................] - ETA: 0s - loss: 0.5519 - accuracy: 0.7400\n",
            "Epoch 2: val_loss improved from 0.49368 to 0.34977, saving model to best_model2.h5\n",
            "8/8 [==============================] - 0s 11ms/step - loss: 0.4594 - accuracy: 0.8242 - val_loss: 0.3498 - val_accuracy: 0.9341\n",
            "Epoch 3/100\n",
            "1/8 [==>...........................] - ETA: 0s - loss: 0.2865 - accuracy: 0.9600\n",
            "Epoch 3: val_loss improved from 0.34977 to 0.26767, saving model to best_model2.h5\n",
            "8/8 [==============================] - 0s 9ms/step - loss: 0.3359 - accuracy: 0.9093 - val_loss: 0.2677 - val_accuracy: 0.9341\n",
            "Epoch 4/100\n",
            "1/8 [==>...........................] - ETA: 0s - loss: 0.3298 - accuracy: 0.9200\n",
            "Epoch 4: val_loss improved from 0.26767 to 0.21796, saving model to best_model2.h5\n",
            "8/8 [==============================] - 0s 8ms/step - loss: 0.2552 - accuracy: 0.9451 - val_loss: 0.2180 - val_accuracy: 0.9341\n",
            "Epoch 5/100\n",
            "1/8 [==>...........................] - ETA: 0s - loss: 0.2758 - accuracy: 0.8800\n",
            "Epoch 5: val_loss improved from 0.21796 to 0.18448, saving model to best_model2.h5\n",
            "8/8 [==============================] - 0s 9ms/step - loss: 0.2253 - accuracy: 0.9396 - val_loss: 0.1845 - val_accuracy: 0.9341\n",
            "Epoch 6/100\n",
            "1/8 [==>...........................] - ETA: 0s - loss: 0.2246 - accuracy: 0.9400\n",
            "Epoch 6: val_loss improved from 0.18448 to 0.16220, saving model to best_model2.h5\n",
            "8/8 [==============================] - 0s 10ms/step - loss: 0.1881 - accuracy: 0.9478 - val_loss: 0.1622 - val_accuracy: 0.9341\n",
            "Epoch 7/100\n",
            "1/8 [==>...........................] - ETA: 0s - loss: 0.1418 - accuracy: 0.9800\n",
            "Epoch 7: val_loss improved from 0.16220 to 0.14708, saving model to best_model2.h5\n",
            "8/8 [==============================] - 0s 9ms/step - loss: 0.1666 - accuracy: 0.9505 - val_loss: 0.1471 - val_accuracy: 0.9451\n",
            "Epoch 8/100\n",
            "1/8 [==>...........................] - ETA: 0s - loss: 0.1738 - accuracy: 0.9400\n",
            "Epoch 8: val_loss improved from 0.14708 to 0.13833, saving model to best_model2.h5\n",
            "8/8 [==============================] - 0s 9ms/step - loss: 0.1468 - accuracy: 0.9643 - val_loss: 0.1383 - val_accuracy: 0.9560\n",
            "Epoch 9/100\n",
            "1/8 [==>...........................] - ETA: 0s - loss: 0.1242 - accuracy: 0.9800\n",
            "Epoch 9: val_loss improved from 0.13833 to 0.13140, saving model to best_model2.h5\n",
            "8/8 [==============================] - 0s 9ms/step - loss: 0.1435 - accuracy: 0.9725 - val_loss: 0.1314 - val_accuracy: 0.9451\n",
            "Epoch 10/100\n",
            "1/8 [==>...........................] - ETA: 0s - loss: 0.1269 - accuracy: 0.9600\n",
            "Epoch 10: val_loss improved from 0.13140 to 0.12795, saving model to best_model2.h5\n",
            "8/8 [==============================] - 0s 10ms/step - loss: 0.1206 - accuracy: 0.9753 - val_loss: 0.1280 - val_accuracy: 0.9451\n",
            "Epoch 11/100\n",
            "1/8 [==>...........................] - ETA: 0s - loss: 0.1340 - accuracy: 0.9600\n",
            "Epoch 11: val_loss improved from 0.12795 to 0.12609, saving model to best_model2.h5\n",
            "8/8 [==============================] - 0s 11ms/step - loss: 0.1137 - accuracy: 0.9670 - val_loss: 0.1261 - val_accuracy: 0.9451\n",
            "Epoch 12/100\n",
            "1/8 [==>...........................] - ETA: 0s - loss: 0.1057 - accuracy: 0.9600\n",
            "Epoch 12: val_loss improved from 0.12609 to 0.12459, saving model to best_model2.h5\n",
            "8/8 [==============================] - 0s 9ms/step - loss: 0.0903 - accuracy: 0.9753 - val_loss: 0.1246 - val_accuracy: 0.9451\n",
            "Epoch 13/100\n",
            "1/8 [==>...........................] - ETA: 0s - loss: 0.1112 - accuracy: 0.9600\n",
            "Epoch 13: val_loss improved from 0.12459 to 0.12327, saving model to best_model2.h5\n",
            "8/8 [==============================] - 0s 10ms/step - loss: 0.0844 - accuracy: 0.9780 - val_loss: 0.1233 - val_accuracy: 0.9560\n",
            "Epoch 14/100\n",
            "1/8 [==>...........................] - ETA: 0s - loss: 0.0459 - accuracy: 1.0000\n",
            "Epoch 14: val_loss improved from 0.12327 to 0.12293, saving model to best_model2.h5\n",
            "8/8 [==============================] - 0s 9ms/step - loss: 0.0865 - accuracy: 0.9808 - val_loss: 0.1229 - val_accuracy: 0.9560\n",
            "Epoch 15/100\n",
            "1/8 [==>...........................] - ETA: 0s - loss: 0.1188 - accuracy: 0.9800\n",
            "Epoch 15: val_loss did not improve from 0.12293\n",
            "8/8 [==============================] - 0s 7ms/step - loss: 0.0797 - accuracy: 0.9808 - val_loss: 0.1235 - val_accuracy: 0.9560\n",
            "Epoch 16/100\n",
            "1/8 [==>...........................] - ETA: 0s - loss: 0.0373 - accuracy: 1.0000\n",
            "Epoch 16: val_loss did not improve from 0.12293\n",
            "8/8 [==============================] - 0s 6ms/step - loss: 0.0826 - accuracy: 0.9808 - val_loss: 0.1271 - val_accuracy: 0.9560\n",
            "Epoch 17/100\n",
            "1/8 [==>...........................] - ETA: 0s - loss: 0.1364 - accuracy: 0.9200\n",
            "Epoch 17: val_loss did not improve from 0.12293\n",
            "8/8 [==============================] - 0s 6ms/step - loss: 0.0868 - accuracy: 0.9670 - val_loss: 0.1291 - val_accuracy: 0.9560\n",
            "Epoch 18/100\n",
            "1/8 [==>...........................] - ETA: 0s - loss: 0.0629 - accuracy: 0.9800\n",
            "Epoch 18: val_loss did not improve from 0.12293\n",
            "8/8 [==============================] - 0s 7ms/step - loss: 0.0680 - accuracy: 0.9808 - val_loss: 0.1311 - val_accuracy: 0.9560\n",
            "Epoch 19/100\n",
            "1/8 [==>...........................] - ETA: 0s - loss: 0.0624 - accuracy: 1.0000\n",
            "Epoch 19: val_loss did not improve from 0.12293\n",
            "8/8 [==============================] - 0s 8ms/step - loss: 0.0666 - accuracy: 0.9863 - val_loss: 0.1297 - val_accuracy: 0.9560\n",
            "Epoch 20/100\n",
            "1/8 [==>...........................] - ETA: 0s - loss: 0.1353 - accuracy: 0.9400\n",
            "Epoch 20: val_loss did not improve from 0.12293\n",
            "8/8 [==============================] - 0s 6ms/step - loss: 0.0779 - accuracy: 0.9780 - val_loss: 0.1278 - val_accuracy: 0.9560\n",
            "Epoch 21/100\n",
            "1/8 [==>...........................] - ETA: 0s - loss: 0.0416 - accuracy: 0.9800\n",
            "Epoch 21: val_loss did not improve from 0.12293\n",
            "8/8 [==============================] - 0s 7ms/step - loss: 0.0677 - accuracy: 0.9863 - val_loss: 0.1291 - val_accuracy: 0.9560\n",
            "Epoch 22/100\n",
            "1/8 [==>...........................] - ETA: 0s - loss: 0.0201 - accuracy: 1.0000\n",
            "Epoch 22: val_loss did not improve from 0.12293\n",
            "8/8 [==============================] - 0s 6ms/step - loss: 0.0706 - accuracy: 0.9808 - val_loss: 0.1300 - val_accuracy: 0.9560\n",
            "Epoch 23/100\n",
            "1/8 [==>...........................] - ETA: 0s - loss: 0.0145 - accuracy: 1.0000\n",
            "Epoch 23: val_loss did not improve from 0.12293\n",
            "8/8 [==============================] - 0s 7ms/step - loss: 0.0524 - accuracy: 0.9890 - val_loss: 0.1307 - val_accuracy: 0.9560\n",
            "Epoch 24/100\n",
            "1/8 [==>...........................] - ETA: 0s - loss: 0.0557 - accuracy: 0.9800\n",
            "Epoch 24: val_loss did not improve from 0.12293\n",
            "8/8 [==============================] - 0s 8ms/step - loss: 0.0655 - accuracy: 0.9780 - val_loss: 0.1310 - val_accuracy: 0.9560\n",
            "Epoch 25/100\n",
            "1/8 [==>...........................] - ETA: 0s - loss: 0.1683 - accuracy: 0.9800\n",
            "Epoch 25: val_loss did not improve from 0.12293\n",
            "8/8 [==============================] - 0s 7ms/step - loss: 0.0620 - accuracy: 0.9835 - val_loss: 0.1297 - val_accuracy: 0.9560\n",
            "Epoch 26/100\n",
            "1/8 [==>...........................] - ETA: 0s - loss: 0.0171 - accuracy: 1.0000\n",
            "Epoch 26: val_loss did not improve from 0.12293\n",
            "8/8 [==============================] - 0s 6ms/step - loss: 0.0512 - accuracy: 0.9890 - val_loss: 0.1299 - val_accuracy: 0.9451\n",
            "Epoch 27/100\n",
            "1/8 [==>...........................] - ETA: 0s - loss: 0.0291 - accuracy: 1.0000\n",
            "Epoch 27: val_loss did not improve from 0.12293\n",
            "8/8 [==============================] - 0s 6ms/step - loss: 0.0583 - accuracy: 0.9808 - val_loss: 0.1314 - val_accuracy: 0.9451\n",
            "Epoch 28/100\n",
            "1/8 [==>...........................] - ETA: 0s - loss: 0.0402 - accuracy: 1.0000\n",
            "Epoch 28: val_loss did not improve from 0.12293\n",
            "8/8 [==============================] - 0s 6ms/step - loss: 0.0584 - accuracy: 0.9890 - val_loss: 0.1347 - val_accuracy: 0.9451\n",
            "Epoch 29/100\n",
            "1/8 [==>...........................] - ETA: 0s - loss: 0.0217 - accuracy: 1.0000\n",
            "Epoch 29: val_loss did not improve from 0.12293\n",
            "8/8 [==============================] - 0s 6ms/step - loss: 0.0547 - accuracy: 0.9863 - val_loss: 0.1365 - val_accuracy: 0.9451\n",
            "Epoch 30/100\n",
            "1/8 [==>...........................] - ETA: 0s - loss: 0.0248 - accuracy: 1.0000\n",
            "Epoch 30: val_loss did not improve from 0.12293\n",
            "8/8 [==============================] - 0s 7ms/step - loss: 0.0505 - accuracy: 0.9835 - val_loss: 0.1378 - val_accuracy: 0.9451\n",
            "Epoch 31/100\n",
            "1/8 [==>...........................] - ETA: 0s - loss: 0.0242 - accuracy: 1.0000\n",
            "Epoch 31: val_loss did not improve from 0.12293\n",
            "8/8 [==============================] - 0s 10ms/step - loss: 0.0456 - accuracy: 0.9890 - val_loss: 0.1375 - val_accuracy: 0.9451\n",
            "Epoch 32/100\n",
            "1/8 [==>...........................] - ETA: 0s - loss: 0.0381 - accuracy: 0.9800\n",
            "Epoch 32: val_loss did not improve from 0.12293\n",
            "8/8 [==============================] - 0s 7ms/step - loss: 0.0495 - accuracy: 0.9863 - val_loss: 0.1386 - val_accuracy: 0.9560\n",
            "Epoch 33/100\n",
            "1/8 [==>...........................] - ETA: 0s - loss: 0.0428 - accuracy: 0.9800\n",
            "Epoch 33: val_loss did not improve from 0.12293\n",
            "8/8 [==============================] - 0s 6ms/step - loss: 0.0442 - accuracy: 0.9863 - val_loss: 0.1391 - val_accuracy: 0.9560\n",
            "Epoch 34/100\n",
            "1/8 [==>...........................] - ETA: 0s - loss: 0.0727 - accuracy: 0.9600\n",
            "Epoch 34: val_loss did not improve from 0.12293\n",
            "8/8 [==============================] - 0s 7ms/step - loss: 0.0504 - accuracy: 0.9863 - val_loss: 0.1427 - val_accuracy: 0.9560\n",
            "Epoch 35/100\n",
            "1/8 [==>...........................] - ETA: 0s - loss: 0.0357 - accuracy: 1.0000\n",
            "Epoch 35: val_loss did not improve from 0.12293\n",
            "8/8 [==============================] - 0s 7ms/step - loss: 0.0385 - accuracy: 0.9890 - val_loss: 0.1443 - val_accuracy: 0.9560\n",
            "Epoch 36/100\n",
            "1/8 [==>...........................] - ETA: 0s - loss: 0.0150 - accuracy: 1.0000\n",
            "Epoch 36: val_loss did not improve from 0.12293\n",
            "8/8 [==============================] - 0s 6ms/step - loss: 0.0515 - accuracy: 0.9835 - val_loss: 0.1464 - val_accuracy: 0.9560\n",
            "Epoch 37/100\n",
            "1/8 [==>...........................] - ETA: 0s - loss: 0.0271 - accuracy: 1.0000\n",
            "Epoch 37: val_loss did not improve from 0.12293\n",
            "8/8 [==============================] - 0s 6ms/step - loss: 0.0414 - accuracy: 0.9918 - val_loss: 0.1490 - val_accuracy: 0.9560\n",
            "Epoch 38/100\n",
            "1/8 [==>...........................] - ETA: 0s - loss: 0.0454 - accuracy: 0.9800\n",
            "Epoch 38: val_loss did not improve from 0.12293\n",
            "8/8 [==============================] - 0s 7ms/step - loss: 0.0338 - accuracy: 0.9918 - val_loss: 0.1539 - val_accuracy: 0.9560\n",
            "Epoch 39/100\n",
            "1/8 [==>...........................] - ETA: 0s - loss: 0.0509 - accuracy: 0.9800\n",
            "Epoch 39: val_loss did not improve from 0.12293\n",
            "8/8 [==============================] - 0s 7ms/step - loss: 0.0382 - accuracy: 0.9945 - val_loss: 0.1581 - val_accuracy: 0.9560\n",
            "Epoch 40/100\n",
            "1/8 [==>...........................] - ETA: 0s - loss: 0.0133 - accuracy: 1.0000\n",
            "Epoch 40: val_loss did not improve from 0.12293\n",
            "8/8 [==============================] - 0s 6ms/step - loss: 0.0269 - accuracy: 0.9945 - val_loss: 0.1632 - val_accuracy: 0.9451\n",
            "Epoch 41/100\n",
            "1/8 [==>...........................] - ETA: 0s - loss: 0.0253 - accuracy: 1.0000\n",
            "Epoch 41: val_loss did not improve from 0.12293\n",
            "8/8 [==============================] - 0s 6ms/step - loss: 0.0320 - accuracy: 0.9863 - val_loss: 0.1628 - val_accuracy: 0.9560\n",
            "Epoch 42/100\n",
            "1/8 [==>...........................] - ETA: 0s - loss: 0.0271 - accuracy: 0.9800\n",
            "Epoch 42: val_loss did not improve from 0.12293\n",
            "8/8 [==============================] - 0s 6ms/step - loss: 0.0290 - accuracy: 0.9890 - val_loss: 0.1631 - val_accuracy: 0.9560\n",
            "Epoch 43/100\n",
            "1/8 [==>...........................] - ETA: 0s - loss: 0.0226 - accuracy: 1.0000\n",
            "Epoch 43: val_loss did not improve from 0.12293\n",
            "8/8 [==============================] - 0s 6ms/step - loss: 0.0317 - accuracy: 0.9890 - val_loss: 0.1650 - val_accuracy: 0.9560\n",
            "Epoch 44/100\n",
            "1/8 [==>...........................] - ETA: 0s - loss: 0.0253 - accuracy: 0.9800\n",
            "Epoch 44: val_loss did not improve from 0.12293\n",
            "8/8 [==============================] - 0s 8ms/step - loss: 0.0283 - accuracy: 0.9918 - val_loss: 0.1653 - val_accuracy: 0.9560\n"
          ]
        }
      ]
    },
    {
      "cell_type": "code",
      "source": [
        "best_model2 = load_model(modelpath2)\n",
        "best_model2.evaluate(X_test, y_test)"
      ],
      "metadata": {
        "id": "Pt2E7L3w5bJP",
        "colab": {
          "base_uri": "https://localhost:8080/"
        },
        "outputId": "c17e7871-5ac5-4020-e3c0-972439f33b43"
      },
      "execution_count": 17,
      "outputs": [
        {
          "output_type": "stream",
          "name": "stdout",
          "text": [
            "4/4 [==============================] - 0s 3ms/step - loss: 0.0281 - accuracy: 1.0000\n"
          ]
        },
        {
          "output_type": "execute_result",
          "data": {
            "text/plain": [
              "[0.028080349788069725, 1.0]"
            ]
          },
          "metadata": {},
          "execution_count": 17
        }
      ]
    },
    {
      "cell_type": "code",
      "source": [
        "y_acc2 = history2.history['accuracy']\n",
        "y_vloss2 = history2.history['val_loss']\n",
        "xs2 = np.arange(1,len(y_acc2)+1)        # epoch"
      ],
      "metadata": {
        "id": "y8mGdjUD5kF_"
      },
      "execution_count": 18,
      "outputs": []
    },
    {
      "cell_type": "code",
      "source": [
        "plt.figure(figsize=(12,8))\n",
        "plt.plot(xs2, y_acc2, label='train accuracy')\n",
        "plt.plot(xs2, y_vloss2, label='validation loss')\n",
        "plt.legend()\n",
        "plt.grid()\n",
        "plt.ylim([0,1.1])\n",
        "plt.xlabel('Epoch')\n",
        "plt.title('Best model + Early stop')\n",
        "plt.show()"
      ],
      "metadata": {
        "id": "OOuC2EJB5vF_",
        "colab": {
          "base_uri": "https://localhost:8080/",
          "height": 513
        },
        "outputId": "90579ac0-5aaa-489a-fff6-b46aa2d39696"
      },
      "execution_count": 19,
      "outputs": [
        {
          "output_type": "display_data",
          "data": {
            "text/plain": [
              "<Figure size 864x576 with 1 Axes>"
            ],
            "image/png": "[encoded data removed]"
          },
          "metadata": {
            "needs_background": "light"
          }
        }
      ]
    },
    {
      "cell_type": "code",
      "source": [
        ""
      ],
      "metadata": {
        "id": "kIWH9oEx0cMD"
      },
      "execution_count": null,
      "outputs": []
    }
  ]
}