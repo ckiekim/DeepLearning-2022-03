{
  "nbformat": 4,
  "nbformat_minor": 0,
  "metadata": {
    "colab": {
      "name": "18_인코딩.ipynb",
      "provenance": [],
      "collapsed_sections": []
    },
    "kernelspec": {
      "name": "python3",
      "display_name": "Python 3"
    },
    "language_info": {
      "name": "python"
    }
  },
  "cells": [
    {
      "cell_type": "markdown",
      "source": [
        "# Unit 18. 텍스트 인코딩\n",
        "    '경마장에 있는 말이 뛰고 있다‘\n",
        "    '그의 말이 법이다‘\n",
        "    '가는 말이 고와야 오는 말이 곱다'"
      ],
      "metadata": {
        "id": "trmy_KRh01bL"
      }
    },
    {
      "cell_type": "code",
      "source": [
        "text = '''경마장에 있는 말이 뛰고 있다.\n",
        "그의 말이 법이다.\n",
        "가는 말이 고와야 오는 말이 곱다.'''"
      ],
      "metadata": {
        "id": "2mbj-3mi1kFR"
      },
      "execution_count": 1,
      "outputs": []
    },
    {
      "cell_type": "markdown",
      "source": [
        "### Bag of Words\n",
        "- CountVectorizer"
      ],
      "metadata": {
        "id": "PVf9zy8wzulv"
      }
    },
    {
      "cell_type": "code",
      "source": [
        "from sklearn.feature_extraction.text import CountVectorizer\n",
        "\n",
        "cvect = CountVectorizer()\n",
        "cvect.fit([text])"
      ],
      "metadata": {
        "colab": {
          "base_uri": "https://localhost:8080/"
        },
        "id": "p0b3JqWNzr9n",
        "outputId": "176842db-826e-4dd5-d71f-c22689c6493a"
      },
      "execution_count": 2,
      "outputs": [
        {
          "output_type": "execute_result",
          "data": {
            "text/plain": [
              "CountVectorizer()"
            ]
          },
          "metadata": {},
          "execution_count": 2
        }
      ]
    },
    {
      "cell_type": "code",
      "source": [
        "cvect.vocabulary_"
      ],
      "metadata": {
        "colab": {
          "base_uri": "https://localhost:8080/"
        },
        "id": "x1M3Gwnp1G3-",
        "outputId": "4f3e7429-0c7a-4600-cd5b-125fc81de0d0"
      },
      "execution_count": 3,
      "outputs": [
        {
          "output_type": "execute_result",
          "data": {
            "text/plain": [
              "{'가는': 0,\n",
              " '경마장에': 1,\n",
              " '고와야': 2,\n",
              " '곱다': 3,\n",
              " '그의': 4,\n",
              " '뛰고': 5,\n",
              " '말이': 6,\n",
              " '법이다': 7,\n",
              " '오는': 8,\n",
              " '있는': 9,\n",
              " '있다': 10}"
            ]
          },
          "metadata": {},
          "execution_count": 3
        }
      ]
    },
    {
      "cell_type": "code",
      "source": [
        "cvect.transform(['가는 말이 고와야 오는 말이 곱다.']).toarray()"
      ],
      "metadata": {
        "colab": {
          "base_uri": "https://localhost:8080/"
        },
        "id": "2lh-BbN32-rU",
        "outputId": "5f8dc007-4ae3-4a64-ace4-99d1e0aa7efe"
      },
      "execution_count": 4,
      "outputs": [
        {
          "output_type": "execute_result",
          "data": {
            "text/plain": [
              "array([[1, 0, 1, 1, 0, 0, 2, 0, 1, 0, 0]])"
            ]
          },
          "metadata": {},
          "execution_count": 4
        }
      ]
    },
    {
      "cell_type": "markdown",
      "source": [
        "- TfidfVectorizer"
      ],
      "metadata": {
        "id": "Utm9kS_e1naK"
      }
    },
    {
      "cell_type": "code",
      "source": [
        "from sklearn.feature_extraction.text import TfidfVectorizer\n",
        "\n",
        "tvect = TfidfVectorizer()\n",
        "tvect.fit([text])"
      ],
      "metadata": {
        "colab": {
          "base_uri": "https://localhost:8080/"
        },
        "id": "I1cj3EUB1jDu",
        "outputId": "f43a41c8-fc28-4724-e58e-c9981de28157"
      },
      "execution_count": 5,
      "outputs": [
        {
          "output_type": "execute_result",
          "data": {
            "text/plain": [
              "TfidfVectorizer()"
            ]
          },
          "metadata": {},
          "execution_count": 5
        }
      ]
    },
    {
      "cell_type": "code",
      "source": [
        "tvect.vocabulary_"
      ],
      "metadata": {
        "colab": {
          "base_uri": "https://localhost:8080/"
        },
        "id": "hAqMV6Xh1618",
        "outputId": "c57a75ef-7cd5-49e3-e020-06f7bdfee86c"
      },
      "execution_count": 6,
      "outputs": [
        {
          "output_type": "execute_result",
          "data": {
            "text/plain": [
              "{'가는': 0,\n",
              " '경마장에': 1,\n",
              " '고와야': 2,\n",
              " '곱다': 3,\n",
              " '그의': 4,\n",
              " '뛰고': 5,\n",
              " '말이': 6,\n",
              " '법이다': 7,\n",
              " '오는': 8,\n",
              " '있는': 9,\n",
              " '있다': 10}"
            ]
          },
          "metadata": {},
          "execution_count": 6
        }
      ]
    },
    {
      "cell_type": "code",
      "source": [
        "tvect.transform(['가는 말이 고와야 오는 말이 곱다.']).toarray()"
      ],
      "metadata": {
        "colab": {
          "base_uri": "https://localhost:8080/"
        },
        "id": "ZLI4QuaN2Bhf",
        "outputId": "80c164be-ae5a-4d7f-8eaf-692bdd7b2e1b"
      },
      "execution_count": 7,
      "outputs": [
        {
          "output_type": "execute_result",
          "data": {
            "text/plain": [
              "array([[0.35355339, 0.        , 0.35355339, 0.35355339, 0.        ,\n",
              "        0.        , 0.70710678, 0.        , 0.35355339, 0.        ,\n",
              "        0.        ]])"
            ]
          },
          "metadata": {},
          "execution_count": 7
        }
      ]
    },
    {
      "cell_type": "markdown",
      "source": [
        "- N-gram"
      ],
      "metadata": {
        "id": "OQyKtw0N2Mwb"
      }
    },
    {
      "cell_type": "code",
      "source": [
        "cvect2 = CountVectorizer(ngram_range=(1,2))\n",
        "cvect2.fit([text])"
      ],
      "metadata": {
        "colab": {
          "base_uri": "https://localhost:8080/"
        },
        "id": "1DfcJjV32SPk",
        "outputId": "231075b6-977d-4d6f-96af-36609c7518ea"
      },
      "execution_count": 8,
      "outputs": [
        {
          "output_type": "execute_result",
          "data": {
            "text/plain": [
              "CountVectorizer(ngram_range=(1, 2))"
            ]
          },
          "metadata": {},
          "execution_count": 8
        }
      ]
    },
    {
      "cell_type": "code",
      "source": [
        "cvect2.vocabulary_"
      ],
      "metadata": {
        "colab": {
          "base_uri": "https://localhost:8080/"
        },
        "id": "w37yAUZN2Xow",
        "outputId": "0f2e138d-2c95-433b-a58d-6f308860b613"
      },
      "execution_count": 9,
      "outputs": [
        {
          "output_type": "execute_result",
          "data": {
            "text/plain": [
              "{'가는': 0,\n",
              " '가는 말이': 1,\n",
              " '경마장에': 2,\n",
              " '경마장에 있는': 3,\n",
              " '고와야': 4,\n",
              " '고와야 오는': 5,\n",
              " '곱다': 6,\n",
              " '그의': 7,\n",
              " '그의 말이': 8,\n",
              " '뛰고': 9,\n",
              " '뛰고 있다': 10,\n",
              " '말이': 11,\n",
              " '말이 고와야': 12,\n",
              " '말이 곱다': 13,\n",
              " '말이 뛰고': 14,\n",
              " '말이 법이다': 15,\n",
              " '법이다': 16,\n",
              " '법이다 가는': 17,\n",
              " '오는': 18,\n",
              " '오는 말이': 19,\n",
              " '있는': 20,\n",
              " '있는 말이': 21,\n",
              " '있다': 22,\n",
              " '있다 그의': 23}"
            ]
          },
          "metadata": {},
          "execution_count": 9
        }
      ]
    },
    {
      "cell_type": "code",
      "source": [
        "cvect2.transform(['가는 말이 고와야 오는 말이 곱다.']).toarray()"
      ],
      "metadata": {
        "colab": {
          "base_uri": "https://localhost:8080/"
        },
        "id": "tttF4NR82kOT",
        "outputId": "680722ab-f0fc-4678-94da-827b3d9392d8"
      },
      "execution_count": 10,
      "outputs": [
        {
          "output_type": "execute_result",
          "data": {
            "text/plain": [
              "array([[1, 1, 0, 0, 1, 1, 1, 0, 0, 0, 0, 2, 1, 1, 0, 0, 0, 0, 1, 1, 0, 0,\n",
              "        0, 0]])"
            ]
          },
          "metadata": {},
          "execution_count": 10
        }
      ]
    },
    {
      "cell_type": "markdown",
      "source": [
        "### Keras encoding"
      ],
      "metadata": {
        "id": "aH2eT6So2oFA"
      }
    },
    {
      "cell_type": "code",
      "source": [
        "from tensorflow.keras.preprocessing.text import Tokenizer\n",
        "from tensorflow.keras.preprocessing.sequence import pad_sequences"
      ],
      "metadata": {
        "id": "xN7XBPYi1ynu"
      },
      "execution_count": 11,
      "outputs": []
    },
    {
      "cell_type": "markdown",
      "source": [
        "- 단어 집합 생성"
      ],
      "metadata": {
        "id": "AGn4UP1ywa-n"
      }
    },
    {
      "cell_type": "code",
      "source": [
        "t = Tokenizer()\n",
        "t.fit_on_texts([text])"
      ],
      "metadata": {
        "id": "YrUJA13y2O1W"
      },
      "execution_count": 12,
      "outputs": []
    },
    {
      "cell_type": "markdown",
      "source": [
        "- 특징\n",
        "    1. 단어 순서가 가나다 순서가 아니고, 많이 나온 단어 순이다.\n",
        "    2. 0 index가 없다."
      ],
      "metadata": {
        "id": "ZlFrwUEJwjPt"
      }
    },
    {
      "cell_type": "code",
      "source": [
        "t.index_word"
      ],
      "metadata": {
        "colab": {
          "base_uri": "https://localhost:8080/"
        },
        "id": "MIT13DXPw2hW",
        "outputId": "a50982ea-6c3d-42bd-dfe6-0b86a5ea8b9f"
      },
      "execution_count": 13,
      "outputs": [
        {
          "output_type": "execute_result",
          "data": {
            "text/plain": [
              "{1: '말이',\n",
              " 2: '경마장에',\n",
              " 3: '있는',\n",
              " 4: '뛰고',\n",
              " 5: '있다',\n",
              " 6: '그의',\n",
              " 7: '법이다',\n",
              " 8: '가는',\n",
              " 9: '고와야',\n",
              " 10: '오는',\n",
              " 11: '곱다'}"
            ]
          },
          "metadata": {},
          "execution_count": 13
        }
      ]
    },
    {
      "cell_type": "markdown",
      "source": [
        "- 단어 집합 크기 - Keras Tokenizer의 시작 인덱스가 1이기 때문"
      ],
      "metadata": {
        "id": "WTcoNyRQxF8b"
      }
    },
    {
      "cell_type": "code",
      "source": [
        "vocab_size = len(t.index_word) + 1\n",
        "vocab_size"
      ],
      "metadata": {
        "colab": {
          "base_uri": "https://localhost:8080/"
        },
        "id": "D5tCYpVt2rQj",
        "outputId": "48f991b3-9407-420d-bf6d-e5269cb498a6"
      },
      "execution_count": 14,
      "outputs": [
        {
          "output_type": "execute_result",
          "data": {
            "text/plain": [
              "12"
            ]
          },
          "metadata": {},
          "execution_count": 14
        }
      ]
    },
    {
      "cell_type": "markdown",
      "source": [
        "- 문장을 숫자로 표현"
      ],
      "metadata": {
        "id": "5pS_j9LIxX6f"
      }
    },
    {
      "cell_type": "code",
      "source": [
        "t.texts_to_sequences(['그의 말이 법이다.'])"
      ],
      "metadata": {
        "colab": {
          "base_uri": "https://localhost:8080/"
        },
        "id": "qzk6wycX37Pe",
        "outputId": "65826b38-bc6e-4b5e-dc69-6f984109719f"
      },
      "execution_count": 15,
      "outputs": [
        {
          "output_type": "execute_result",
          "data": {
            "text/plain": [
              "[[6, 1, 7]]"
            ]
          },
          "metadata": {},
          "execution_count": 15
        }
      ]
    },
    {
      "cell_type": "code",
      "source": [
        "sequences = []\n",
        "for line in text.split('\\n'):\n",
        "    encoded = t.texts_to_sequences([line])[0]\n",
        "    sequences.append(encoded)\n",
        "print(sequences)"
      ],
      "metadata": {
        "colab": {
          "base_uri": "https://localhost:8080/"
        },
        "id": "IJVZguyu43AF",
        "outputId": "cd3ac15a-6c99-443f-d71e-6fedc269f490"
      },
      "execution_count": 16,
      "outputs": [
        {
          "output_type": "stream",
          "name": "stdout",
          "text": [
            "[[2, 3, 1, 4, 5], [6, 1, 7], [8, 1, 9, 10, 1, 11]]\n"
          ]
        }
      ]
    },
    {
      "cell_type": "code",
      "source": [
        "max_len = max(len(seq) for seq in sequences)\n",
        "max_len"
      ],
      "metadata": {
        "colab": {
          "base_uri": "https://localhost:8080/"
        },
        "id": "5LaH6KDG6SKO",
        "outputId": "94910f3e-2659-4b8e-bbb5-7e85f6b08656"
      },
      "execution_count": 17,
      "outputs": [
        {
          "output_type": "execute_result",
          "data": {
            "text/plain": [
              "6"
            ]
          },
          "metadata": {},
          "execution_count": 17
        }
      ]
    },
    {
      "cell_type": "markdown",
      "source": [
        "- Padding\n",
        "    - 전체 샘플 길이를 max_len에 맞추도록 0를 추가\n",
        "    - pre 옵션을 주면 앞쪽을 채움(default)"
      ],
      "metadata": {
        "id": "4GlUjTid66mp"
      }
    },
    {
      "cell_type": "code",
      "source": [
        "pad_seq = pad_sequences(sequences, maxlen=max_len)\n",
        "pad_seq"
      ],
      "metadata": {
        "colab": {
          "base_uri": "https://localhost:8080/"
        },
        "id": "tJE-jWts6r_U",
        "outputId": "aeb65d6a-cac8-4d8e-b074-2171821ec65a"
      },
      "execution_count": 19,
      "outputs": [
        {
          "output_type": "execute_result",
          "data": {
            "text/plain": [
              "array([[ 0,  2,  3,  1,  4,  5],\n",
              "       [ 0,  0,  0,  6,  1,  7],\n",
              "       [ 8,  1,  9, 10,  1, 11]], dtype=int32)"
            ]
          },
          "metadata": {},
          "execution_count": 19
        }
      ]
    },
    {
      "cell_type": "code",
      "source": [
        "pad_seq = pad_sequences(sequences, maxlen=max_len, padding='post')\n",
        "pad_seq"
      ],
      "metadata": {
        "id": "aPVUyIuoaFs1",
        "colab": {
          "base_uri": "https://localhost:8080/"
        },
        "outputId": "1833d0ec-8f1b-48a6-e4da-af1e05333f7a"
      },
      "execution_count": 20,
      "outputs": [
        {
          "output_type": "execute_result",
          "data": {
            "text/plain": [
              "array([[ 2,  3,  1,  4,  5,  0],\n",
              "       [ 6,  1,  7,  0,  0,  0],\n",
              "       [ 8,  1,  9, 10,  1, 11]], dtype=int32)"
            ]
          },
          "metadata": {},
          "execution_count": 20
        }
      ]
    },
    {
      "cell_type": "code",
      "source": [
        ""
      ],
      "metadata": {
        "id": "p6g-Jutmyp9j"
      },
      "execution_count": null,
      "outputs": []
    }
  ]
}