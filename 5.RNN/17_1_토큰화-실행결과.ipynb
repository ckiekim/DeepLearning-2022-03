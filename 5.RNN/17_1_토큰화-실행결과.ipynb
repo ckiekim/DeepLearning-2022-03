{
  "nbformat": 4,
  "nbformat_minor": 0,
  "metadata": {
    "colab": {
      "name": "17-1_토큰화.ipynb",
      "provenance": [],
      "collapsed_sections": []
    },
    "kernelspec": {
      "name": "python3",
      "display_name": "Python 3"
    },
    "language_info": {
      "name": "python"
    }
  },
  "cells": [
    {
      "cell_type": "markdown",
      "source": [
        "# Unit 17. 토큰화(Tokenization)"
      ],
      "metadata": {
        "id": "p6Qj3ZjBA5j7"
      }
    },
    {
      "cell_type": "code",
      "metadata": {
        "id": "-oYHpplvTERE"
      },
      "source": [
        "!pip install konlpy > /dev/null"
      ],
      "execution_count": 1,
      "outputs": []
    },
    {
      "cell_type": "code",
      "metadata": {
        "id": "o-warvrhTFzI"
      },
      "source": [
        "!pip install kss > /dev/null"
      ],
      "execution_count": 2,
      "outputs": []
    },
    {
      "cell_type": "code",
      "metadata": {
        "id": "-dj0kuQgRvIU",
        "colab": {
          "base_uri": "https://localhost:8080/"
        },
        "outputId": "da052e8a-8a97-4815-f28a-b4739c5d6c7b"
      },
      "source": [
        "import nltk\n",
        "nltk.download('punkt')\n",
        "nltk.download('averaged_perceptron_tagger')"
      ],
      "execution_count": 3,
      "outputs": [
        {
          "output_type": "stream",
          "name": "stdout",
          "text": [
            "[nltk_data] Downloading package punkt to /root/nltk_data...\n",
            "[nltk_data]   Unzipping tokenizers/punkt.zip.\n",
            "[nltk_data] Downloading package averaged_perceptron_tagger to\n",
            "[nltk_data]     /root/nltk_data...\n",
            "[nltk_data]   Unzipping taggers/averaged_perceptron_tagger.zip.\n"
          ]
        },
        {
          "output_type": "execute_result",
          "data": {
            "text/plain": [
              "True"
            ]
          },
          "metadata": {},
          "execution_count": 3
        }
      ]
    },
    {
      "cell_type": "markdown",
      "source": [
        "- 단어 토큰화(Word Tokenization)"
      ],
      "metadata": {
        "id": "Y3bN6iK49Gp4"
      }
    },
    {
      "cell_type": "markdown",
      "source": [
        "토큰의 기준을 단어(word)로 하는 경우, 단어 토큰화(word tokenization)라고 합니다. 다만, 여기서 단어(word)는 단어 단위 외에도 단어구, 의미를 갖는 문자열로도 간주되기도 합니다."
      ],
      "metadata": {
        "id": "AsH3n0109H6b"
      }
    },
    {
      "cell_type": "markdown",
      "source": [
        "- 토큰화 중 생기는 선택의 순간"
      ],
      "metadata": {
        "id": "-sxtCj_x9Dtm"
      }
    },
    {
      "cell_type": "code",
      "source": [
        "from nltk.tokenize import word_tokenize\n",
        "from nltk.tokenize import WordPunctTokenizer\n",
        "from tensorflow.keras.preprocessing.text import text_to_word_sequence"
      ],
      "metadata": {
        "id": "nzfDhsYm852i"
      },
      "execution_count": 4,
      "outputs": []
    },
    {
      "cell_type": "code",
      "metadata": {
        "id": "lTs0hQ8HRDYl",
        "colab": {
          "base_uri": "https://localhost:8080/"
        },
        "outputId": "ff9df156-dbc6-4213-d0f3-be7e19a047dc"
      },
      "source": [
        "text = \"Don't be fooled by the dark sounding name, Mr. Jone's Orphanage is as cheery as cheery goes for a pastry shop.\"\n",
        "print('단어 토큰화1 :', word_tokenize(text))  "
      ],
      "execution_count": 5,
      "outputs": [
        {
          "output_type": "stream",
          "name": "stdout",
          "text": [
            "단어 토큰화1 : ['Do', \"n't\", 'be', 'fooled', 'by', 'the', 'dark', 'sounding', 'name', ',', 'Mr.', 'Jone', \"'s\", 'Orphanage', 'is', 'as', 'cheery', 'as', 'cheery', 'goes', 'for', 'a', 'pastry', 'shop', '.']\n"
          ]
        }
      ]
    },
    {
      "cell_type": "code",
      "metadata": {
        "id": "WFDQA6JLR5HT",
        "colab": {
          "base_uri": "https://localhost:8080/"
        },
        "outputId": "b71882b6-5189-484a-faac-693dab0175c9"
      },
      "source": [
        "print('단어 토큰화2 :', WordPunctTokenizer().tokenize(text))"
      ],
      "execution_count": 6,
      "outputs": [
        {
          "output_type": "stream",
          "name": "stdout",
          "text": [
            "단어 토큰화2 : ['Don', \"'\", 't', 'be', 'fooled', 'by', 'the', 'dark', 'sounding', 'name', ',', 'Mr', '.', 'Jone', \"'\", 's', 'Orphanage', 'is', 'as', 'cheery', 'as', 'cheery', 'goes', 'for', 'a', 'pastry', 'shop', '.']\n"
          ]
        }
      ]
    },
    {
      "cell_type": "code",
      "metadata": {
        "id": "EhsH1n5uR6g7",
        "colab": {
          "base_uri": "https://localhost:8080/"
        },
        "outputId": "9eb2d276-f6f2-4787-bbc7-834d90f2f3f6"
      },
      "source": [
        "print('단어 토큰화3 :', text_to_word_sequence(text))"
      ],
      "execution_count": 7,
      "outputs": [
        {
          "output_type": "stream",
          "name": "stdout",
          "text": [
            "단어 토큰화3 : [\"don't\", 'be', 'fooled', 'by', 'the', 'dark', 'sounding', 'name', 'mr', \"jone's\", 'orphanage', 'is', 'as', 'cheery', 'as', 'cheery', 'goes', 'for', 'a', 'pastry', 'shop']\n"
          ]
        }
      ]
    },
    {
      "cell_type": "markdown",
      "source": [
        "- 토큰화에서 고려해야할 사항"
      ],
      "metadata": {
        "id": "f9NR6H8K9LGd"
      }
    },
    {
      "cell_type": "code",
      "metadata": {
        "id": "z_NaLsx2R7Rr",
        "colab": {
          "base_uri": "https://localhost:8080/"
        },
        "outputId": "588e4003-7549-4e8e-a04a-7e6ef00f2202"
      },
      "source": [
        "from nltk.tokenize import TreebankWordTokenizer\n",
        "\n",
        "tokenizer = TreebankWordTokenizer()\n",
        "\n",
        "text = \"Starting a home-based restaurant may be an ideal. it doesn't have a food chain or restaurant of their own.\"\n",
        "print('트리뱅크 워드토크나이저 :', tokenizer.tokenize(text))"
      ],
      "execution_count": 8,
      "outputs": [
        {
          "output_type": "stream",
          "name": "stdout",
          "text": [
            "트리뱅크 워드토크나이저 : ['Starting', 'a', 'home-based', 'restaurant', 'may', 'be', 'an', 'ideal.', 'it', 'does', \"n't\", 'have', 'a', 'food', 'chain', 'or', 'restaurant', 'of', 'their', 'own', '.']\n"
          ]
        }
      ]
    },
    {
      "cell_type": "markdown",
      "source": [
        "- 문장 토큰화(Sentence Tokenization)"
      ],
      "metadata": {
        "id": "X6lWTou49PLA"
      }
    },
    {
      "cell_type": "code",
      "metadata": {
        "id": "C2WixyvHR9US",
        "colab": {
          "base_uri": "https://localhost:8080/"
        },
        "outputId": "e68a5792-596f-4794-c952-41cb62391410"
      },
      "source": [
        "from nltk.tokenize import sent_tokenize\n",
        "\n",
        "text = \"\"\"His barber kept his word. But keeping such a huge secret to himself was driving him crazy. \n",
        "        Finally, the barber went up a mountain and almost to the edge of a cliff. \n",
        "        He dug a hole in the midst of some reeds. He looked about, to make sure no one was near.\"\"\"\n",
        "print('문장 토큰화1 :', sent_tokenize(text))"
      ],
      "execution_count": 9,
      "outputs": [
        {
          "output_type": "stream",
          "name": "stdout",
          "text": [
            "문장 토큰화1 : ['His barber kept his word.', 'But keeping such a huge secret to himself was driving him crazy.', 'Finally, the barber went up a mountain and almost to the edge of a cliff.', 'He dug a hole in the midst of some reeds.', 'He looked about, to make sure no one was near.']\n"
          ]
        }
      ]
    },
    {
      "cell_type": "code",
      "metadata": {
        "id": "_QDLen2CSDk6",
        "colab": {
          "base_uri": "https://localhost:8080/"
        },
        "outputId": "f3dfae95-0501-47d6-a320-9636d5b5f85d"
      },
      "source": [
        "text = \"I am actively looking for Ph.D. students. and you are a Ph.D student.\"\n",
        "print('문장 토큰화2 :', sent_tokenize(text))"
      ],
      "execution_count": 10,
      "outputs": [
        {
          "output_type": "stream",
          "name": "stdout",
          "text": [
            "문장 토큰화2 : ['I am actively looking for Ph.D. students.', 'and you are a Ph.D student.']\n"
          ]
        }
      ]
    },
    {
      "cell_type": "code",
      "metadata": {
        "id": "KIDooFnDSM-7",
        "colab": {
          "base_uri": "https://localhost:8080/"
        },
        "outputId": "7b5aa5ac-344b-4fc9-e802-aa1c5ac11712"
      },
      "source": [
        "import kss\n",
        "\n",
        "text = '딥러닝 자연어 처리가 재미있기는 합니다. 그런데 문제는 영어보다 한국어로 할 때 너무 어렵습니다. 이제 해보면 알걸요?'\n",
        "print('한국어 문장 토큰화 :', kss.split_sentences(text))"
      ],
      "execution_count": 11,
      "outputs": [
        {
          "output_type": "stream",
          "name": "stderr",
          "text": [
            "[Korean Sentence Splitter]: Initializing Pynori...\n"
          ]
        },
        {
          "output_type": "stream",
          "name": "stdout",
          "text": [
            "한국어 문장 토큰화 : ['딥러닝 자연어 처리가 재미있기는 합니다.', '그런데 문제는 영어보다 한국어로 할 때 너무 어렵습니다.', '이제 해보면 알걸요?']\n"
          ]
        }
      ]
    },
    {
      "cell_type": "markdown",
      "source": [
        "- NLTK와 KoNLPy를 이용한 영어, 한국어 토큰화 실습"
      ],
      "metadata": {
        "id": "J8znWPo59hX9"
      }
    },
    {
      "cell_type": "code",
      "metadata": {
        "id": "MrD41LYKSQGb"
      },
      "source": [
        "from nltk.tokenize import word_tokenize\n",
        "from nltk.tag import pos_tag"
      ],
      "execution_count": 12,
      "outputs": []
    },
    {
      "cell_type": "code",
      "metadata": {
        "id": "f-pa-nMwSibh",
        "colab": {
          "base_uri": "https://localhost:8080/"
        },
        "outputId": "502fb896-7ef8-41e3-d20c-a39eb6b5953c"
      },
      "source": [
        "text = \"I am actively looking for Ph.D. students. and you are a Ph.D. student.\"\n",
        "tokenized_sentence = word_tokenize(text)\n",
        "\n",
        "print('단어 토큰화 :', tokenized_sentence)\n",
        "print('품사 태깅 :', pos_tag(tokenized_sentence))"
      ],
      "execution_count": 13,
      "outputs": [
        {
          "output_type": "stream",
          "name": "stdout",
          "text": [
            "단어 토큰화 : ['I', 'am', 'actively', 'looking', 'for', 'Ph.D.', 'students', '.', 'and', 'you', 'are', 'a', 'Ph.D.', 'student', '.']\n",
            "품사 태깅 : [('I', 'PRP'), ('am', 'VBP'), ('actively', 'RB'), ('looking', 'VBG'), ('for', 'IN'), ('Ph.D.', 'NNP'), ('students', 'NNS'), ('.', '.'), ('and', 'CC'), ('you', 'PRP'), ('are', 'VBP'), ('a', 'DT'), ('Ph.D.', 'NNP'), ('student', 'NN'), ('.', '.')]\n"
          ]
        }
      ]
    },
    {
      "cell_type": "code",
      "metadata": {
        "id": "c9BJZNPZSnd7"
      },
      "source": [
        "from konlpy.tag import Okt\n",
        "from konlpy.tag import Kkma"
      ],
      "execution_count": 14,
      "outputs": []
    },
    {
      "cell_type": "code",
      "source": [
        "okt = Okt()\n",
        "kkma = Kkma()"
      ],
      "metadata": {
        "id": "GAYMyRBg9noI"
      },
      "execution_count": 15,
      "outputs": []
    },
    {
      "cell_type": "code",
      "source": [
        "print('OKT 형태소 분석 :', okt.morphs(\"열심히 코딩한 당신, 연휴에는 여행을 가봐요\"))\n",
        "print('OKT 품사 태깅 :', okt.pos(\"열심히 코딩한 당신, 연휴에는 여행을 가봐요\"))\n",
        "print('OKT 명사 추출 :', okt.nouns(\"열심히 코딩한 당신, 연휴에는 여행을 가봐요\")) "
      ],
      "metadata": {
        "id": "oH4Ye8cg9q1H",
        "colab": {
          "base_uri": "https://localhost:8080/"
        },
        "outputId": "04b51125-bf6c-4b49-8b55-7c6537d6f530"
      },
      "execution_count": 16,
      "outputs": [
        {
          "output_type": "stream",
          "name": "stdout",
          "text": [
            "OKT 형태소 분석 : ['열심히', '코딩', '한', '당신', ',', '연휴', '에는', '여행', '을', '가봐요']\n",
            "OKT 품사 태깅 : [('열심히', 'Adverb'), ('코딩', 'Noun'), ('한', 'Josa'), ('당신', 'Noun'), (',', 'Punctuation'), ('연휴', 'Noun'), ('에는', 'Josa'), ('여행', 'Noun'), ('을', 'Josa'), ('가봐요', 'Verb')]\n",
            "OKT 명사 추출 : ['코딩', '당신', '연휴', '여행']\n"
          ]
        }
      ]
    },
    {
      "cell_type": "code",
      "metadata": {
        "id": "cbuqewYRTXYT",
        "colab": {
          "base_uri": "https://localhost:8080/"
        },
        "outputId": "8919c4a6-e2a1-47bf-ce73-2ac40f507fd1"
      },
      "source": [
        "print('꼬꼬마 형태소 분석 :', kkma.morphs(\"열심히 코딩한 당신, 연휴에는 여행을 가봐요\"))\n",
        "print('꼬꼬마 품사 태깅 :', kkma.pos(\"열심히 코딩한 당신, 연휴에는 여행을 가봐요\"))\n",
        "print('꼬꼬마 명사 추출 :', kkma.nouns(\"열심히 코딩한 당신, 연휴에는 여행을 가봐요\"))  "
      ],
      "execution_count": 17,
      "outputs": [
        {
          "output_type": "stream",
          "name": "stdout",
          "text": [
            "꼬꼬마 형태소 분석 : ['열심히', '코딩', '하', 'ㄴ', '당신', ',', '연휴', '에', '는', '여행', '을', '가보', '아요']\n",
            "꼬꼬마 품사 태깅 : [('열심히', 'MAG'), ('코딩', 'NNG'), ('하', 'XSV'), ('ㄴ', 'ETD'), ('당신', 'NP'), (',', 'SP'), ('연휴', 'NNG'), ('에', 'JKM'), ('는', 'JX'), ('여행', 'NNG'), ('을', 'JKO'), ('가보', 'VV'), ('아요', 'EFN')]\n",
            "꼬꼬마 명사 추출 : ['코딩', '당신', '연휴', '여행']\n"
          ]
        }
      ]
    }
  ]
}