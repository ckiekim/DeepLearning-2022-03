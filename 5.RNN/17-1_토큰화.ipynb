{
  "nbformat": 4,
  "nbformat_minor": 0,
  "metadata": {
    "colab": {
      "name": "17-1_토큰화.ipynb",
      "provenance": [],
      "collapsed_sections": []
    },
    "kernelspec": {
      "name": "python3",
      "display_name": "Python 3"
    },
    "language_info": {
      "name": "python"
    }
  },
  "cells": [
    {
      "cell_type": "markdown",
      "source": [
        "# Unit 17. 토큰화(Tokenization)"
      ],
      "metadata": {
        "id": "p6Qj3ZjBA5j7"
      }
    },
    {
      "cell_type": "code",
      "metadata": {
        "id": "-oYHpplvTERE"
      },
      "source": [
        "!pip install konlpy > /dev/null"
      ],
      "execution_count": null,
      "outputs": []
    },
    {
      "cell_type": "code",
      "metadata": {
        "id": "o-warvrhTFzI"
      },
      "source": [
        "!pip install kss > /dev/null"
      ],
      "execution_count": null,
      "outputs": []
    },
    {
      "cell_type": "code",
      "metadata": {
        "id": "-dj0kuQgRvIU"
      },
      "source": [
        "import nltk\n",
        "nltk.download('punkt')\n",
        "nltk.download('averaged_perceptron_tagger')"
      ],
      "execution_count": null,
      "outputs": []
    },
    {
      "cell_type": "markdown",
      "source": [
        "- 단어 토큰화(Word Tokenization)"
      ],
      "metadata": {
        "id": "Y3bN6iK49Gp4"
      }
    },
    {
      "cell_type": "markdown",
      "source": [
        "토큰의 기준을 단어(word)로 하는 경우, 단어 토큰화(word tokenization)라고 합니다. 다만, 여기서 단어(word)는 단어 단위 외에도 단어구, 의미를 갖는 문자열로도 간주되기도 합니다."
      ],
      "metadata": {
        "id": "AsH3n0109H6b"
      }
    },
    {
      "cell_type": "markdown",
      "source": [
        "- 토큰화 중 생기는 선택의 순간"
      ],
      "metadata": {
        "id": "-sxtCj_x9Dtm"
      }
    },
    {
      "cell_type": "code",
      "source": [
        "from nltk.tokenize import word_tokenize\n",
        "from nltk.tokenize import WordPunctTokenizer\n",
        "from tensorflow.keras.preprocessing.text import text_to_word_sequence"
      ],
      "metadata": {
        "id": "nzfDhsYm852i"
      },
      "execution_count": null,
      "outputs": []
    },
    {
      "cell_type": "code",
      "metadata": {
        "id": "lTs0hQ8HRDYl"
      },
      "source": [
        "text = \"Don't be fooled by the dark sounding name, Mr. Jone's Orphanage is as cheery as cheery goes for a pastry shop.\"\n",
        "print('단어 토큰화1 :', word_tokenize(text))  "
      ],
      "execution_count": null,
      "outputs": []
    },
    {
      "cell_type": "code",
      "metadata": {
        "id": "WFDQA6JLR5HT"
      },
      "source": [
        "print('단어 토큰화2 :', WordPunctTokenizer().tokenize(text))"
      ],
      "execution_count": null,
      "outputs": []
    },
    {
      "cell_type": "code",
      "metadata": {
        "id": "EhsH1n5uR6g7"
      },
      "source": [
        "print('단어 토큰화3 :', text_to_word_sequence(text))"
      ],
      "execution_count": null,
      "outputs": []
    },
    {
      "cell_type": "markdown",
      "source": [
        "- 토큰화에서 고려해야할 사항"
      ],
      "metadata": {
        "id": "f9NR6H8K9LGd"
      }
    },
    {
      "cell_type": "code",
      "metadata": {
        "id": "z_NaLsx2R7Rr"
      },
      "source": [
        "from nltk.tokenize import TreebankWordTokenizer\n",
        "\n",
        "tokenizer = TreebankWordTokenizer()\n",
        "\n",
        "text = \"Starting a home-based restaurant may be an ideal. it doesn't have a food chain or restaurant of their own.\"\n",
        "print('트리뱅크 워드토크나이저 :', tokenizer.tokenize(text))"
      ],
      "execution_count": null,
      "outputs": []
    },
    {
      "cell_type": "markdown",
      "source": [
        "- 문장 토큰화(Sentence Tokenization)"
      ],
      "metadata": {
        "id": "X6lWTou49PLA"
      }
    },
    {
      "cell_type": "code",
      "metadata": {
        "id": "C2WixyvHR9US"
      },
      "source": [
        "from nltk.tokenize import sent_tokenize\n",
        "\n",
        "text = \"\"\"His barber kept his word. But keeping such a huge secret to himself was driving him crazy. \n",
        "        Finally, the barber went up a mountain and almost to the edge of a cliff. \n",
        "        He dug a hole in the midst of some reeds. He looked about, to make sure no one was near.\"\"\"\n",
        "print('문장 토큰화1 :', sent_tokenize(text))"
      ],
      "execution_count": null,
      "outputs": []
    },
    {
      "cell_type": "code",
      "metadata": {
        "id": "_QDLen2CSDk6"
      },
      "source": [
        "text = \"I am actively looking for Ph.D. students. and you are a Ph.D student.\"\n",
        "print('문장 토큰화2 :', sent_tokenize(text))"
      ],
      "execution_count": null,
      "outputs": []
    },
    {
      "cell_type": "code",
      "metadata": {
        "id": "KIDooFnDSM-7"
      },
      "source": [
        "import kss\n",
        "\n",
        "text = '딥러닝 자연어 처리가 재미있기는 합니다. 그런데 문제는 영어보다 한국어로 할 때 너무 어렵습니다. 이제 해보면 알걸요?'\n",
        "print('한국어 문장 토큰화 :', kss.split_sentences(text))"
      ],
      "execution_count": null,
      "outputs": []
    },
    {
      "cell_type": "markdown",
      "source": [
        "- NLTK와 KoNLPy를 이용한 영어, 한국어 토큰화 실습"
      ],
      "metadata": {
        "id": "J8znWPo59hX9"
      }
    },
    {
      "cell_type": "code",
      "metadata": {
        "id": "MrD41LYKSQGb"
      },
      "source": [
        "from nltk.tokenize import word_tokenize\n",
        "from nltk.tag import pos_tag"
      ],
      "execution_count": null,
      "outputs": []
    },
    {
      "cell_type": "code",
      "metadata": {
        "id": "f-pa-nMwSibh"
      },
      "source": [
        "text = \"I am actively looking for Ph.D. students. and you are a Ph.D. student.\"\n",
        "tokenized_sentence = word_tokenize(text)\n",
        "\n",
        "print('단어 토큰화 :',tokenized_sentence)\n",
        "print('품사 태깅 :',pos_tag(tokenized_sentence))"
      ],
      "execution_count": null,
      "outputs": []
    },
    {
      "cell_type": "code",
      "metadata": {
        "id": "c9BJZNPZSnd7"
      },
      "source": [
        "from konlpy.tag import Okt\n",
        "from konlpy.tag import Kkma"
      ],
      "execution_count": null,
      "outputs": []
    },
    {
      "cell_type": "code",
      "source": [
        "okt = Okt()\n",
        "kkma = Kkma()"
      ],
      "metadata": {
        "id": "GAYMyRBg9noI"
      },
      "execution_count": null,
      "outputs": []
    },
    {
      "cell_type": "code",
      "source": [
        "print('OKT 형태소 분석 :', okt.morphs(\"열심히 코딩한 당신, 연휴에는 여행을 가봐요\"))\n",
        "print('OKT 품사 태깅 :', okt.pos(\"열심히 코딩한 당신, 연휴에는 여행을 가봐요\"))\n",
        "print('OKT 명사 추출 :', okt.nouns(\"열심히 코딩한 당신, 연휴에는 여행을 가봐요\")) "
      ],
      "metadata": {
        "id": "oH4Ye8cg9q1H"
      },
      "execution_count": null,
      "outputs": []
    },
    {
      "cell_type": "code",
      "metadata": {
        "id": "cbuqewYRTXYT"
      },
      "source": [
        "print('꼬꼬마 형태소 분석 :', kkma.morphs(\"열심히 코딩한 당신, 연휴에는 여행을 가봐요\"))\n",
        "print('꼬꼬마 품사 태깅 :', kkma.pos(\"열심히 코딩한 당신, 연휴에는 여행을 가봐요\"))\n",
        "print('꼬꼬마 명사 추출 :', kkma.nouns(\"열심히 코딩한 당신, 연휴에는 여행을 가봐요\"))  "
      ],
      "execution_count": null,
      "outputs": []
    }
  ]
}