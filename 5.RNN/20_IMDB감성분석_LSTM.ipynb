{
  "nbformat": 4,
  "nbformat_minor": 0,
  "metadata": {
    "colab": {
      "name": "20_IMDB감성분석_LSTM.ipynb",
      "provenance": [],
      "collapsed_sections": []
    },
    "kernelspec": {
      "name": "python3",
      "display_name": "Python 3"
    },
    "language_info": {
      "name": "python"
    },
    "accelerator": "GPU"
  },
  "cells": [
    {
      "cell_type": "markdown",
      "source": [
        "# IMDB 영화 리뷰 감성 분석 - LSTM"
      ],
      "metadata": {
        "id": "Qqcg0yeU9qNf"
      }
    },
    {
      "cell_type": "code",
      "execution_count": null,
      "metadata": {
        "id": "PaW-zwDq9f5u"
      },
      "outputs": [],
      "source": [
        "import numpy as np\n",
        "import matplotlib.pyplot as plt\n",
        "from tensorflow.keras.datasets import imdb\n",
        "import warnings\n",
        "warnings.filterwarnings('ignore')"
      ]
    },
    {
      "cell_type": "code",
      "source": [
        "(X_train, y_train), (X_test, y_test) = imdb.load_data()\n",
        "X_train.shape, X_test.shape, y_train.shape"
      ],
      "metadata": {
        "id": "clA7T6p3-GpG"
      },
      "execution_count": null,
      "outputs": []
    },
    {
      "cell_type": "code",
      "source": [
        "print('등장한 단어수', len(imdb.get_word_index()))\n",
        "print('리뷰 최대 길이', max(len(s) for s in X_train))\n",
        "print('리뷰 평균 길이', sum(map(len, X_train)) / len(X_train))"
      ],
      "metadata": {
        "id": "iSlXLQpw-ksV"
      },
      "execution_count": null,
      "outputs": []
    },
    {
      "cell_type": "markdown",
      "source": [
        "### LSTM으로 IMDB 리뷰 감성 분석\n",
        "- 단어 빈도수: 10,000 (총 88,584)\n",
        "- 문장의 단어수: 500 (최대 2,494)\n",
        "- test data중 40%(10,000개)는 검증용으로"
      ],
      "metadata": {
        "id": "Dr8jUcVH_gqY"
      }
    },
    {
      "cell_type": "code",
      "source": [
        "import tensorflow as tf\n",
        "seed = 2022\n",
        "np.random.seed(seed)\n",
        "tf.random.set_seed(seed)"
      ],
      "metadata": {
        "id": "rnVjU8jN_ZI4"
      },
      "execution_count": null,
      "outputs": []
    },
    {
      "cell_type": "code",
      "source": [
        "from tensorflow.keras.models import Sequential, load_model\n",
        "from tensorflow.keras.layers import Embedding, LSTM, Dense\n",
        "from tensorflow.keras.preprocessing.sequence import pad_sequences\n",
        "from tensorflow.keras.callbacks import ModelCheckpoint, EarlyStopping"
      ],
      "metadata": {
        "id": "BNCu-JESAq7-"
      },
      "execution_count": null,
      "outputs": []
    },
    {
      "cell_type": "code",
      "source": [
        "(X_train, y_train), (X_test, y_test) = imdb.load_data(num_words=10000)\n",
        "X_train.shape, X_test.shape, y_train.shape"
      ],
      "metadata": {
        "id": "H1Ga6a6YAtnr"
      },
      "execution_count": null,
      "outputs": []
    },
    {
      "cell_type": "code",
      "source": [
        "max_len = 500\n",
        "X_train = pad_sequences(X_train, maxlen=max_len)\n",
        "X_test = pad_sequences(X_test, maxlen=max_len)\n",
        "X_train.shape, X_test.shape"
      ],
      "metadata": {
        "id": "Nt1Z8Br6A-dY"
      },
      "execution_count": null,
      "outputs": []
    },
    {
      "cell_type": "code",
      "source": [
        "from sklearn.model_selection import train_test_split\n",
        "X_test, X_valid, y_test, y_valid = train_test_split(\n",
        "    X_test, y_test, stratify=y_test, test_size=0.4, random_state=seed\n",
        ")\n",
        "X_test.shape, X_valid.shape, y_test.shape, y_valid.shape"
      ],
      "metadata": {
        "id": "pegUNDSPC_J2"
      },
      "execution_count": null,
      "outputs": []
    },
    {
      "cell_type": "markdown",
      "source": [
        "- LSTM model\n",
        "    - embedding dim: 100\n",
        "    - hidden_units: 128"
      ],
      "metadata": {
        "id": "emuevffiBi2b"
      }
    },
    {
      "cell_type": "code",
      "source": [
        "model = Sequential([ \n",
        "    Embedding(10000, 100, input_length=max_len),\n",
        "    LSTM(128, activation='tanh'),\n",
        "    Dense(1, activation='sigmoid')\n",
        "])\n",
        "model.summary()"
      ],
      "metadata": {
        "id": "0aHJMfKaBcMs"
      },
      "execution_count": null,
      "outputs": []
    },
    {
      "cell_type": "code",
      "source": [
        "model.compile('adam', 'binary_crossentropy', ['accuracy'])\n",
        "\n",
        "model_path = 'best-imdb-lstm.h5'\n",
        "mc = ModelCheckpoint(model_path, save_best_only=True, verbose=1)\n",
        "es = EarlyStopping(patience=5)"
      ],
      "metadata": {
        "id": "I0x3BKWWCN32"
      },
      "execution_count": null,
      "outputs": []
    },
    {
      "cell_type": "code",
      "source": [
        "hist = model.fit(\n",
        "    X_train, y_train, epochs=30, batch_size=64, \n",
        "    validation_data=[X_valid, y_valid],\n",
        "    callbacks=[mc, es]\n",
        ")"
      ],
      "metadata": {
        "id": "8V7rTA-CCmV8"
      },
      "execution_count": null,
      "outputs": []
    },
    {
      "cell_type": "code",
      "source": [
        "best_model = load_model(model_path)\n",
        "best_model.evaluate(X_test, y_test)"
      ],
      "metadata": {
        "id": "y5Uq8uXiD1b_"
      },
      "execution_count": null,
      "outputs": []
    },
    {
      "cell_type": "markdown",
      "source": [
        "- 학습과정 시각화"
      ],
      "metadata": {
        "id": "Ct9mxpeCpEKJ"
      }
    },
    {
      "cell_type": "code",
      "source": [
        "y_acc = hist.history['accuracy']\n",
        "y_vloss = hist.history['val_loss']\n",
        "xs = np.arange(1, len(y_acc)+1)"
      ],
      "metadata": {
        "id": "xf9nfsPvHBEG"
      },
      "execution_count": null,
      "outputs": []
    },
    {
      "cell_type": "code",
      "source": [
        "plt.figure(figsize=(12,8))\n",
        "plt.plot(xs, y_acc, label='train accuracy')\n",
        "plt.plot(xs, y_vloss, label='validation loss')\n",
        "plt.xlabel('Epoch')\n",
        "plt.grid(), plt.legend()\n",
        "plt.show()"
      ],
      "metadata": {
        "id": "6bHc_WiPoftb"
      },
      "execution_count": null,
      "outputs": []
    }
  ]
}