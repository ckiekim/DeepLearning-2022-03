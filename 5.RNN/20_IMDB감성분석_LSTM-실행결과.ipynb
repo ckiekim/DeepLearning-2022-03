{
  "nbformat": 4,
  "nbformat_minor": 0,
  "metadata": {
    "colab": {
      "name": "20_IMDB감성분석_LSTM.ipynb",
      "provenance": [],
      "collapsed_sections": []
    },
    "kernelspec": {
      "name": "python3",
      "display_name": "Python 3"
    },
    "language_info": {
      "name": "python"
    },
    "accelerator": "GPU"
  },
  "cells": [
    {
      "cell_type": "markdown",
      "source": [
        "# IMDB 영화 리뷰 감성 분석 - LSTM"
      ],
      "metadata": {
        "id": "Qqcg0yeU9qNf"
      }
    },
    {
      "cell_type": "code",
      "execution_count": 1,
      "metadata": {
        "id": "PaW-zwDq9f5u"
      },
      "outputs": [],
      "source": [
        "import numpy as np\n",
        "import matplotlib.pyplot as plt\n",
        "from tensorflow.keras.datasets import imdb\n",
        "import warnings\n",
        "warnings.filterwarnings('ignore')"
      ]
    },
    {
      "cell_type": "code",
      "source": [
        "(X_train, y_train), (X_test, y_test) = imdb.load_data()\n",
        "X_train.shape, X_test.shape, y_train.shape"
      ],
      "metadata": {
        "id": "clA7T6p3-GpG",
        "colab": {
          "base_uri": "https://localhost:8080/"
        },
        "outputId": "f9fafc31-0336-4e17-f017-214a7c3ee775"
      },
      "execution_count": 2,
      "outputs": [
        {
          "output_type": "stream",
          "name": "stdout",
          "text": [
            "Downloading data from https://storage.googleapis.com/tensorflow/tf-keras-datasets/imdb.npz\n",
            "17465344/17464789 [==============================] - 0s 0us/step\n",
            "17473536/17464789 [==============================] - 0s 0us/step\n"
          ]
        },
        {
          "output_type": "execute_result",
          "data": {
            "text/plain": [
              "((25000,), (25000,), (25000,))"
            ]
          },
          "metadata": {},
          "execution_count": 2
        }
      ]
    },
    {
      "cell_type": "code",
      "source": [
        "print('등장한 단어수', len(imdb.get_word_index()))\n",
        "print('리뷰 최대 길이', max(len(s) for s in X_train))\n",
        "print('리뷰 평균 길이', sum(map(len, X_train)) / len(X_train))"
      ],
      "metadata": {
        "id": "iSlXLQpw-ksV",
        "colab": {
          "base_uri": "https://localhost:8080/"
        },
        "outputId": "a46fda5b-f862-4cfe-a050-db158df9979f"
      },
      "execution_count": 3,
      "outputs": [
        {
          "output_type": "stream",
          "name": "stdout",
          "text": [
            "Downloading data from https://storage.googleapis.com/tensorflow/tf-keras-datasets/imdb_word_index.json\n",
            "1646592/1641221 [==============================] - 0s 0us/step\n",
            "1654784/1641221 [==============================] - 0s 0us/step\n",
            "등장한 단어수 88584\n",
            "리뷰 최대 길이 2494\n",
            "리뷰 평균 길이 238.71364\n"
          ]
        }
      ]
    },
    {
      "cell_type": "markdown",
      "source": [
        "### LSTM으로 IMDB 리뷰 감성 분석\n",
        "- 단어 빈도수: 10,000 (총 88,584)\n",
        "- 문장의 단어수: 500 (최대 2,494)\n",
        "- test data중 40%(10,000개)는 검증용으로"
      ],
      "metadata": {
        "id": "Dr8jUcVH_gqY"
      }
    },
    {
      "cell_type": "code",
      "source": [
        "import tensorflow as tf\n",
        "seed = 2022\n",
        "np.random.seed(seed)\n",
        "tf.random.set_seed(seed)"
      ],
      "metadata": {
        "id": "rnVjU8jN_ZI4"
      },
      "execution_count": 4,
      "outputs": []
    },
    {
      "cell_type": "code",
      "source": [
        "from tensorflow.keras.models import Sequential, load_model\n",
        "from tensorflow.keras.layers import Embedding, LSTM, Dense\n",
        "from tensorflow.keras.preprocessing.sequence import pad_sequences\n",
        "from tensorflow.keras.callbacks import ModelCheckpoint, EarlyStopping"
      ],
      "metadata": {
        "id": "BNCu-JESAq7-"
      },
      "execution_count": 5,
      "outputs": []
    },
    {
      "cell_type": "code",
      "source": [
        "(X_train, y_train), (X_test, y_test) = imdb.load_data(num_words=10000)\n",
        "X_train.shape, X_test.shape, y_train.shape"
      ],
      "metadata": {
        "id": "H1Ga6a6YAtnr",
        "colab": {
          "base_uri": "https://localhost:8080/"
        },
        "outputId": "7c9a4215-6882-41f9-e717-ddd75921f67b"
      },
      "execution_count": 6,
      "outputs": [
        {
          "output_type": "execute_result",
          "data": {
            "text/plain": [
              "((25000,), (25000,), (25000,))"
            ]
          },
          "metadata": {},
          "execution_count": 6
        }
      ]
    },
    {
      "cell_type": "code",
      "source": [
        "max_len = 500\n",
        "X_train = pad_sequences(X_train, maxlen=max_len)\n",
        "X_test = pad_sequences(X_test, maxlen=max_len)\n",
        "X_train.shape, X_test.shape"
      ],
      "metadata": {
        "id": "Nt1Z8Br6A-dY",
        "colab": {
          "base_uri": "https://localhost:8080/"
        },
        "outputId": "45945ba4-7985-411c-b582-d5e18a632210"
      },
      "execution_count": 7,
      "outputs": [
        {
          "output_type": "execute_result",
          "data": {
            "text/plain": [
              "((25000, 500), (25000, 500))"
            ]
          },
          "metadata": {},
          "execution_count": 7
        }
      ]
    },
    {
      "cell_type": "code",
      "source": [
        "from sklearn.model_selection import train_test_split\n",
        "X_test, X_valid, y_test, y_valid = train_test_split(\n",
        "    X_test, y_test, stratify=y_test, test_size=0.4, random_state=seed\n",
        ")\n",
        "X_test.shape, X_valid.shape, y_test.shape, y_valid.shape"
      ],
      "metadata": {
        "id": "pegUNDSPC_J2",
        "colab": {
          "base_uri": "https://localhost:8080/"
        },
        "outputId": "bbd0f29d-be8c-4e6f-cb94-18f4e492aeb9"
      },
      "execution_count": 8,
      "outputs": [
        {
          "output_type": "execute_result",
          "data": {
            "text/plain": [
              "((15000, 500), (10000, 500), (15000,), (10000,))"
            ]
          },
          "metadata": {},
          "execution_count": 8
        }
      ]
    },
    {
      "cell_type": "markdown",
      "source": [
        "- LSTM model\n",
        "    - embedding dim: 100\n",
        "    - hidden_units: 128"
      ],
      "metadata": {
        "id": "emuevffiBi2b"
      }
    },
    {
      "cell_type": "code",
      "source": [
        "model = Sequential([ \n",
        "    Embedding(10000, 100, input_length=max_len),\n",
        "    LSTM(128, activation='tanh'),\n",
        "    Dense(1, activation='sigmoid')\n",
        "])\n",
        "model.summary()"
      ],
      "metadata": {
        "id": "0aHJMfKaBcMs",
        "colab": {
          "base_uri": "https://localhost:8080/"
        },
        "outputId": "59641b90-ae33-458b-a13d-e1b5ef138af6"
      },
      "execution_count": 9,
      "outputs": [
        {
          "output_type": "stream",
          "name": "stdout",
          "text": [
            "Model: \"sequential\"\n",
            "_________________________________________________________________\n",
            " Layer (type)                Output Shape              Param #   \n",
            "=================================================================\n",
            " embedding (Embedding)       (None, 500, 100)          1000000   \n",
            "                                                                 \n",
            " lstm (LSTM)                 (None, 128)               117248    \n",
            "                                                                 \n",
            " dense (Dense)               (None, 1)                 129       \n",
            "                                                                 \n",
            "=================================================================\n",
            "Total params: 1,117,377\n",
            "Trainable params: 1,117,377\n",
            "Non-trainable params: 0\n",
            "_________________________________________________________________\n"
          ]
        }
      ]
    },
    {
      "cell_type": "code",
      "source": [
        "model.compile('adam', 'binary_crossentropy', ['accuracy'])\n",
        "\n",
        "model_path = 'best-imdb-lstm.h5'\n",
        "mc = ModelCheckpoint(model_path, save_best_only=True, verbose=1)\n",
        "es = EarlyStopping(patience=5)"
      ],
      "metadata": {
        "id": "I0x3BKWWCN32"
      },
      "execution_count": 10,
      "outputs": []
    },
    {
      "cell_type": "code",
      "source": [
        "hist = model.fit(\n",
        "    X_train, y_train, epochs=30, batch_size=64, \n",
        "    validation_data=[X_valid, y_valid],\n",
        "    callbacks=[mc, es]\n",
        ")"
      ],
      "metadata": {
        "id": "8V7rTA-CCmV8",
        "colab": {
          "base_uri": "https://localhost:8080/"
        },
        "outputId": "90f6a035-4dbc-485d-b4a0-17cd8589847c"
      },
      "execution_count": 11,
      "outputs": [
        {
          "output_type": "stream",
          "name": "stdout",
          "text": [
            "Epoch 1/30\n",
            "391/391 [==============================] - ETA: 0s - loss: 0.4874 - accuracy: 0.7543\n",
            "Epoch 1: val_loss improved from inf to 0.35033, saving model to best-imdb-lstm.h5\n",
            "391/391 [==============================] - 46s 101ms/step - loss: 0.4874 - accuracy: 0.7543 - val_loss: 0.3503 - val_accuracy: 0.8522\n",
            "Epoch 2/30\n",
            "391/391 [==============================] - ETA: 0s - loss: 0.2722 - accuracy: 0.8924\n",
            "Epoch 2: val_loss improved from 0.35033 to 0.31570, saving model to best-imdb-lstm.h5\n",
            "391/391 [==============================] - 39s 99ms/step - loss: 0.2722 - accuracy: 0.8924 - val_loss: 0.3157 - val_accuracy: 0.8653\n",
            "Epoch 3/30\n",
            "391/391 [==============================] - ETA: 0s - loss: 0.2220 - accuracy: 0.9161\n",
            "Epoch 3: val_loss did not improve from 0.31570\n",
            "391/391 [==============================] - 39s 99ms/step - loss: 0.2220 - accuracy: 0.9161 - val_loss: 0.3759 - val_accuracy: 0.8275\n",
            "Epoch 4/30\n",
            "391/391 [==============================] - ETA: 0s - loss: 0.1733 - accuracy: 0.9364\n",
            "Epoch 4: val_loss did not improve from 0.31570\n",
            "391/391 [==============================] - 39s 99ms/step - loss: 0.1733 - accuracy: 0.9364 - val_loss: 0.3500 - val_accuracy: 0.8645\n",
            "Epoch 5/30\n",
            "391/391 [==============================] - ETA: 0s - loss: 0.1329 - accuracy: 0.9522\n",
            "Epoch 5: val_loss did not improve from 0.31570\n",
            "391/391 [==============================] - 39s 99ms/step - loss: 0.1329 - accuracy: 0.9522 - val_loss: 0.4157 - val_accuracy: 0.8497\n",
            "Epoch 6/30\n",
            "391/391 [==============================] - ETA: 0s - loss: 0.1135 - accuracy: 0.9598\n",
            "Epoch 6: val_loss did not improve from 0.31570\n",
            "391/391 [==============================] - 39s 99ms/step - loss: 0.1135 - accuracy: 0.9598 - val_loss: 0.4912 - val_accuracy: 0.8574\n",
            "Epoch 7/30\n",
            "391/391 [==============================] - ETA: 0s - loss: 0.0770 - accuracy: 0.9742\n",
            "Epoch 7: val_loss did not improve from 0.31570\n",
            "391/391 [==============================] - 39s 99ms/step - loss: 0.0770 - accuracy: 0.9742 - val_loss: 0.4820 - val_accuracy: 0.8582\n"
          ]
        }
      ]
    },
    {
      "cell_type": "code",
      "source": [
        "best_model = load_model(model_path)\n",
        "best_model.evaluate(X_test, y_test)"
      ],
      "metadata": {
        "id": "y5Uq8uXiD1b_",
        "colab": {
          "base_uri": "https://localhost:8080/"
        },
        "outputId": "90da072f-0f05-4226-c73b-f8fb14b07fce"
      },
      "execution_count": 12,
      "outputs": [
        {
          "output_type": "stream",
          "name": "stdout",
          "text": [
            "469/469 [==============================] - 18s 37ms/step - loss: 0.3141 - accuracy: 0.8699\n"
          ]
        },
        {
          "output_type": "execute_result",
          "data": {
            "text/plain": [
              "[0.31407594680786133, 0.8699333071708679]"
            ]
          },
          "metadata": {},
          "execution_count": 12
        }
      ]
    },
    {
      "cell_type": "markdown",
      "source": [
        "- 학습과정 시각화"
      ],
      "metadata": {
        "id": "Ct9mxpeCpEKJ"
      }
    },
    {
      "cell_type": "code",
      "source": [
        "y_acc = hist.history['accuracy']\n",
        "y_vloss = hist.history['val_loss']\n",
        "xs = np.arange(1, len(y_acc)+1)"
      ],
      "metadata": {
        "id": "xf9nfsPvHBEG"
      },
      "execution_count": 13,
      "outputs": []
    },
    {
      "cell_type": "code",
      "source": [
        "plt.figure(figsize=(12,8))\n",
        "plt.plot(xs, y_acc, label='train accuracy')\n",
        "plt.plot(xs, y_vloss, label='validation loss')\n",
        "plt.xlabel('Epoch')\n",
        "plt.grid(), plt.legend()\n",
        "plt.show()"
      ],
      "metadata": {
        "id": "6bHc_WiPoftb",
        "colab": {
          "base_uri": "https://localhost:8080/",
          "height": 497
        },
        "outputId": "eec38ed9-cb36-42ee-b1f0-0542b562fb37"
      },
      "execution_count": 14,
      "outputs": [
        {
          "output_type": "display_data",
          "data": {
            "text/plain": [
              "<Figure size 864x576 with 1 Axes>"
            ],
            "image/png": "[encoded data removed]"
          },
          "metadata": {
            "needs_background": "light"
          }
        }
      ]
    }
  ]
}