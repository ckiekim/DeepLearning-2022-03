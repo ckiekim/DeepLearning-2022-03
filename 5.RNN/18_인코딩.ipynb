{
  "nbformat": 4,
  "nbformat_minor": 0,
  "metadata": {
    "colab": {
      "name": "18_인코딩.ipynb",
      "provenance": [],
      "collapsed_sections": []
    },
    "kernelspec": {
      "name": "python3",
      "display_name": "Python 3"
    },
    "language_info": {
      "name": "python"
    }
  },
  "cells": [
    {
      "cell_type": "markdown",
      "source": [
        "# Unit 18. 텍스트 인코딩\n",
        "    '경마장에 있는 말이 뛰고 있다‘\n",
        "    '그의 말이 법이다‘\n",
        "    '가는 말이 고와야 오는 말이 곱다'"
      ],
      "metadata": {
        "id": "trmy_KRh01bL"
      }
    },
    {
      "cell_type": "code",
      "source": [
        "text = '''경마장에 있는 말이 뛰고 있다.\n",
        "그의 말이 법이다.\n",
        "가는 말이 고와야 오는 말이 곱다.'''"
      ],
      "metadata": {
        "id": "2mbj-3mi1kFR"
      },
      "execution_count": null,
      "outputs": []
    },
    {
      "cell_type": "markdown",
      "source": [
        "### Bag of Words\n",
        "- CountVectorizer"
      ],
      "metadata": {
        "id": "PVf9zy8wzulv"
      }
    },
    {
      "cell_type": "code",
      "source": [
        "from sklearn.feature_extraction.text import CountVectorizer\n",
        "\n",
        "cvect = CountVectorizer()\n",
        "cvect.fit([text])"
      ],
      "metadata": {
        "id": "p0b3JqWNzr9n"
      },
      "execution_count": null,
      "outputs": []
    },
    {
      "cell_type": "code",
      "source": [
        "cvect.vocabulary_"
      ],
      "metadata": {
        "id": "x1M3Gwnp1G3-"
      },
      "execution_count": null,
      "outputs": []
    },
    {
      "cell_type": "code",
      "source": [
        "cvect.transform(['가는 말이 고와야 오는 말이 곱다.']).toarray()"
      ],
      "metadata": {
        "id": "2lh-BbN32-rU"
      },
      "execution_count": null,
      "outputs": []
    },
    {
      "cell_type": "markdown",
      "source": [
        "- TfidfVectorizer"
      ],
      "metadata": {
        "id": "Utm9kS_e1naK"
      }
    },
    {
      "cell_type": "code",
      "source": [
        "from sklearn.feature_extraction.text import TfidfVectorizer\n",
        "\n",
        "tvect = TfidfVectorizer()\n",
        "tvect.fit([text])"
      ],
      "metadata": {
        "id": "I1cj3EUB1jDu"
      },
      "execution_count": null,
      "outputs": []
    },
    {
      "cell_type": "code",
      "source": [
        "tvect.vocabulary_"
      ],
      "metadata": {
        "id": "hAqMV6Xh1618"
      },
      "execution_count": null,
      "outputs": []
    },
    {
      "cell_type": "code",
      "source": [
        "tvect.transform(['가는 말이 고와야 오는 말이 곱다.']).toarray()"
      ],
      "metadata": {
        "id": "ZLI4QuaN2Bhf"
      },
      "execution_count": null,
      "outputs": []
    },
    {
      "cell_type": "markdown",
      "source": [
        "- N-gram"
      ],
      "metadata": {
        "id": "OQyKtw0N2Mwb"
      }
    },
    {
      "cell_type": "code",
      "source": [
        "cvect2 = CountVectorizer(ngram_range=(1,2))\n",
        "cvect2.fit([text])"
      ],
      "metadata": {
        "id": "1DfcJjV32SPk"
      },
      "execution_count": null,
      "outputs": []
    },
    {
      "cell_type": "code",
      "source": [
        "cvect2.vocabulary_"
      ],
      "metadata": {
        "id": "w37yAUZN2Xow"
      },
      "execution_count": null,
      "outputs": []
    },
    {
      "cell_type": "code",
      "source": [
        "cvect2.transform(['가는 말이 고와야 오는 말이 곱다.']).toarray()"
      ],
      "metadata": {
        "id": "tttF4NR82kOT"
      },
      "execution_count": null,
      "outputs": []
    },
    {
      "cell_type": "markdown",
      "source": [
        "### Keras encoding"
      ],
      "metadata": {
        "id": "aH2eT6So2oFA"
      }
    },
    {
      "cell_type": "code",
      "source": [
        "from tensorflow.keras.preprocessing.text import Tokenizer\n",
        "from tensorflow.keras.preprocessing.sequence import pad_sequences"
      ],
      "metadata": {
        "id": "xN7XBPYi1ynu"
      },
      "execution_count": null,
      "outputs": []
    },
    {
      "cell_type": "markdown",
      "source": [
        "- 단어 집합 생성"
      ],
      "metadata": {
        "id": "AGn4UP1ywa-n"
      }
    },
    {
      "cell_type": "code",
      "source": [
        "t = Tokenizer()\n",
        "t.fit_on_texts([text])"
      ],
      "metadata": {
        "id": "YrUJA13y2O1W"
      },
      "execution_count": null,
      "outputs": []
    },
    {
      "cell_type": "markdown",
      "source": [
        "- 특징\n",
        "    1. word_index 순서가 가나다 순서가 아니고, 많이 나온 단어 순이다.\n",
        "    2. 0 index가 없다."
      ],
      "metadata": {
        "id": "ZlFrwUEJwjPt"
      }
    },
    {
      "cell_type": "code",
      "source": [
        "t.index_word"
      ],
      "metadata": {
        "id": "MIT13DXPw2hW"
      },
      "execution_count": null,
      "outputs": []
    },
    {
      "cell_type": "markdown",
      "source": [
        "- 단어 집합 크기 - Keras Tokenizer의 시작 인덱스가 1이기 때문"
      ],
      "metadata": {
        "id": "WTcoNyRQxF8b"
      }
    },
    {
      "cell_type": "code",
      "source": [
        "vocab_size = len(t.index_word) + 1\n",
        "vocab_size"
      ],
      "metadata": {
        "id": "D5tCYpVt2rQj"
      },
      "execution_count": null,
      "outputs": []
    },
    {
      "cell_type": "markdown",
      "source": [
        "- 문장을 숫자로 표현"
      ],
      "metadata": {
        "id": "5pS_j9LIxX6f"
      }
    },
    {
      "cell_type": "code",
      "source": [
        "t.texts_to_sequences(['그의 말이 법이다.'])"
      ],
      "metadata": {
        "id": "qzk6wycX37Pe"
      },
      "execution_count": null,
      "outputs": []
    },
    {
      "cell_type": "code",
      "source": [
        "sequences = []\n",
        "for line in text.split('\\n'):\n",
        "    encoded = t.texts_to_sequences([line])[0]\n",
        "    sequences.append(encoded)\n",
        "print(sequences)"
      ],
      "metadata": {
        "id": "IJVZguyu43AF"
      },
      "execution_count": null,
      "outputs": []
    },
    {
      "cell_type": "code",
      "source": [
        "max_len = max(len(seq) for seq in sequences)\n",
        "max_len"
      ],
      "metadata": {
        "id": "5LaH6KDG6SKO"
      },
      "execution_count": null,
      "outputs": []
    },
    {
      "cell_type": "markdown",
      "source": [
        "- Padding\n",
        "    - 전체 샘플 길이를 max_len에 맞추도록 0를 추가\n",
        "    - pre 옵션을 주면 앞쪽을 채움(default)"
      ],
      "metadata": {
        "id": "4GlUjTid66mp"
      }
    },
    {
      "cell_type": "code",
      "source": [
        "pad_seq = pad_sequences(sequences, maxlen=max_len, padding='pre')\n",
        "pad_seq"
      ],
      "metadata": {
        "id": "tJE-jWts6r_U"
      },
      "execution_count": null,
      "outputs": []
    },
    {
      "cell_type": "code",
      "source": [
        "pad_seq = pad_sequences(sequences, maxlen=max_len, padding='post')\n",
        "pad_seq"
      ],
      "metadata": {
        "id": "aPVUyIuoaFs1"
      },
      "execution_count": null,
      "outputs": []
    },
    {
      "cell_type": "code",
      "source": [
        ""
      ],
      "metadata": {
        "id": "p6g-Jutmyp9j"
      },
      "execution_count": null,
      "outputs": []
    }
  ]
}