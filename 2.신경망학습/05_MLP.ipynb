{
  "nbformat": 4,
  "nbformat_minor": 0,
  "metadata": {
    "colab": {
      "name": "05_MLP.ipynb",
      "provenance": [],
      "collapsed_sections": []
    },
    "kernelspec": {
      "name": "python3",
      "display_name": "Python 3"
    },
    "language_info": {
      "name": "python"
    }
  },
  "cells": [
    {
      "cell_type": "markdown",
      "source": [
        "# Unit 5. MLP(Multi-Layer Perceptron)"
      ],
      "metadata": {
        "id": "HUilmBsjUixB"
      }
    },
    {
      "cell_type": "code",
      "execution_count": null,
      "metadata": {
        "id": "QmXmNrpgUaWQ"
      },
      "outputs": [],
      "source": [
        "import numpy as np"
      ]
    },
    {
      "cell_type": "markdown",
      "source": [
        "- AND gate"
      ],
      "metadata": {
        "id": "VB4vOywfVReO"
      }
    },
    {
      "cell_type": "code",
      "source": [
        "def and_gate(x1, x2):\n",
        "    weight = np.array([1,1])\n",
        "    bias = -1\n",
        "    X = np.array([x1, x2])\n",
        "    sum = np.dot(weight, X) + bias\n",
        "    return 1 if sum > 0 else 0"
      ],
      "metadata": {
        "id": "4_9WCP52Wlrx"
      },
      "execution_count": null,
      "outputs": []
    },
    {
      "cell_type": "code",
      "source": [
        "for x1, x2 in [(0,0), (0,1), (1,0), (1,1)]:\n",
        "    print(and_gate(x1, x2))"
      ],
      "metadata": {
        "id": "Y5GdajYIXjnN"
      },
      "execution_count": null,
      "outputs": []
    },
    {
      "cell_type": "markdown",
      "source": [
        "- OR gate"
      ],
      "metadata": {
        "id": "gRp2K597YN13"
      }
    },
    {
      "cell_type": "code",
      "source": [
        "def or_gate(x1, x2):\n",
        "    weight = np.array([2,2])\n",
        "    bias = -1\n",
        "    X = np.array([x1, x2])\n",
        "    sum = np.dot(weight, X) + bias\n",
        "    return 1 if sum > 0 else 0"
      ],
      "metadata": {
        "id": "cBQtYo-0YnV0"
      },
      "execution_count": null,
      "outputs": []
    },
    {
      "cell_type": "code",
      "source": [
        "for x1, x2 in [(0,0), (0,1), (1,0), (1,1)]:\n",
        "    print(or_gate(x1, x2))"
      ],
      "metadata": {
        "id": "f41gJ5gOYxC9"
      },
      "execution_count": null,
      "outputs": []
    },
    {
      "cell_type": "markdown",
      "source": [
        "- NAND gate"
      ],
      "metadata": {
        "id": "QR_-CA29Y-W6"
      }
    },
    {
      "cell_type": "code",
      "source": [
        "def nand_gate(x1, x2):\n",
        "    weight = np.array([-2,-2])\n",
        "    bias = 3\n",
        "    X = np.array([x1, x2])\n",
        "    sum = np.dot(weight, X) + bias\n",
        "    return 1 if sum > 0 else 0"
      ],
      "metadata": {
        "id": "lTjnLOe0Y0B6"
      },
      "execution_count": null,
      "outputs": []
    },
    {
      "cell_type": "code",
      "source": [
        "for x1, x2 in [(0,0), (0,1), (1,0), (1,1)]:\n",
        "    print(nand_gate(x1, x2))"
      ],
      "metadata": {
        "id": "u0hLeNGMZM9g"
      },
      "execution_count": null,
      "outputs": []
    },
    {
      "cell_type": "markdown",
      "source": [
        "- MLP"
      ],
      "metadata": {
        "id": "c1BhQdCcZfQq"
      }
    },
    {
      "cell_type": "code",
      "source": [
        "n1, n2 = [], []\n",
        "for x1, x2 in [(0,0), (0,1), (1,0), (1,1)]:\n",
        "    n1.append(nand_gate(x1, x2))\n",
        "    n2.append(or_gate(x1, x2))\n",
        "n1, n2"
      ],
      "metadata": {
        "id": "yY6pgrAgYTxf"
      },
      "execution_count": null,
      "outputs": []
    },
    {
      "cell_type": "code",
      "source": [
        "for x1, x2 in zip(n1, n2):\n",
        "    print(and_gate(x1, x2))"
      ],
      "metadata": {
        "id": "_YpDe8arZn5x"
      },
      "execution_count": null,
      "outputs": []
    },
    {
      "cell_type": "markdown",
      "source": [
        "- XOR gate"
      ],
      "metadata": {
        "id": "DRn7hA-yb0oQ"
      }
    },
    {
      "cell_type": "code",
      "source": [
        "for x1, x2 in [(0,0), (0,1), (1,0), (1,1)]:\n",
        "    print(and_gate(nand_gate(x1, x2), or_gate(x1, x2)))"
      ],
      "metadata": {
        "id": "KI9aXAgCbQSH"
      },
      "execution_count": null,
      "outputs": []
    },
    {
      "cell_type": "code",
      "source": [
        "def xor_gate(x1, x2):\n",
        "    return and_gate(nand_gate(x1, x2), or_gate(x1, x2))"
      ],
      "metadata": {
        "id": "ZsX5aoGsbFJ0"
      },
      "execution_count": null,
      "outputs": []
    },
    {
      "cell_type": "code",
      "source": [
        "print('x1,x2\\tn1,n2\\tXOR')\n",
        "for x1, x2 in [(0,0), (0,1), (1,0), (1,1)]:\n",
        "    print(f'{x1:2d},{x2:2d}\\t{nand_gate(x1,x2):2d},{or_gate(x1,x2):2d}\\t{xor_gate(x1,x2):3d}')"
      ],
      "metadata": {
        "id": "tK0gNB4iZeeI"
      },
      "execution_count": null,
      "outputs": []
    },
    {
      "cell_type": "code",
      "source": [
        ""
      ],
      "metadata": {
        "id": "BlNOUt8lZQXS"
      },
      "execution_count": null,
      "outputs": []
    }
  ]
}