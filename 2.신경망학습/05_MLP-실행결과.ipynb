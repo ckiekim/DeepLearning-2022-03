{
  "nbformat": 4,
  "nbformat_minor": 0,
  "metadata": {
    "colab": {
      "name": "05_MLP.ipynb",
      "provenance": [],
      "collapsed_sections": []
    },
    "kernelspec": {
      "name": "python3",
      "display_name": "Python 3"
    },
    "language_info": {
      "name": "python"
    }
  },
  "cells": [
    {
      "cell_type": "markdown",
      "source": [
        "# Unit 5. MLP(Multi-Layer Perceptron)"
      ],
      "metadata": {
        "id": "HUilmBsjUixB"
      }
    },
    {
      "cell_type": "code",
      "execution_count": 1,
      "metadata": {
        "id": "QmXmNrpgUaWQ"
      },
      "outputs": [],
      "source": [
        "import numpy as np"
      ]
    },
    {
      "cell_type": "markdown",
      "source": [
        "- AND gate"
      ],
      "metadata": {
        "id": "VB4vOywfVReO"
      }
    },
    {
      "cell_type": "code",
      "source": [
        "def and_gate(x1, x2):\n",
        "    weight = np.array([1,1])\n",
        "    bias = -1\n",
        "    X = np.array([x1, x2])\n",
        "    sum = np.dot(weight, X) + bias\n",
        "    return 1 if sum > 0 else 0"
      ],
      "metadata": {
        "id": "4_9WCP52Wlrx"
      },
      "execution_count": 3,
      "outputs": []
    },
    {
      "cell_type": "code",
      "source": [
        "for x1, x2 in [(0,0), (0,1), (1,0), (1,1)]:\n",
        "    print(and_gate(x1, x2))"
      ],
      "metadata": {
        "id": "Y5GdajYIXjnN",
        "colab": {
          "base_uri": "https://localhost:8080/"
        },
        "outputId": "48c445b6-7628-451c-827e-a3502a4426b4"
      },
      "execution_count": 4,
      "outputs": [
        {
          "output_type": "stream",
          "name": "stdout",
          "text": [
            "0\n",
            "0\n",
            "0\n",
            "1\n"
          ]
        }
      ]
    },
    {
      "cell_type": "markdown",
      "source": [
        "- OR gate"
      ],
      "metadata": {
        "id": "gRp2K597YN13"
      }
    },
    {
      "cell_type": "code",
      "source": [
        "def or_gate(x1, x2):\n",
        "    weight = np.array([2,2])\n",
        "    bias = -1\n",
        "    X = np.array([x1, x2])\n",
        "    sum = np.dot(weight, X) + bias\n",
        "    return 1 if sum > 0 else 0"
      ],
      "metadata": {
        "id": "cBQtYo-0YnV0"
      },
      "execution_count": 5,
      "outputs": []
    },
    {
      "cell_type": "code",
      "source": [
        "for x1, x2 in [(0,0), (0,1), (1,0), (1,1)]:\n",
        "    print(or_gate(x1, x2))"
      ],
      "metadata": {
        "id": "f41gJ5gOYxC9",
        "colab": {
          "base_uri": "https://localhost:8080/"
        },
        "outputId": "e7b52043-b33d-4cdb-b500-e6ddc8e51dbb"
      },
      "execution_count": 6,
      "outputs": [
        {
          "output_type": "stream",
          "name": "stdout",
          "text": [
            "0\n",
            "1\n",
            "1\n",
            "1\n"
          ]
        }
      ]
    },
    {
      "cell_type": "markdown",
      "source": [
        "- NAND gate"
      ],
      "metadata": {
        "id": "QR_-CA29Y-W6"
      }
    },
    {
      "cell_type": "code",
      "source": [
        "def nand_gate(x1, x2):\n",
        "    weight = np.array([-2,-2])\n",
        "    bias = 3\n",
        "    X = np.array([x1, x2])\n",
        "    sum = np.dot(weight, X) + bias\n",
        "    return 1 if sum > 0 else 0"
      ],
      "metadata": {
        "id": "lTjnLOe0Y0B6"
      },
      "execution_count": 7,
      "outputs": []
    },
    {
      "cell_type": "code",
      "source": [
        "for x1, x2 in [(0,0), (0,1), (1,0), (1,1)]:\n",
        "    print(nand_gate(x1, x2))"
      ],
      "metadata": {
        "id": "u0hLeNGMZM9g",
        "colab": {
          "base_uri": "https://localhost:8080/"
        },
        "outputId": "e6f9420b-d6b0-4023-8f9a-73c0f87b2990"
      },
      "execution_count": 8,
      "outputs": [
        {
          "output_type": "stream",
          "name": "stdout",
          "text": [
            "1\n",
            "1\n",
            "1\n",
            "0\n"
          ]
        }
      ]
    },
    {
      "cell_type": "markdown",
      "source": [
        "- MLP"
      ],
      "metadata": {
        "id": "c1BhQdCcZfQq"
      }
    },
    {
      "cell_type": "code",
      "source": [
        "n1, n2 = [], []\n",
        "for x1, x2 in [(0,0), (0,1), (1,0), (1,1)]:\n",
        "    n1.append(nand_gate(x1, x2))\n",
        "    n2.append(or_gate(x1, x2))\n",
        "n1, n2"
      ],
      "metadata": {
        "id": "yY6pgrAgYTxf",
        "colab": {
          "base_uri": "https://localhost:8080/"
        },
        "outputId": "17458c44-aab9-46a6-9b71-85dc65d953d1"
      },
      "execution_count": 9,
      "outputs": [
        {
          "output_type": "execute_result",
          "data": {
            "text/plain": [
              "([1, 1, 1, 0], [0, 1, 1, 1])"
            ]
          },
          "metadata": {},
          "execution_count": 9
        }
      ]
    },
    {
      "cell_type": "code",
      "source": [
        "list(zip(n1, n2))"
      ],
      "metadata": {
        "colab": {
          "base_uri": "https://localhost:8080/"
        },
        "id": "Bsl2KWql9Z_n",
        "outputId": "5b548c53-a0a2-4d11-9c28-1a26af58c5d9"
      },
      "execution_count": 11,
      "outputs": [
        {
          "output_type": "execute_result",
          "data": {
            "text/plain": [
              "[(1, 0), (1, 1), (1, 1), (0, 1)]"
            ]
          },
          "metadata": {},
          "execution_count": 11
        }
      ]
    },
    {
      "cell_type": "code",
      "source": [
        "for x1, x2 in zip(n1, n2):\n",
        "    print(and_gate(x1, x2))"
      ],
      "metadata": {
        "id": "_YpDe8arZn5x",
        "colab": {
          "base_uri": "https://localhost:8080/"
        },
        "outputId": "399cb357-f73b-46b9-f2a5-ffa2f7f3eb92"
      },
      "execution_count": 12,
      "outputs": [
        {
          "output_type": "stream",
          "name": "stdout",
          "text": [
            "0\n",
            "1\n",
            "1\n",
            "0\n"
          ]
        }
      ]
    },
    {
      "cell_type": "markdown",
      "source": [
        "- XOR gate"
      ],
      "metadata": {
        "id": "DRn7hA-yb0oQ"
      }
    },
    {
      "cell_type": "code",
      "source": [
        "for x1, x2 in [(0,0), (0,1), (1,0), (1,1)]:\n",
        "    print(and_gate(nand_gate(x1, x2), or_gate(x1, x2)))"
      ],
      "metadata": {
        "id": "KI9aXAgCbQSH",
        "colab": {
          "base_uri": "https://localhost:8080/"
        },
        "outputId": "49b6b832-b2f4-4ae6-9543-3e8f6f297ad0"
      },
      "execution_count": 13,
      "outputs": [
        {
          "output_type": "stream",
          "name": "stdout",
          "text": [
            "0\n",
            "1\n",
            "1\n",
            "0\n"
          ]
        }
      ]
    },
    {
      "cell_type": "code",
      "source": [
        "def xor_gate(x1, x2):\n",
        "    return and_gate(nand_gate(x1, x2), or_gate(x1, x2))"
      ],
      "metadata": {
        "id": "ZsX5aoGsbFJ0"
      },
      "execution_count": 14,
      "outputs": []
    },
    {
      "cell_type": "code",
      "source": [
        "print('x1,x2\\tn1,n2\\tXOR')\n",
        "for x1, x2 in [(0,0), (0,1), (1,0), (1,1)]:\n",
        "    print(f'{x1:2d},{x2:2d}\\t{nand_gate(x1,x2):2d},{or_gate(x1,x2):2d}\\t{xor_gate(x1,x2):3d}')"
      ],
      "metadata": {
        "id": "tK0gNB4iZeeI",
        "colab": {
          "base_uri": "https://localhost:8080/"
        },
        "outputId": "38c8b06d-2ae7-4dc8-c8d5-e6454e4aeaab"
      },
      "execution_count": 15,
      "outputs": [
        {
          "output_type": "stream",
          "name": "stdout",
          "text": [
            "x1,x2\tn1,n2\tXOR\n",
            " 0, 0\t 1, 0\t  0\n",
            " 0, 1\t 1, 1\t  1\n",
            " 1, 0\t 1, 1\t  1\n",
            " 1, 1\t 0, 1\t  0\n"
          ]
        }
      ]
    },
    {
      "cell_type": "code",
      "source": [
        ""
      ],
      "metadata": {
        "id": "BlNOUt8lZQXS"
      },
      "execution_count": null,
      "outputs": []
    }
  ]
}