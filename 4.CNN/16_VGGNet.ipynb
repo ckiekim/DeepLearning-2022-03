{
  "nbformat": 4,
  "nbformat_minor": 0,
  "metadata": {
    "colab": {
      "name": "16_VGGNet.ipynb",
      "provenance": [],
      "collapsed_sections": []
    },
    "kernelspec": {
      "name": "python3",
      "display_name": "Python 3"
    },
    "language_info": {
      "name": "python"
    }
  },
  "cells": [
    {
      "cell_type": "markdown",
      "source": [
        "# VGG Net 응용"
      ],
      "metadata": {
        "id": "0EIGALtK4MM9"
      }
    },
    {
      "cell_type": "code",
      "execution_count": null,
      "metadata": {
        "id": "N8LOJrTZtkne"
      },
      "outputs": [],
      "source": [
        "from tensorflow.keras.applications.vgg16 import VGG16, decode_predictions"
      ]
    },
    {
      "cell_type": "code",
      "source": [
        "vgg16 = VGG16()\n",
        "vgg16.summary()"
      ],
      "metadata": {
        "id": "jixArf1n4LC3"
      },
      "execution_count": null,
      "outputs": []
    },
    {
      "cell_type": "code",
      "source": [
        "import numpy as np\n",
        "from PIL import Image\n",
        "from google.colab import files\n",
        "up = files.upload()"
      ],
      "metadata": {
        "id": "GorsUmMI5CAu"
      },
      "execution_count": null,
      "outputs": []
    },
    {
      "cell_type": "code",
      "source": [
        "import matplotlib.pyplot as plt\n",
        "\n",
        "img = Image.open('cat.jpg').resize((224,224))\n",
        "plt.imshow(img), plt.axis('off');"
      ],
      "metadata": {
        "id": "UypRd_g25ycH"
      },
      "execution_count": null,
      "outputs": []
    },
    {
      "cell_type": "markdown",
      "source": [
        "- 이미지 예측"
      ],
      "metadata": {
        "id": "m4NP4vdB631B"
      }
    },
    {
      "cell_type": "code",
      "source": [
        "yhat = vgg16.predict(np.array(img).reshape(-1,224,224,3))\n",
        "label = decode_predictions(yhat)\n",
        "yhat.shape, label"
      ],
      "metadata": {
        "id": "7LhbboHh6XUZ"
      },
      "execution_count": null,
      "outputs": []
    },
    {
      "cell_type": "code",
      "source": [
        "label[0][0][1], label[0][0][2]"
      ],
      "metadata": {
        "id": "v5mHx1W17vMq"
      },
      "execution_count": null,
      "outputs": []
    },
    {
      "cell_type": "markdown",
      "source": [
        "- 이미지를 224 x 224 사이즈로 자르기"
      ],
      "metadata": {
        "id": "7iRe-Ipv9Tcc"
      }
    },
    {
      "cell_type": "code",
      "source": [
        "IMAGE_SIZE = 224\n",
        "\n",
        "def center_image(img):\n",
        "    h, w, _ = np.array(img).shape\n",
        "    if h > w:\n",
        "        width, height = IMAGE_SIZE, (h * IMAGE_SIZE) // w\n",
        "    else:\n",
        "        width, height = (w * IMAGE_SIZE) // h, IMAGE_SIZE\n",
        "\n",
        "    new_img = np.array(img.resize((width,height)))\n",
        "\n",
        "    diff = abs(width - height)//2\n",
        "    if width > height:\n",
        "        final_img = new_img[:, diff:diff+IMAGE_SIZE, :]\n",
        "    else:\n",
        "        final_img = new_img[diff:diff+IMAGE_SIZE, :, :]\n",
        "\n",
        "    return final_img"
      ],
      "metadata": {
        "id": "63oPtAHa8rkE"
      },
      "execution_count": null,
      "outputs": []
    },
    {
      "cell_type": "code",
      "source": [
        "img = Image.open('cat.jpg')\n",
        "img2 = center_image(img)\n",
        "plt.imshow(img2);"
      ],
      "metadata": {
        "id": "WXsrQt1UE83S"
      },
      "execution_count": null,
      "outputs": []
    },
    {
      "cell_type": "code",
      "source": [
        "yhat = vgg16.predict(np.array(img2).reshape(-1,224,224,3))\n",
        "label = decode_predictions(yhat)\n",
        "label[0][0][1], label[0][0][2]"
      ],
      "metadata": {
        "id": "FQTivEPAFNcM"
      },
      "execution_count": null,
      "outputs": []
    },
    {
      "cell_type": "code",
      "source": [
        ""
      ],
      "metadata": {
        "id": "05VnjDRnFhIE"
      },
      "execution_count": null,
      "outputs": []
    }
  ]
}