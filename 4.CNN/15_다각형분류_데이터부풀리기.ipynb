{
  "nbformat": 4,
  "nbformat_minor": 0,
  "metadata": {
    "colab": {
      "name": "15_다각형분류_데이터부풀리기.ipynb",
      "provenance": [],
      "collapsed_sections": []
    },
    "kernelspec": {
      "name": "python3",
      "display_name": "Python 3"
    },
    "language_info": {
      "name": "python"
    }
  },
  "cells": [
    {
      "cell_type": "markdown",
      "source": [
        "# 원, 삼각형, 사각형 구분하기\n",
        "- 어려운 테스트 문제를 데이터 부풀리기를 이용하여 데이터를 많이 생성\n",
        "- 기존 CNN 모델 사용"
      ],
      "metadata": {
        "id": "srKUvcITiWnD"
      }
    },
    {
      "cell_type": "code",
      "execution_count": null,
      "metadata": {
        "id": "hNuhgUgOiMac"
      },
      "outputs": [],
      "source": [
        "from google.colab import files\n",
        "up = files.upload()"
      ]
    },
    {
      "cell_type": "code",
      "source": [
        "!unzip hard_handwriting_shape.zip > /dev/null"
      ],
      "metadata": {
        "id": "JhMThYRziggb"
      },
      "execution_count": null,
      "outputs": []
    },
    {
      "cell_type": "code",
      "source": [
        "from PIL import Image \n",
        "import glob\n",
        "import matplotlib.pyplot as plt\n",
        "\n",
        "shapes = ['circle','rectangle','triangle']\n",
        "for shape in shapes:\n",
        "    dir_name = f'hard_handwriting_shape/train/{shape}'\n",
        "    plt.figure(figsize=(12,1))\n",
        "    for i, fname in enumerate(glob.glob(f'{dir_name}/*.png')):\n",
        "        img = Image.open(fname)\n",
        "        plt.subplot(1,15,i+1), plt.imshow(img), plt.xticks([]), plt.yticks([])\n",
        "    plt.show()"
      ],
      "metadata": {
        "id": "K0QwPcB5lVQO"
      },
      "execution_count": null,
      "outputs": []
    },
    {
      "cell_type": "code",
      "source": [
        "for shape in shapes:\n",
        "    dir_name = f'hard_handwriting_shape/test/{shape}'\n",
        "    plt.figure(figsize=(4,1))\n",
        "    for i, fname in enumerate(glob.glob(f'{dir_name}/*.png')):\n",
        "        img = Image.open(fname)\n",
        "        plt.subplot(1,5,i+1), plt.imshow(img), plt.xticks([]), plt.yticks([])\n",
        "    plt.show()"
      ],
      "metadata": {
        "id": "Lqg5XqpRtt4p"
      },
      "execution_count": null,
      "outputs": []
    },
    {
      "cell_type": "markdown",
      "source": [
        "- 데이터셋 생성하기"
      ],
      "metadata": {
        "id": "OFZB4zn7jGA3"
      }
    },
    {
      "cell_type": "code",
      "source": [
        "from tensorflow.keras.preprocessing.image import ImageDataGenerator\n",
        "\n",
        "train_datagen = ImageDataGenerator(\n",
        "    rescale=1/255.,\n",
        "    rotation_range=15,\n",
        "    width_shift_range=0.1,\n",
        "    height_shift_range=0.1,\n",
        "    shear_range=0.5,\n",
        "    zoom_range=[0.8, 2.0],\n",
        "    horizontal_flip=True,\n",
        "    vertical_flip=True,\n",
        "    fill_mode='nearest'\n",
        ")"
      ],
      "metadata": {
        "id": "IW3fmE6Uxxxk"
      },
      "execution_count": null,
      "outputs": []
    },
    {
      "cell_type": "code",
      "source": [
        "from tensorflow.keras.preprocessing.image import img_to_array, load_img\n",
        "\n",
        "img = load_img('hard_handwriting_shape/train/triangle/triangle001.png')\n",
        "x = img_to_array(img)\n",
        "x = x.reshape((1,) + x.shape)\n",
        "x.shape"
      ],
      "metadata": {
        "id": "DdDoHjz8y1KQ"
      },
      "execution_count": null,
      "outputs": []
    },
    {
      "cell_type": "markdown",
      "source": [
        "- 데이터 부풀리기를 통하여 만들어지는 새로운 도형 이미지"
      ],
      "metadata": {
        "id": "MHpNW4qK0yOj"
      }
    },
    {
      "cell_type": "code",
      "source": [
        "import os\n",
        "if not os.path.exists('preview'):\n",
        "    os.mkdir('preview')"
      ],
      "metadata": {
        "id": "RsSWchMZ0wOd"
      },
      "execution_count": null,
      "outputs": []
    },
    {
      "cell_type": "code",
      "source": [
        "count = 0\n",
        "for _ in train_datagen.flow(x, batch_size=1, save_to_dir='preview', save_prefix='tri'):\n",
        "    count += 1\n",
        "    if count >= 30:\n",
        "        break"
      ],
      "metadata": {
        "id": "7_1UmqNA0DZs"
      },
      "execution_count": null,
      "outputs": []
    },
    {
      "cell_type": "code",
      "source": [
        "plt.figure(figsize=(10,3))\n",
        "for i, fname in enumerate(glob.glob('preview/*.png')):\n",
        "    img = Image.open(fname)\n",
        "    plt.subplot(3,10,i+1)\n",
        "    plt.imshow(img), plt.xticks([]), plt.yticks([])\n",
        "plt.show()"
      ],
      "metadata": {
        "id": "xrrUO6850DLt"
      },
      "execution_count": null,
      "outputs": []
    },
    {
      "cell_type": "code",
      "source": [
        "train_data_generator = train_datagen.flow_from_directory(\n",
        "    'hard_handwriting_shape/train',\n",
        "    target_size=(24,24),\n",
        "    batch_size=3,\n",
        "    class_mode='categorical'\n",
        ")"
      ],
      "metadata": {
        "id": "Ifg7ZxaBisr6"
      },
      "execution_count": null,
      "outputs": []
    },
    {
      "cell_type": "code",
      "source": [
        "test_datagen = ImageDataGenerator(rescale=1/255.)\n",
        "test_data_generator = test_datagen.flow_from_directory(\n",
        "    'hard_handwriting_shape/test',\n",
        "    target_size=(24,24),\n",
        "    batch_size=3,\n",
        "    class_mode='categorical'\n",
        ")"
      ],
      "metadata": {
        "id": "Wwsa4jaljzTo"
      },
      "execution_count": null,
      "outputs": []
    },
    {
      "cell_type": "markdown",
      "source": [
        "- 모델 정의/설정"
      ],
      "metadata": {
        "id": "E4iU6u3akfEC"
      }
    },
    {
      "cell_type": "code",
      "source": [
        "import numpy as np\n",
        "import tensorflow as tf\n",
        "seed = 2022\n",
        "np.random.seed(seed)\n",
        "tf.random.set_seed(seed)"
      ],
      "metadata": {
        "id": "fuNWtX_1kTUe"
      },
      "execution_count": null,
      "outputs": []
    },
    {
      "cell_type": "code",
      "source": [
        "from tensorflow.keras.models import Sequential\n",
        "from tensorflow.keras.layers import Conv2D, MaxPooling2D, Flatten, Dense"
      ],
      "metadata": {
        "id": "W3gj87_oktjK"
      },
      "execution_count": null,
      "outputs": []
    },
    {
      "cell_type": "code",
      "source": [
        "model = Sequential([ \n",
        "    Conv2D(32, (3,3), input_shape=(24,24,3), activation='relu'),\n",
        "    Conv2D(64, (3,3), activation='relu'),\n",
        "    MaxPooling2D(),\n",
        "    Flatten(),\n",
        "    Dense(128, activation='relu'),\n",
        "    Dense(3, activation='softmax')\n",
        "])\n",
        "model.summary()"
      ],
      "metadata": {
        "id": "llVKPLW6k76l"
      },
      "execution_count": null,
      "outputs": []
    },
    {
      "cell_type": "code",
      "source": [
        "model.compile(\n",
        "    optimizer='adam', loss='categorical_crossentropy', metrics=['accuracy']\n",
        ")"
      ],
      "metadata": {
        "id": "tnhd5IO5pgt1"
      },
      "execution_count": null,
      "outputs": []
    },
    {
      "cell_type": "markdown",
      "source": [
        "- 모델 학습"
      ],
      "metadata": {
        "id": "3JUcTtULqALt"
      }
    },
    {
      "cell_type": "code",
      "source": [
        "hist = model.fit(\n",
        "    train_data_generator,   # 훈련데이터셋을 제공할 제네레이터\n",
        "    steps_per_epoch=15,     \n",
        "    epochs=300, verbose=0,\n",
        "    validation_data=test_data_generator,    # 검증데이터셋을 제공할 제네레이터\n",
        "    validation_steps=5      # 한 epoch 종료 시 마다 검증할 때 사용되는 검증 스텝 수\n",
        ")"
      ],
      "metadata": {
        "id": "xanZODgkp-bR"
      },
      "execution_count": null,
      "outputs": []
    },
    {
      "cell_type": "markdown",
      "source": [
        "- 모델 평가"
      ],
      "metadata": {
        "id": "FFJXF7e-tb_3"
      }
    },
    {
      "cell_type": "code",
      "source": [
        "model.evaluate(test_data_generator, steps=5)"
      ],
      "metadata": {
        "id": "hhTcdh-8qzOK"
      },
      "execution_count": null,
      "outputs": []
    },
    {
      "cell_type": "markdown",
      "source": [
        "- 학습과정 시각화"
      ],
      "metadata": {
        "id": "QJFi3eLRClxi"
      }
    },
    {
      "cell_type": "code",
      "source": [
        "y_acc = hist.history['accuracy']\n",
        "y_vloss = hist.history['val_loss']\n",
        "xs = np.arange(1,len(y_acc)+1)"
      ],
      "metadata": {
        "id": "bOTPpIrpuXVx"
      },
      "execution_count": null,
      "outputs": []
    },
    {
      "cell_type": "code",
      "source": [
        "_, ax0 = plt.subplots(figsize=(12,8))\n",
        "ax1 = ax0.twinx()\n",
        "ax0.set_ylabel('accuracy')\n",
        "ax0.plot(xs, y_acc, c='magenta', label='train accuracy')\n",
        "ax1.set_ylabel('loss')\n",
        "ax1.plot(xs, y_vloss, label='validation loss')\n",
        "ax0.set_xlabel('Epoch')\n",
        "ax0.legend(loc='upper left'), ax1.legend(loc='lower right')\n",
        "plt.grid()\n",
        "plt.show()"
      ],
      "metadata": {
        "id": "zTzRV-vgC2Ty"
      },
      "execution_count": null,
      "outputs": []
    },
    {
      "cell_type": "code",
      "source": [
        ""
      ],
      "metadata": {
        "id": "wOuSFEZADO4z"
      },
      "execution_count": null,
      "outputs": []
    }
  ]
}