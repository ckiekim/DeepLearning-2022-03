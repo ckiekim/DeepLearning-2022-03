{
  "nbformat": 4,
  "nbformat_minor": 0,
  "metadata": {
    "colab": {
      "name": "15_다각형분류.ipynb",
      "provenance": [],
      "collapsed_sections": []
    },
    "kernelspec": {
      "name": "python3",
      "display_name": "Python 3"
    },
    "language_info": {
      "name": "python"
    }
  },
  "cells": [
    {
      "cell_type": "markdown",
      "source": [
        "# 원, 삼각형, 사각형 구분하기"
      ],
      "metadata": {
        "id": "srKUvcITiWnD"
      }
    },
    {
      "cell_type": "code",
      "execution_count": null,
      "metadata": {
        "id": "hNuhgUgOiMac"
      },
      "outputs": [],
      "source": [
        "from google.colab import files\n",
        "up = files.upload()"
      ]
    },
    {
      "cell_type": "code",
      "source": [
        "!unzip handwriting_shape.zip > /dev/null"
      ],
      "metadata": {
        "id": "JhMThYRziggb"
      },
      "execution_count": null,
      "outputs": []
    },
    {
      "cell_type": "code",
      "source": [
        "from PIL import Image \n",
        "import glob\n",
        "import matplotlib.pyplot as plt\n",
        "\n",
        "shapes = ['circle','rectangle','triangle']\n",
        "for shape in shapes:\n",
        "    dir_name = f'handwriting_shape/train/{shape}'\n",
        "    plt.figure(figsize=(12,1))\n",
        "    for i, fname in enumerate(glob.glob(f'{dir_name}/*.png')):\n",
        "        img = Image.open(fname)\n",
        "        plt.subplot(1,15,i+1), plt.imshow(img), plt.xticks([]), plt.yticks([])\n",
        "    plt.show()"
      ],
      "metadata": {
        "id": "K0QwPcB5lVQO"
      },
      "execution_count": null,
      "outputs": []
    },
    {
      "cell_type": "code",
      "source": [
        "for shape in shapes:\n",
        "    dir_name = f'handwriting_shape/test/{shape}'\n",
        "    plt.figure(figsize=(4,1))\n",
        "    for i, fname in enumerate(glob.glob(f'{dir_name}/*.png')):\n",
        "        img = Image.open(fname)\n",
        "        plt.subplot(1,5,i+1), plt.imshow(img), plt.xticks([]), plt.yticks([])\n",
        "    plt.show()"
      ],
      "metadata": {
        "id": "Lqg5XqpRtt4p"
      },
      "execution_count": null,
      "outputs": []
    },
    {
      "cell_type": "code",
      "source": [
        "# image 크기: width, height\n",
        "Image.open(fname).size"
      ],
      "metadata": {
        "id": "I1sorNgkoOFp"
      },
      "execution_count": null,
      "outputs": []
    },
    {
      "cell_type": "markdown",
      "source": [
        "- 데이터셋 생성하기"
      ],
      "metadata": {
        "id": "OFZB4zn7jGA3"
      }
    },
    {
      "cell_type": "code",
      "source": [
        "from tensorflow.keras.preprocessing.image import ImageDataGenerator\n",
        "\n",
        "train_datagen = ImageDataGenerator(rescale=1/255.)\n",
        "train_data_generator = train_datagen.flow_from_directory(\n",
        "    'handwriting_shape/train',\n",
        "    target_size=(24,24),\n",
        "    batch_size=3,\n",
        "    class_mode='categorical'\n",
        ")"
      ],
      "metadata": {
        "id": "Ifg7ZxaBisr6"
      },
      "execution_count": null,
      "outputs": []
    },
    {
      "cell_type": "code",
      "source": [
        "test_datagen = ImageDataGenerator(rescale=1/255.)\n",
        "test_data_generator = test_datagen.flow_from_directory(\n",
        "    'handwriting_shape/test',\n",
        "    target_size=(24,24),\n",
        "    batch_size=3,\n",
        "    class_mode='categorical'\n",
        ")"
      ],
      "metadata": {
        "id": "Wwsa4jaljzTo"
      },
      "execution_count": null,
      "outputs": []
    },
    {
      "cell_type": "code",
      "source": [
        "train_data_generator.labels"
      ],
      "metadata": {
        "id": "dTIjG3xRj8dS"
      },
      "execution_count": null,
      "outputs": []
    },
    {
      "cell_type": "code",
      "source": [
        "train_data_generator.filenames[0]"
      ],
      "metadata": {
        "id": "3K1fBPSPkIMC"
      },
      "execution_count": null,
      "outputs": []
    },
    {
      "cell_type": "markdown",
      "source": [
        "- 모델 정의/설정"
      ],
      "metadata": {
        "id": "E4iU6u3akfEC"
      }
    },
    {
      "cell_type": "code",
      "source": [
        "import numpy as np\n",
        "import tensorflow as tf\n",
        "seed = 2022\n",
        "np.random.seed(seed)\n",
        "tf.random.set_seed(seed)"
      ],
      "metadata": {
        "id": "fuNWtX_1kTUe"
      },
      "execution_count": null,
      "outputs": []
    },
    {
      "cell_type": "code",
      "source": [
        "from tensorflow.keras.models import Sequential\n",
        "from tensorflow.keras.layers import Conv2D, MaxPooling2D, Flatten, Dense"
      ],
      "metadata": {
        "id": "W3gj87_oktjK"
      },
      "execution_count": null,
      "outputs": []
    },
    {
      "cell_type": "code",
      "source": [
        "model = Sequential([ \n",
        "    Conv2D(32, (3,3), input_shape=(24,24,3), activation='relu'),\n",
        "    Conv2D(64, (3,3), activation='relu'),\n",
        "    MaxPooling2D(),\n",
        "    Flatten(),\n",
        "    Dense(128, activation='relu'),\n",
        "    Dense(3, activation='softmax')\n",
        "])\n",
        "model.summary()"
      ],
      "metadata": {
        "id": "llVKPLW6k76l"
      },
      "execution_count": null,
      "outputs": []
    },
    {
      "cell_type": "code",
      "source": [
        "model.compile(\n",
        "    optimizer='adam', loss='categorical_crossentropy', metrics=['accuracy']\n",
        ")"
      ],
      "metadata": {
        "id": "tnhd5IO5pgt1"
      },
      "execution_count": null,
      "outputs": []
    },
    {
      "cell_type": "markdown",
      "source": [
        "- 모델 학습"
      ],
      "metadata": {
        "id": "3JUcTtULqALt"
      }
    },
    {
      "cell_type": "code",
      "source": [
        "model.fit(\n",
        "    train_data_generator,   # 훈련데이터셋을 제공할 제네레이터\n",
        "    steps_per_epoch=15,     # 한 epoch에 사용한 스텝 수. 총 45개의 훈련 샘플이 있고 배치사이즈가 3이므로 15 스텝으로 지정.\n",
        "    epochs=50,\n",
        "    validation_data=test_data_generator,    # 검증데이터셋을 제공할 제네레이터\n",
        "    validation_steps=5      # 한 epoch 종료 시 마다 검증할 때 사용되는 검증 스텝 수\n",
        ")"
      ],
      "metadata": {
        "id": "xanZODgkp-bR"
      },
      "execution_count": null,
      "outputs": []
    },
    {
      "cell_type": "markdown",
      "source": [
        "- 모델 평가"
      ],
      "metadata": {
        "id": "FFJXF7e-tb_3"
      }
    },
    {
      "cell_type": "code",
      "source": [
        "model.evaluate(test_data_generator, steps=5)"
      ],
      "metadata": {
        "id": "hhTcdh-8qzOK"
      },
      "execution_count": null,
      "outputs": []
    },
    {
      "cell_type": "code",
      "source": [
        ""
      ],
      "metadata": {
        "id": "SIsYw1m_tihz"
      },
      "execution_count": null,
      "outputs": []
    }
  ]
}