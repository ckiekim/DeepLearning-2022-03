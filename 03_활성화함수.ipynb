{
  "nbformat": 4,
  "nbformat_minor": 0,
  "metadata": {
    "colab": {
      "name": "03_활성화함수.ipynb",
      "provenance": [],
      "collapsed_sections": []
    },
    "kernelspec": {
      "name": "python3",
      "display_name": "Python 3"
    },
    "language_info": {
      "name": "python"
    }
  },
  "cells": [
    {
      "cell_type": "markdown",
      "source": [
        "# Unit 3. 활성화 함수(Activation function)"
      ],
      "metadata": {
        "id": "Mp-GKwtc5g2K"
      }
    },
    {
      "cell_type": "code",
      "execution_count": null,
      "metadata": {
        "id": "k-hFmLai5Z3K"
      },
      "outputs": [],
      "source": [
        "import numpy as np\n",
        "import matplotlib.pyplot as plt"
      ]
    },
    {
      "cell_type": "markdown",
      "source": [
        "- heaviside function"
      ],
      "metadata": {
        "id": "QEa2jBo055Qx"
      }
    },
    {
      "cell_type": "code",
      "source": [
        "def heaviside(x):\n",
        "    y = np.zeros(x.size)\n",
        "    y[x > 0] = 1          # x <= 0 이면 0, x > 0 이면 1\n",
        "    return y"
      ],
      "metadata": {
        "id": "oHugBFY650mz"
      },
      "execution_count": null,
      "outputs": []
    },
    {
      "cell_type": "code",
      "source": [
        "xs = np.linspace(-5,5,501)\n",
        "ys = heaviside(xs)\n",
        "plt.plot(xs, ys)\n",
        "plt.grid()\n",
        "plt.show()"
      ],
      "metadata": {
        "id": "AF76XNid6HZX"
      },
      "execution_count": null,
      "outputs": []
    },
    {
      "cell_type": "code",
      "source": [
        "def step(x):\n",
        "    return np.array(x > 0, dtype=np.int)"
      ],
      "metadata": {
        "id": "Yoi0t4W289CL"
      },
      "execution_count": null,
      "outputs": []
    },
    {
      "cell_type": "code",
      "source": [
        "ys = step(xs)\n",
        "plt.plot(xs, ys)\n",
        "plt.title('step function')\n",
        "plt.grid()\n",
        "plt.show()"
      ],
      "metadata": {
        "id": "qHK77lz4CZEM"
      },
      "execution_count": null,
      "outputs": []
    },
    {
      "cell_type": "markdown",
      "source": [
        "- sigmoid function"
      ],
      "metadata": {
        "id": "WEkn_I608tTd"
      }
    },
    {
      "cell_type": "code",
      "source": [
        "def sigmoid(x):\n",
        "    return 1 / (1 + np.exp(-x))"
      ],
      "metadata": {
        "id": "gYPYiuDn7x-A"
      },
      "execution_count": null,
      "outputs": []
    },
    {
      "cell_type": "code",
      "source": [
        "ys = sigmoid(xs)\n",
        "plt.plot(xs, ys)\n",
        "plt.title('sigmoid function')\n",
        "plt.grid()\n",
        "plt.show()"
      ],
      "metadata": {
        "id": "8Hj075oQ86Ws"
      },
      "execution_count": null,
      "outputs": []
    },
    {
      "cell_type": "markdown",
      "source": [
        "- hyperbolic tangent function"
      ],
      "metadata": {
        "id": "hH0FRp-2AJIg"
      }
    },
    {
      "cell_type": "code",
      "source": [
        "ys = np.tanh(xs)\n",
        "plt.plot(xs, ys)\n",
        "plt.title('hyperbolic tangent function')\n",
        "plt.grid()\n",
        "plt.show()"
      ],
      "metadata": {
        "id": "xz1Z6AV69XhK"
      },
      "execution_count": null,
      "outputs": []
    },
    {
      "cell_type": "markdown",
      "source": [
        "- relu function"
      ],
      "metadata": {
        "id": "YKwZQw-jAbb2"
      }
    },
    {
      "cell_type": "code",
      "source": [
        "def relu(x):\n",
        "    return np.maximum(0, x)"
      ],
      "metadata": {
        "id": "6v8drzU0ASV4"
      },
      "execution_count": null,
      "outputs": []
    },
    {
      "cell_type": "code",
      "source": [
        "ys = relu(xs)\n",
        "plt.plot(xs, ys)\n",
        "plt.title('relu function')\n",
        "plt.grid()\n",
        "plt.show()"
      ],
      "metadata": {
        "id": "ew0Hq_q7Akoy"
      },
      "execution_count": null,
      "outputs": []
    },
    {
      "cell_type": "markdown",
      "source": [
        "- leaky relu function"
      ],
      "metadata": {
        "id": "fTV3bsM2BSMR"
      }
    },
    {
      "cell_type": "code",
      "source": [
        "def leaky_relu(x):\n",
        "    return np.maximum(0.01*x, x)"
      ],
      "metadata": {
        "id": "pXYexyhOAnnv"
      },
      "execution_count": null,
      "outputs": []
    },
    {
      "cell_type": "code",
      "source": [
        "ys = leaky_relu(xs)\n",
        "plt.plot(xs, ys)\n",
        "plt.title('leaky relu function')\n",
        "plt.grid()\n",
        "plt.show()"
      ],
      "metadata": {
        "id": "R8rf74tLCIMR"
      },
      "execution_count": null,
      "outputs": []
    },
    {
      "cell_type": "markdown",
      "source": [
        "- softplus function"
      ],
      "metadata": {
        "id": "ItogU9AtFH-4"
      }
    },
    {
      "cell_type": "code",
      "source": [
        "def softplus(x):\n",
        "    return np.log(1 + np.exp(x))"
      ],
      "metadata": {
        "id": "e_-3rA-wC4s-"
      },
      "execution_count": null,
      "outputs": []
    },
    {
      "cell_type": "code",
      "source": [
        "ys = softplus(xs)\n",
        "plt.plot(xs, ys)\n",
        "plt.title('softplus function')\n",
        "plt.grid()\n",
        "plt.show()"
      ],
      "metadata": {
        "id": "3_8BvV8cFSm9"
      },
      "execution_count": null,
      "outputs": []
    },
    {
      "cell_type": "markdown",
      "source": [
        "- 종합"
      ],
      "metadata": {
        "id": "-lftav8IFfhX"
      }
    },
    {
      "cell_type": "code",
      "source": [
        "plt.figure(figsize=(15,7))\n",
        "plt.subplot(231)\n",
        "plt.plot(xs, step(xs)), plt.title('step function'), plt.grid()\n",
        "plt.subplot(232)\n",
        "plt.plot(xs, sigmoid(xs)), plt.title('sigmoid function'), plt.grid()\n",
        "plt.subplot(233)\n",
        "plt.plot(xs, np.tanh(xs)), plt.title('hyperbolic tangent function'), plt.grid()\n",
        "plt.subplot(234)\n",
        "plt.plot(xs, relu(xs)), plt.title('relu function'), plt.grid()\n",
        "plt.subplot(235)\n",
        "plt.plot(xs, leaky_relu(xs)), plt.title('leaky relu function'), plt.grid()\n",
        "plt.subplot(236)\n",
        "plt.plot(xs, softplus(xs)), plt.title('softplus function'), plt.grid()\n",
        "plt.show()"
      ],
      "metadata": {
        "id": "PCX-7j7cFXoX"
      },
      "execution_count": null,
      "outputs": []
    },
    {
      "cell_type": "code",
      "source": [
        ""
      ],
      "metadata": {
        "id": "oE5DwVYtGZ_I"
      },
      "execution_count": null,
      "outputs": []
    }
  ]
}