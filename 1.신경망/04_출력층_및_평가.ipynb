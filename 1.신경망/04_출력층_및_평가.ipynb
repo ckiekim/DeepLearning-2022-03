{
  "nbformat": 4,
  "nbformat_minor": 0,
  "metadata": {
    "colab": {
      "name": "04_출력층_및_평가.ipynb",
      "provenance": [],
      "collapsed_sections": []
    },
    "kernelspec": {
      "name": "python3",
      "display_name": "Python 3"
    },
    "language_info": {
      "name": "python"
    }
  },
  "cells": [
    {
      "cell_type": "markdown",
      "source": [
        "# Unit 4. 출력층 설계와 신경망 평가"
      ],
      "metadata": {
        "id": "jv70qsXX6kUP"
      }
    },
    {
      "cell_type": "code",
      "execution_count": null,
      "metadata": {
        "id": "fTuJ7cxe6dk8"
      },
      "outputs": [],
      "source": [
        "import numpy as np\n",
        "import seaborn as sns"
      ]
    },
    {
      "cell_type": "code",
      "source": [
        "iris = sns.load_dataset('iris')\n",
        "iris.head()"
      ],
      "metadata": {
        "id": "un_x1QIB6zPi"
      },
      "execution_count": null,
      "outputs": []
    },
    {
      "cell_type": "markdown",
      "source": [
        "- Label Encoding"
      ],
      "metadata": {
        "id": "XxYbh1Wx8MuD"
      }
    },
    {
      "cell_type": "code",
      "source": [
        "from sklearn.preprocessing import LabelEncoder\n",
        "le = LabelEncoder()\n",
        "le.fit(iris.species)\n",
        "target = le.transform(iris.species)\n",
        "target"
      ],
      "metadata": {
        "id": "1F6qbPj667IR"
      },
      "execution_count": null,
      "outputs": []
    },
    {
      "cell_type": "code",
      "source": [
        "iris['target'] = le.fit_transform(iris.species)\n",
        "iris.head()"
      ],
      "metadata": {
        "id": "cuTotY6v72ZU"
      },
      "execution_count": null,
      "outputs": []
    },
    {
      "cell_type": "markdown",
      "source": [
        "- One-hot encoding"
      ],
      "metadata": {
        "id": "pqWaIbwB8QXd"
      }
    },
    {
      "cell_type": "code",
      "source": [
        "from tensorflow.keras.utils import to_categorical\n",
        "\n",
        "Y_encoded = to_categorical(iris.target)\n",
        "Y_encoded[:5]"
      ],
      "metadata": {
        "id": "c9EmgMsB8GAC"
      },
      "execution_count": null,
      "outputs": []
    },
    {
      "cell_type": "code",
      "source": [
        "Y_encoded[-5:]"
      ],
      "metadata": {
        "id": "VzuIsZQy85fj"
      },
      "execution_count": null,
      "outputs": []
    },
    {
      "cell_type": "markdown",
      "source": [
        "- 신경망 평가"
      ],
      "metadata": {
        "id": "pcArZY4E9RNC"
      }
    },
    {
      "cell_type": "code",
      "source": [
        "from sklearn.datasets import load_digits\n",
        "\n",
        "mnist = load_digits()"
      ],
      "metadata": {
        "id": "g0tWeD1z88eD"
      },
      "execution_count": null,
      "outputs": []
    },
    {
      "cell_type": "code",
      "source": [
        "mnist.target[:10]"
      ],
      "metadata": {
        "id": "bUktguva96Rc"
      },
      "execution_count": null,
      "outputs": []
    },
    {
      "cell_type": "code",
      "source": [
        "# Is it seven?\n",
        "target = np.array(mnist.target == 7, dtype=np.int32)\n",
        "target[:10]"
      ],
      "metadata": {
        "id": "p5Nw0U84998b"
      },
      "execution_count": null,
      "outputs": []
    },
    {
      "cell_type": "code",
      "source": [
        "prediction = np.zeros_like(target)\n",
        "prediction[:10]"
      ],
      "metadata": {
        "id": "XURFk0Pi_CVV"
      },
      "execution_count": null,
      "outputs": []
    },
    {
      "cell_type": "code",
      "source": [
        "from sklearn.metrics import accuracy_score, confusion_matrix\n",
        "from sklearn.model_selection import train_test_split"
      ],
      "metadata": {
        "id": "03Vp38gE_sUj"
      },
      "execution_count": null,
      "outputs": []
    },
    {
      "cell_type": "code",
      "source": [
        "X_train, X_test, y_train, y_test = train_test_split(\n",
        "    mnist.data, target, stratify=target, random_state=2022\n",
        ")\n",
        "X_train.shape, X_test.shape, y_train.shape, y_test.shape"
      ],
      "metadata": {
        "id": "TaRNt9zfAKEh"
      },
      "execution_count": null,
      "outputs": []
    },
    {
      "cell_type": "code",
      "source": [
        "pred = np.zeros_like(y_test)\n",
        "confusion_matrix(y_test, pred)"
      ],
      "metadata": {
        "id": "bw_9sQQyAykO"
      },
      "execution_count": null,
      "outputs": []
    },
    {
      "cell_type": "code",
      "source": [
        ""
      ],
      "metadata": {
        "id": "-mqquEmyA-2E"
      },
      "execution_count": null,
      "outputs": []
    }
  ]
}