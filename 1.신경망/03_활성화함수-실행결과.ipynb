{
  "nbformat": 4,
  "nbformat_minor": 0,
  "metadata": {
    "colab": {
      "name": "03_활성화함수.ipynb",
      "provenance": [],
      "collapsed_sections": []
    },
    "kernelspec": {
      "name": "python3",
      "display_name": "Python 3"
    },
    "language_info": {
      "name": "python"
    }
  },
  "cells": [
    {
      "cell_type": "markdown",
      "source": [
        "# Unit 3. 활성화 함수(Activation function)"
      ],
      "metadata": {
        "id": "Mp-GKwtc5g2K"
      }
    },
    {
      "cell_type": "code",
      "execution_count": 1,
      "metadata": {
        "id": "k-hFmLai5Z3K"
      },
      "outputs": [],
      "source": [
        "import numpy as np\n",
        "import matplotlib.pyplot as plt"
      ]
    },
    {
      "cell_type": "markdown",
      "source": [
        "- heaviside function"
      ],
      "metadata": {
        "id": "QEa2jBo055Qx"
      }
    },
    {
      "cell_type": "code",
      "source": [
        "def heaviside(x):\n",
        "    y = np.zeros(x.size)\n",
        "    y[x > 0] = 1          # x <= 0 이면 0, x > 0 이면 1\n",
        "    return y"
      ],
      "metadata": {
        "id": "oHugBFY650mz"
      },
      "execution_count": 2,
      "outputs": []
    },
    {
      "cell_type": "code",
      "source": [
        "xs = np.linspace(-5,5,501)\n",
        "ys = heaviside(xs)\n",
        "plt.plot(xs, ys)\n",
        "plt.grid()\n",
        "plt.show()"
      ],
      "metadata": {
        "id": "AF76XNid6HZX",
        "colab": {
          "base_uri": "https://localhost:8080/",
          "height": 265
        },
        "outputId": "e63cc70e-efd1-456b-9c3d-4ab70643857d"
      },
      "execution_count": 3,
      "outputs": [
        {
          "output_type": "display_data",
          "data": {
            "text/plain": [
              "<Figure size 432x288 with 1 Axes>"
            ],
            "image/png": "[encoded data removed]"
          },
          "metadata": {
            "needs_background": "light"
          }
        }
      ]
    },
    {
      "cell_type": "code",
      "source": [
        "xs[:5]"
      ],
      "metadata": {
        "colab": {
          "base_uri": "https://localhost:8080/"
        },
        "id": "ALqp0XauJtH3",
        "outputId": "4127f840-9350-405a-b173-ff815080ee60"
      },
      "execution_count": 4,
      "outputs": [
        {
          "output_type": "execute_result",
          "data": {
            "text/plain": [
              "array([-5.  , -4.98, -4.96, -4.94, -4.92])"
            ]
          },
          "metadata": {},
          "execution_count": 4
        }
      ]
    },
    {
      "cell_type": "code",
      "source": [
        "np.array(xs > 0)[-5:]"
      ],
      "metadata": {
        "colab": {
          "base_uri": "https://localhost:8080/"
        },
        "id": "_hLS2nQQKOPA",
        "outputId": "49c7c106-2259-4f5f-d17b-b30c3ba4ffb8"
      },
      "execution_count": 7,
      "outputs": [
        {
          "output_type": "execute_result",
          "data": {
            "text/plain": [
              "array([ True,  True,  True,  True,  True])"
            ]
          },
          "metadata": {},
          "execution_count": 7
        }
      ]
    },
    {
      "cell_type": "code",
      "source": [
        "def step(x):\n",
        "    return np.array(x > 0, dtype=np.int32)"
      ],
      "metadata": {
        "id": "Yoi0t4W289CL"
      },
      "execution_count": 10,
      "outputs": []
    },
    {
      "cell_type": "code",
      "source": [
        "ys = step(xs)\n",
        "plt.plot(xs, ys)\n",
        "plt.title('step function')\n",
        "plt.grid()\n",
        "plt.show()"
      ],
      "metadata": {
        "id": "qHK77lz4CZEM",
        "colab": {
          "base_uri": "https://localhost:8080/",
          "height": 281
        },
        "outputId": "cce611a6-c0c7-42b1-dbc8-6f61e6973ca6"
      },
      "execution_count": 11,
      "outputs": [
        {
          "output_type": "display_data",
          "data": {
            "text/plain": [
              "<Figure size 432x288 with 1 Axes>"
            ],
            "image/png": "[encoded data removed]"
          },
          "metadata": {
            "needs_background": "light"
          }
        }
      ]
    },
    {
      "cell_type": "markdown",
      "source": [
        "- sigmoid function"
      ],
      "metadata": {
        "id": "WEkn_I608tTd"
      }
    },
    {
      "cell_type": "code",
      "source": [
        "def sigmoid(x):\n",
        "    return 1 / (1 + np.exp(-x))"
      ],
      "metadata": {
        "id": "gYPYiuDn7x-A"
      },
      "execution_count": 12,
      "outputs": []
    },
    {
      "cell_type": "code",
      "source": [
        "sigmoid(np.array([-10,-5,0,5,10]))"
      ],
      "metadata": {
        "colab": {
          "base_uri": "https://localhost:8080/"
        },
        "id": "XbRM9mnEK-lL",
        "outputId": "7d010f85-1c68-45a2-a60f-ce9d4c5fe264"
      },
      "execution_count": 13,
      "outputs": [
        {
          "output_type": "execute_result",
          "data": {
            "text/plain": [
              "array([4.53978687e-05, 6.69285092e-03, 5.00000000e-01, 9.93307149e-01,\n",
              "       9.99954602e-01])"
            ]
          },
          "metadata": {},
          "execution_count": 13
        }
      ]
    },
    {
      "cell_type": "code",
      "source": [
        "ys = sigmoid(xs)\n",
        "plt.plot(xs, ys)\n",
        "plt.title('sigmoid function')\n",
        "plt.grid()\n",
        "plt.show()"
      ],
      "metadata": {
        "id": "8Hj075oQ86Ws",
        "colab": {
          "base_uri": "https://localhost:8080/",
          "height": 281
        },
        "outputId": "1d59e7e0-8d93-4bec-8f32-fd9245000dc3"
      },
      "execution_count": 14,
      "outputs": [
        {
          "output_type": "display_data",
          "data": {
            "text/plain": [
              "<Figure size 432x288 with 1 Axes>"
            ],
            "image/png": "[encoded data removed]"
          },
          "metadata": {
            "needs_background": "light"
          }
        }
      ]
    },
    {
      "cell_type": "markdown",
      "source": [
        "- hyperbolic tangent function"
      ],
      "metadata": {
        "id": "hH0FRp-2AJIg"
      }
    },
    {
      "cell_type": "code",
      "source": [
        "ys = np.tanh(xs)\n",
        "plt.plot(xs, ys)\n",
        "plt.title('hyperbolic tangent function')\n",
        "plt.grid()\n",
        "plt.show()"
      ],
      "metadata": {
        "id": "xz1Z6AV69XhK",
        "colab": {
          "base_uri": "https://localhost:8080/",
          "height": 281
        },
        "outputId": "f8bc57dc-4507-43a6-c034-beb4a6dacd9e"
      },
      "execution_count": 15,
      "outputs": [
        {
          "output_type": "display_data",
          "data": {
            "text/plain": [
              "<Figure size 432x288 with 1 Axes>"
            ],
            "image/png": "[encoded data removed]"
          },
          "metadata": {
            "needs_background": "light"
          }
        }
      ]
    },
    {
      "cell_type": "markdown",
      "source": [
        "- relu function"
      ],
      "metadata": {
        "id": "YKwZQw-jAbb2"
      }
    },
    {
      "cell_type": "code",
      "source": [
        "def relu(x):\n",
        "    return np.maximum(0, x)"
      ],
      "metadata": {
        "id": "6v8drzU0ASV4"
      },
      "execution_count": 16,
      "outputs": []
    },
    {
      "cell_type": "code",
      "source": [
        "relu(np.array([-10,-5,0,5,10]))"
      ],
      "metadata": {
        "colab": {
          "base_uri": "https://localhost:8080/"
        },
        "id": "6jKNPHi7Lrdw",
        "outputId": "0ca32f38-d0e9-444a-d85e-04463c02868e"
      },
      "execution_count": 17,
      "outputs": [
        {
          "output_type": "execute_result",
          "data": {
            "text/plain": [
              "array([ 0,  0,  0,  5, 10])"
            ]
          },
          "metadata": {},
          "execution_count": 17
        }
      ]
    },
    {
      "cell_type": "code",
      "source": [
        "ys = relu(xs)\n",
        "plt.plot(xs, ys)\n",
        "plt.title('relu function')\n",
        "plt.grid()\n",
        "plt.show()"
      ],
      "metadata": {
        "id": "ew0Hq_q7Akoy",
        "colab": {
          "base_uri": "https://localhost:8080/",
          "height": 281
        },
        "outputId": "31a0d380-4b01-45bd-e31e-780cfd740a22"
      },
      "execution_count": 18,
      "outputs": [
        {
          "output_type": "display_data",
          "data": {
            "text/plain": [
              "<Figure size 432x288 with 1 Axes>"
            ],
            "image/png": "[encoded data removed]"
          },
          "metadata": {
            "needs_background": "light"
          }
        }
      ]
    },
    {
      "cell_type": "markdown",
      "source": [
        "- leaky relu function"
      ],
      "metadata": {
        "id": "fTV3bsM2BSMR"
      }
    },
    {
      "cell_type": "code",
      "source": [
        "def leaky_relu(x):\n",
        "    return np.maximum(0.01*x, x)"
      ],
      "metadata": {
        "id": "pXYexyhOAnnv"
      },
      "execution_count": 19,
      "outputs": []
    },
    {
      "cell_type": "code",
      "source": [
        "ys = leaky_relu(xs)\n",
        "plt.plot(xs, ys)\n",
        "plt.title('leaky relu function')\n",
        "plt.grid()\n",
        "plt.show()"
      ],
      "metadata": {
        "id": "R8rf74tLCIMR",
        "colab": {
          "base_uri": "https://localhost:8080/",
          "height": 281
        },
        "outputId": "2f3604fc-9629-443a-f7d2-0a8f61f3d176"
      },
      "execution_count": 20,
      "outputs": [
        {
          "output_type": "display_data",
          "data": {
            "text/plain": [
              "<Figure size 432x288 with 1 Axes>"
            ],
            "image/png": "[encoded data removed]"
          },
          "metadata": {
            "needs_background": "light"
          }
        }
      ]
    },
    {
      "cell_type": "markdown",
      "source": [
        "- softplus function"
      ],
      "metadata": {
        "id": "ItogU9AtFH-4"
      }
    },
    {
      "cell_type": "code",
      "source": [
        "def softplus(x):\n",
        "    return np.log(1 + np.exp(x))"
      ],
      "metadata": {
        "id": "e_-3rA-wC4s-"
      },
      "execution_count": 21,
      "outputs": []
    },
    {
      "cell_type": "code",
      "source": [
        "ys = softplus(xs)\n",
        "plt.plot(xs, ys)\n",
        "plt.title('softplus function')\n",
        "plt.grid()\n",
        "plt.show()"
      ],
      "metadata": {
        "id": "3_8BvV8cFSm9",
        "colab": {
          "base_uri": "https://localhost:8080/",
          "height": 281
        },
        "outputId": "7d17906d-2dfe-4f13-8f2e-7fd79401c2b8"
      },
      "execution_count": 22,
      "outputs": [
        {
          "output_type": "display_data",
          "data": {
            "text/plain": [
              "<Figure size 432x288 with 1 Axes>"
            ],
            "image/png": "[encoded data removed]"
          },
          "metadata": {
            "needs_background": "light"
          }
        }
      ]
    },
    {
      "cell_type": "markdown",
      "source": [
        "- 종합"
      ],
      "metadata": {
        "id": "-lftav8IFfhX"
      }
    },
    {
      "cell_type": "code",
      "source": [
        "plt.figure(figsize=(15,7))\n",
        "plt.subplot(231)\n",
        "plt.plot(xs, step(xs)), plt.title('step function'), plt.grid()\n",
        "plt.subplot(232)\n",
        "plt.plot(xs, sigmoid(xs)), plt.title('sigmoid function'), plt.grid()\n",
        "plt.subplot(233)\n",
        "plt.plot(xs, np.tanh(xs)), plt.title('hyperbolic tangent function'), plt.grid()\n",
        "plt.subplot(234)\n",
        "plt.plot(xs, relu(xs)), plt.title('relu function'), plt.grid()\n",
        "plt.subplot(235)\n",
        "plt.plot(xs, leaky_relu(xs)), plt.title('leaky relu function'), plt.grid()\n",
        "plt.subplot(236)\n",
        "plt.plot(xs, softplus(xs)), plt.title('softplus function'), plt.grid()\n",
        "plt.show()"
      ],
      "metadata": {
        "id": "PCX-7j7cFXoX",
        "colab": {
          "base_uri": "https://localhost:8080/",
          "height": 444
        },
        "outputId": "d73e4d13-5aaa-4c80-d4fd-2b272b846c93"
      },
      "execution_count": 23,
      "outputs": [
        {
          "output_type": "display_data",
          "data": {
            "text/plain": [
              "<Figure size 1080x504 with 6 Axes>"
            ],
            "image/png": "[encoded data removed]"
          },
          "metadata": {
            "needs_background": "light"
          }
        }
      ]
    },
    {
      "cell_type": "markdown",
      "source": [
        "- softmax"
      ],
      "metadata": {
        "id": "9jlPLrHaoNdf"
      }
    },
    {
      "cell_type": "code",
      "source": [
        "def softmax(x):\n",
        "    if x.ndim == 2:\n",
        "        x = x.T\n",
        "        x = x - np.max(x, axis=0)\n",
        "        y = np.exp(x) / np.sum(np.exp(x), axis=0)\n",
        "        return y.T\n",
        "\n",
        "    x = x - np.max(x)   # overflow 방지\n",
        "    return np.exp(x) / np.sum(np.exp(x))"
      ],
      "metadata": {
        "id": "oE5DwVYtGZ_I"
      },
      "execution_count": 24,
      "outputs": []
    },
    {
      "cell_type": "code",
      "source": [
        "yhat = np.array([-1, 2.1, 3, 5])\n",
        "softmax(yhat)"
      ],
      "metadata": {
        "id": "VdkTOIREo2pH",
        "colab": {
          "base_uri": "https://localhost:8080/"
        },
        "outputId": "1680e784-097d-4022-9e52-c2536992d8bc"
      },
      "execution_count": 25,
      "outputs": [
        {
          "output_type": "execute_result",
          "data": {
            "text/plain": [
              "array([0.00207803, 0.04612802, 0.11345662, 0.83833733])"
            ]
          },
          "metadata": {},
          "execution_count": 25
        }
      ]
    },
    {
      "cell_type": "code",
      "source": [
        "np.sum(softmax(yhat))"
      ],
      "metadata": {
        "id": "aaVCj-7spMv5",
        "colab": {
          "base_uri": "https://localhost:8080/"
        },
        "outputId": "27b1f0ce-5012-44fc-b2a5-eb2f8c600539"
      },
      "execution_count": 26,
      "outputs": [
        {
          "output_type": "execute_result",
          "data": {
            "text/plain": [
              "1.0"
            ]
          },
          "metadata": {},
          "execution_count": 26
        }
      ]
    },
    {
      "cell_type": "code",
      "source": [
        "np.random.seed = 2022\n",
        "yhat = np.random.normal(size=(3,4))\n",
        "yhat"
      ],
      "metadata": {
        "id": "9CWrnyZIqB1z",
        "colab": {
          "base_uri": "https://localhost:8080/"
        },
        "outputId": "671d3148-5bda-4129-8606-af0ae38b6cd0"
      },
      "execution_count": 27,
      "outputs": [
        {
          "output_type": "execute_result",
          "data": {
            "text/plain": [
              "array([[ 1.01223221, -0.48562551, -0.66804044,  0.40145815],\n",
              "       [ 1.87006609, -0.24157015,  0.40845143, -1.38217913],\n",
              "       [ 1.83935813, -0.57022492, -1.18926154,  0.64694474]])"
            ]
          },
          "metadata": {},
          "execution_count": 27
        }
      ]
    },
    {
      "cell_type": "code",
      "source": [
        "softmax(yhat)"
      ],
      "metadata": {
        "id": "v0OUxgG5pkp_",
        "colab": {
          "base_uri": "https://localhost:8080/"
        },
        "outputId": "29b075be-35fb-456e-da35-03ba88a69f6d"
      },
      "execution_count": 28,
      "outputs": [
        {
          "output_type": "execute_result",
          "data": {
            "text/plain": [
              "array([[0.51206888, 0.11450305, 0.0954103 , 0.27801778],\n",
              "       [0.71860319, 0.08697955, 0.16661648, 0.02780078],\n",
              "       [0.69361448, 0.06232317, 0.03355872, 0.21050363]])"
            ]
          },
          "metadata": {},
          "execution_count": 28
        }
      ]
    },
    {
      "cell_type": "code",
      "source": [
        ""
      ],
      "metadata": {
        "id": "5TWCgKAmqrm4"
      },
      "execution_count": null,
      "outputs": []
    }
  ]
}