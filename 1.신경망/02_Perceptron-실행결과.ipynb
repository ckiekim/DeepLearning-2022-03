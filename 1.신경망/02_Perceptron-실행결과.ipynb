{
  "nbformat": 4,
  "nbformat_minor": 0,
  "metadata": {
    "colab": {
      "name": "02_Perceptron.ipynb",
      "provenance": [],
      "collapsed_sections": []
    },
    "kernelspec": {
      "name": "python3",
      "display_name": "Python 3"
    },
    "language_info": {
      "name": "python"
    }
  },
  "cells": [
    {
      "cell_type": "markdown",
      "source": [
        "# Unit 2. Perceptron"
      ],
      "metadata": {
        "id": "HUilmBsjUixB"
      }
    },
    {
      "cell_type": "code",
      "execution_count": null,
      "metadata": {
        "id": "QmXmNrpgUaWQ"
      },
      "outputs": [],
      "source": [
        "import numpy as np"
      ]
    },
    {
      "cell_type": "markdown",
      "source": [
        "- AND gate"
      ],
      "metadata": {
        "id": "VB4vOywfVReO"
      }
    },
    {
      "cell_type": "code",
      "source": [
        "weight = np.array([1,1])\n",
        "bias = -1\n",
        "for x1, x2 in [(0,0), (0,1), (1,0), (1,1)]:\n",
        "    sum = weight[0] * x1 + weight[1] * x2 + bias\n",
        "    print(sum)"
      ],
      "metadata": {
        "id": "VtxM8DcsU-XL",
        "colab": {
          "base_uri": "https://localhost:8080/"
        },
        "outputId": "18a37209-36ac-4543-da7e-5c236f4d781a"
      },
      "execution_count": null,
      "outputs": [
        {
          "output_type": "stream",
          "name": "stdout",
          "text": [
            "-1\n",
            "0\n",
            "0\n",
            "1\n"
          ]
        }
      ]
    },
    {
      "cell_type": "code",
      "source": [
        "for x1, x2 in [(0,0), (0,1), (1,0), (1,1)]:\n",
        "    sum = weight[0] * x1 + weight[1] * x2 + bias\n",
        "    print(1 if sum > 0 else 0)"
      ],
      "metadata": {
        "id": "HDsTapYZWB12",
        "colab": {
          "base_uri": "https://localhost:8080/"
        },
        "outputId": "8607973a-dff7-4804-fd0c-5f4f1731ace3"
      },
      "execution_count": null,
      "outputs": [
        {
          "output_type": "stream",
          "name": "stdout",
          "text": [
            "0\n",
            "0\n",
            "0\n",
            "1\n"
          ]
        }
      ]
    },
    {
      "cell_type": "code",
      "source": [
        "for x1, x2 in [(0,0), (0,1), (1,0), (1,1)]:\n",
        "    x = np.array([x1, x2])\n",
        "    sum = np.dot(weight, x) + bias\n",
        "    print(1 if sum > 0 else 0)"
      ],
      "metadata": {
        "id": "cYuXtkaxWZCU",
        "colab": {
          "base_uri": "https://localhost:8080/"
        },
        "outputId": "1bb5cd98-30ee-42cf-eb87-07e563166b3e"
      },
      "execution_count": null,
      "outputs": [
        {
          "output_type": "stream",
          "name": "stdout",
          "text": [
            "0\n",
            "0\n",
            "0\n",
            "1\n"
          ]
        }
      ]
    },
    {
      "cell_type": "code",
      "source": [
        "def and_gate(x1, x2):\n",
        "    weight = np.array([1,1])\n",
        "    bias = -1\n",
        "    X = np.array([x1, x2])\n",
        "    sum = np.dot(weight, X) + bias\n",
        "    return 1 if sum > 0 else 0"
      ],
      "metadata": {
        "id": "4_9WCP52Wlrx"
      },
      "execution_count": null,
      "outputs": []
    },
    {
      "cell_type": "code",
      "source": [
        "for x1, x2 in [(0,0), (0,1), (1,0), (1,1)]:\n",
        "    print(and_gate(x1, x2))"
      ],
      "metadata": {
        "id": "Y5GdajYIXjnN",
        "colab": {
          "base_uri": "https://localhost:8080/"
        },
        "outputId": "74116b17-f8dc-4bc1-e1e0-22c7022ebbd3"
      },
      "execution_count": null,
      "outputs": [
        {
          "output_type": "stream",
          "name": "stdout",
          "text": [
            "0\n",
            "0\n",
            "0\n",
            "1\n"
          ]
        }
      ]
    },
    {
      "cell_type": "markdown",
      "source": [
        "- OR gate"
      ],
      "metadata": {
        "id": "gRp2K597YN13"
      }
    },
    {
      "cell_type": "code",
      "source": [
        "weight = np.array([2,2])\n",
        "bias = -1\n",
        "for x1, x2 in [(0,0), (0,1), (1,0), (1,1)]:\n",
        "    sum = weight[0] * x1 + weight[1] * x2 + bias\n",
        "    print(sum)"
      ],
      "metadata": {
        "id": "MXNSs9DtYIlb",
        "colab": {
          "base_uri": "https://localhost:8080/"
        },
        "outputId": "97d345b8-da2d-4b54-a49c-4a42c003efa0"
      },
      "execution_count": null,
      "outputs": [
        {
          "output_type": "stream",
          "name": "stdout",
          "text": [
            "-1\n",
            "1\n",
            "1\n",
            "3\n"
          ]
        }
      ]
    },
    {
      "cell_type": "code",
      "source": [
        "def or_gate(x1, x2):\n",
        "    weight = np.array([2,2])\n",
        "    bias = -1\n",
        "    X = np.array([x1, x2])\n",
        "    sum = np.dot(weight, X) + bias\n",
        "    return 1 if sum > 0 else 0"
      ],
      "metadata": {
        "id": "cBQtYo-0YnV0"
      },
      "execution_count": null,
      "outputs": []
    },
    {
      "cell_type": "code",
      "source": [
        "for x1, x2 in [(0,0), (0,1), (1,0), (1,1)]:\n",
        "    print(or_gate(x1, x2))"
      ],
      "metadata": {
        "id": "f41gJ5gOYxC9",
        "colab": {
          "base_uri": "https://localhost:8080/"
        },
        "outputId": "13683dc3-e6e5-437b-bc95-c7bdec9494c2"
      },
      "execution_count": null,
      "outputs": [
        {
          "output_type": "stream",
          "name": "stdout",
          "text": [
            "0\n",
            "1\n",
            "1\n",
            "1\n"
          ]
        }
      ]
    },
    {
      "cell_type": "markdown",
      "source": [
        "- NAND gate"
      ],
      "metadata": {
        "id": "QR_-CA29Y-W6"
      }
    },
    {
      "cell_type": "code",
      "source": [
        "def nand_gate(x1, x2):\n",
        "    weight = np.array([-2,-2])\n",
        "    bias = 3\n",
        "    X = np.array([x1, x2])\n",
        "    sum = np.dot(weight, X) + bias\n",
        "    return 1 if sum > 0 else 0"
      ],
      "metadata": {
        "id": "lTjnLOe0Y0B6"
      },
      "execution_count": null,
      "outputs": []
    },
    {
      "cell_type": "code",
      "source": [
        "for x1, x2 in [(0,0), (0,1), (1,0), (1,1)]:\n",
        "    print(nand_gate(x1, x2))"
      ],
      "metadata": {
        "id": "u0hLeNGMZM9g",
        "colab": {
          "base_uri": "https://localhost:8080/"
        },
        "outputId": "67df3658-19f7-4616-c115-f5b3fee894d4"
      },
      "execution_count": null,
      "outputs": [
        {
          "output_type": "stream",
          "name": "stdout",
          "text": [
            "1\n",
            "1\n",
            "1\n",
            "0\n"
          ]
        }
      ]
    },
    {
      "cell_type": "markdown",
      "source": [
        "- 종합"
      ],
      "metadata": {
        "id": "c1BhQdCcZfQq"
      }
    },
    {
      "cell_type": "code",
      "source": [
        "print('x1,x2\\t\\tOR\\tAND\\tNAND')\n",
        "for x1, x2 in [(0,0), (0,1), (1,0), (1,1)]:\n",
        "    print(f'{x1:2d},{x2:2d}\\t\\t{or_gate(x1,x2)}\\t{and_gate(x1,x2)}\\t{nand_gate(x1,x2)}')"
      ],
      "metadata": {
        "id": "tK0gNB4iZeeI",
        "colab": {
          "base_uri": "https://localhost:8080/"
        },
        "outputId": "fb883100-d134-4f48-b555-cde7265bc6cb"
      },
      "execution_count": null,
      "outputs": [
        {
          "output_type": "stream",
          "name": "stdout",
          "text": [
            "x1,x2\t\tOR\tAND\tNAND\n",
            " 0, 0\t\t0\t0\t1\n",
            " 0, 1\t\t1\t0\t1\n",
            " 1, 0\t\t1\t0\t1\n",
            " 1, 1\t\t1\t1\t0\n"
          ]
        }
      ]
    },
    {
      "cell_type": "code",
      "source": [
        ""
      ],
      "metadata": {
        "id": "BlNOUt8lZQXS"
      },
      "execution_count": null,
      "outputs": []
    }
  ]
}