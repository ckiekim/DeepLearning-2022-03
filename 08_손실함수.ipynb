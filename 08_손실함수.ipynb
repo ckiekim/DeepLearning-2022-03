{
  "nbformat": 4,
  "nbformat_minor": 0,
  "metadata": {
    "colab": {
      "name": "8_손실함수.ipynb",
      "provenance": [],
      "collapsed_sections": []
    },
    "kernelspec": {
      "name": "python3",
      "display_name": "Python 3"
    },
    "language_info": {
      "name": "python"
    }
  },
  "cells": [
    {
      "cell_type": "markdown",
      "source": [
        "# Unit 8. 손실 함수(Loss Function)"
      ],
      "metadata": {
        "id": "-Cqa-bnLVGj6"
      }
    },
    {
      "cell_type": "code",
      "execution_count": null,
      "metadata": {
        "id": "N1soSUJmU5vj"
      },
      "outputs": [],
      "source": [
        "import numpy as np\n",
        "import matplotlib.pyplot as plt"
      ]
    },
    {
      "cell_type": "code",
      "source": [
        "yhat = np.array([0.1, 0.8, 0.1, 0])\n",
        "yhat2 = np.array([0.1, 0.2, 0.8, 0])\n",
        "y = np.array([0,1,0,0])\n",
        "N = y.size"
      ],
      "metadata": {
        "id": "7dpQjdzYVRir"
      },
      "execution_count": null,
      "outputs": []
    },
    {
      "cell_type": "markdown",
      "source": [
        "- 평균 제곱 오차(MSE: Mean Squared Error)"
      ],
      "metadata": {
        "id": "DafMhDq1VpKB"
      }
    },
    {
      "cell_type": "code",
      "source": [
        "mse = np.sum(np.square(yhat - y)) / N\n",
        "mse2 = np.sum(np.square(yhat2 - y)) / N\n",
        "mse, mse2"
      ],
      "metadata": {
        "id": "M8fLJrF2WeYK"
      },
      "execution_count": null,
      "outputs": []
    },
    {
      "cell_type": "markdown",
      "source": [
        "- 평균 제곱근 오차(RMSE: Root Mean Squared Error)"
      ],
      "metadata": {
        "id": "1jTeigNoXSps"
      }
    },
    {
      "cell_type": "code",
      "source": [
        "rmse = np.sqrt(mse)\n",
        "rmse2 = np.sqrt(mse2)\n",
        "rmse, rmse2"
      ],
      "metadata": {
        "id": "eDXNRcaOWxTQ"
      },
      "execution_count": null,
      "outputs": []
    },
    {
      "cell_type": "markdown",
      "source": [
        "- 평균 절대 오차(MAE: Mean Absolute Error)"
      ],
      "metadata": {
        "id": "lycc8QBdXpzg"
      }
    },
    {
      "cell_type": "code",
      "source": [
        "mae = np.sum(np.abs(yhat - y)) / N\n",
        "mae2 = np.sum(np.abs(yhat2 - y)) / N\n",
        "mae, mae2"
      ],
      "metadata": {
        "id": "GwNHbVjAXnzp"
      },
      "execution_count": null,
      "outputs": []
    },
    {
      "cell_type": "markdown",
      "source": [
        "- Categorical Cross-Entorpy"
      ],
      "metadata": {
        "id": "UROSxuCFamZV"
      }
    },
    {
      "cell_type": "code",
      "source": [
        "def cross_entropy_error(y, t):\n",
        "    if y.ndim == 1:\n",
        "        y = y.reshape(1, y.size)\n",
        "        t = t.reshape(1, t.size)\n",
        "    if y.size == t.size:\n",
        "        t = t.argmax(axis=1)\n",
        "    batch_size = y.shape[0]\n",
        "    return -np.sum(np.log(y[np.arange(batch_size), t])) / batch_size"
      ],
      "metadata": {
        "id": "ZQc7GWKUX9Zz"
      },
      "execution_count": null,
      "outputs": []
    },
    {
      "cell_type": "code",
      "source": [
        "cce = cross_entropy_error(yhat, y)\n",
        "cce2 = cross_entropy_error(yhat2, y)\n",
        "cce, cce2"
      ],
      "metadata": {
        "id": "hJqaRzpSlQQo"
      },
      "execution_count": null,
      "outputs": []
    },
    {
      "cell_type": "markdown",
      "source": [
        "- Binary Cross-Entropy"
      ],
      "metadata": {
        "id": "YQ0r9-fMb1iZ"
      }
    },
    {
      "cell_type": "code",
      "source": [
        "xs = np.linspace(0.001, 0.999, 999)\n",
        "plt.figure(figsize=(12,8))\n",
        "plt.subplot(221)\n",
        "plt.plot(xs, np.log(xs)), plt.title('log x'), plt.grid()\n",
        "plt.subplot(222)\n",
        "plt.plot(xs, -np.log(xs)), plt.title('-log x'), plt.grid()\n",
        "plt.subplot(223)\n",
        "plt.plot(xs, np.log(1 - xs)), plt.title('log (1-x)'), plt.grid()\n",
        "plt.subplot(224)\n",
        "plt.plot(xs, -np.log(1 - xs)), plt.title('-log (1-x)'), plt.grid()\n",
        "plt.show()"
      ],
      "metadata": {
        "id": "fHgAD6x2b6WE"
      },
      "execution_count": null,
      "outputs": []
    },
    {
      "cell_type": "code",
      "source": [
        "plt.plot(xs, -np.log(xs), lw=2)\n",
        "plt.plot(xs, -np.log(1 - xs), lw=2)\n",
        "plt.title('-log x, -log (1-x)'), plt.grid()\n",
        "plt.show()"
      ],
      "metadata": {
        "id": "-wGxnJMQcjO6"
      },
      "execution_count": null,
      "outputs": []
    },
    {
      "cell_type": "code",
      "source": [
        "plt.figure(figsize=(10,6))\n",
        "xs1 = np.linspace(0.001,0.5,500)\n",
        "xs2 = np.linspace(0.5,0.999,500)\n",
        "plt.plot(xs1, -np.log(xs1), 'r-', lw=2)\n",
        "plt.plot(xs2, -np.log(1 - xs2), 'r-', lw=2)\n",
        "plt.plot(xs2, -np.log(xs2), 'g-', lw=1)\n",
        "plt.plot(xs1, -np.log(1 - xs1), 'g-', lw=1)\n",
        "plt.title('binary cross entropy'), plt.grid()\n",
        "plt.show()"
      ],
      "metadata": {
        "id": "WTpGjGBRdvNu"
      },
      "execution_count": null,
      "outputs": []
    },
    {
      "cell_type": "code",
      "source": [
        ""
      ],
      "metadata": {
        "id": "NW28XaOwf9Ji"
      },
      "execution_count": null,
      "outputs": []
    }
  ]
}